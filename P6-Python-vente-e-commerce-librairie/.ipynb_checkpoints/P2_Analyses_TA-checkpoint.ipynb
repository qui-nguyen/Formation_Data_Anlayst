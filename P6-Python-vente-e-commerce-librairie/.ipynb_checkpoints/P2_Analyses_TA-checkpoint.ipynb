{
 "cells": [
  {
   "cell_type": "markdown",
   "id": "1af48a3f",
   "metadata": {},
   "source": [
    "<img src=\"Logo_P6.PNG\" height=\"400\" width=\"400\" >\n",
    "<h1 style=\"color:blue; text-align:center; background-color:AliceBlue; font-size:300%; font-family:verdana; border:2px solid DodgerBlue\"><br>ANALYSE DE LA VENTE EN LIGNE<br>\n",
    "<h5 style=\"color:black; text-align:right\">NGUYEN Huynh Thanh Qui<br>Septembre 2021<br></h5>\n",
    "</h1>"
   ]
  },
  {
   "cell_type": "code",
   "execution_count": 1,
   "id": "2828479b",
   "metadata": {},
   "outputs": [],
   "source": [
    "# ! pip install pingouin"
   ]
  },
  {
   "cell_type": "code",
   "execution_count": 2,
   "id": "b968084c",
   "metadata": {},
   "outputs": [],
   "source": [
    "#Importation de bibliothèques\n",
    "import pandas as pd\n",
    "import  matplotlib.pyplot as plt\n",
    "import numpy as np\n",
    "import seaborn as sns\n",
    "import colorama\n",
    "from colorama import Fore, Back, Style\n",
    "import pingouin as pg"
   ]
  },
  {
   "cell_type": "code",
   "execution_count": 3,
   "id": "cac2e805",
   "metadata": {},
   "outputs": [],
   "source": [
    "#Lecture de données\n",
    "\n",
    "#Lecture des données\n",
    "transactions_web=pd.read_csv('transactions_web.csv')\n",
    "customers=pd.read_csv('customers.csv')"
   ]
  },
  {
   "cell_type": "markdown",
   "id": "8854fb67",
   "metadata": {},
   "source": [
    "<h2 style=\"color:black; text-align:center; background-color:AliceBlue; font-size:150%; font-family:Georgia; border:2px solid DodgerBlue\"><br>I. Analyse des données du chiffre d'affaires<br></h2>"
   ]
  },
  {
   "cell_type": "markdown",
   "id": "aa9da7a2",
   "metadata": {},
   "source": [
    "<h3 style=\"color:black; text-align:center;font-size:100%, font-family:Georgia; border:2px solid DodgerBlue\"> <br>PARTIE 1 <br><br> Indicateurs, graphiques et l'évolution dans le temps du chiffre d'affaires<br></h3>"
   ]
  },
  {
   "cell_type": "markdown",
   "id": "fe86e8d7",
   "metadata": {},
   "source": [
    "<ul style=\"font-family:Time\"><b><br>Les indicateurs à analyser de la vente en ligne:<br></b>\n",
    "    <li>nombre de commandes (nombes de sessions réalisées)</li>\n",
    "    <li>nombres d'articles achetés</li>\n",
    "    <li>panier moyen ???</li>\n",
    "    <li>chiffre d'affaires (CA) (par année et sur l'ensemble de la période)</li>\n",
    "    <li>évolution du temps des indicateurs cités en-dessus</li>\n",
    "    <li>évolution dans le temps des indicateurs cités en-dessus</li>\n",
    "\n",
    "<b><u><br> Remarque: <br></u></b>\n",
    "Ici, on observe 2 périodes de la vente : <b>Mars 2021 - Février 2022</b> et <b>Mars 2022 - Février 2023</b>.\n",
    "Afin de simplifier la nomenclature, elles seront appellées respectivement <b>2021</b> et <b>2022</b>; et <b>2021-2023</b> pour l'ensemble des 2 périodes\n",
    "  <ul>"
   ]
  },
  {
   "cell_type": "markdown",
   "id": "597196ee",
   "metadata": {},
   "source": [
    "<h4 style=\"color:black; font-family:verdana\"> <br>1. Les indicateurs principaux de la vente en ligne CA ???<br></h4>"
   ]
  },
  {
   "cell_type": "markdown",
   "id": "83a8e897",
   "metadata": {},
   "source": [
    "<b style=\"font-family:Time\"><b><br>a. <u>Période 03/2021-02/2022 ou 2021 <br></u></b>"
   ]
  },
  {
   "cell_type": "code",
   "execution_count": 4,
   "id": "b6d8e948",
   "metadata": {},
   "outputs": [],
   "source": [
    "#CA de Mars 2021 à Février 2022\n",
    "trs_2021=transactions_web.loc[transactions_web[\"month\"].between('2021-03-01', '2022-02-01')]\n",
    "panier_moy_2021=round(trs_2021['price'].sum()/len(trs_2021.groupby(by='session_id')),2)"
   ]
  },
  {
   "cell_type": "markdown",
   "id": "e4ff0296",
   "metadata": {},
   "source": [
    "<b style=\"font-family:Time\"><b><br>b. <u>Période 03/2022-02/2023 ou 2022 <br></u></b>"
   ]
  },
  {
   "cell_type": "code",
   "execution_count": 5,
   "id": "1d9028b2",
   "metadata": {},
   "outputs": [],
   "source": [
    "#CA de Mars 2022 à Février 2023\n",
    "trs_2022=transactions_web.loc[transactions_web[\"month\"].between('2022-03-01', '2023-02-01')]\n",
    "panier_moy_2022=round(trs_2022['price'].sum()/len(trs_2022.groupby(by='session_id')),2)"
   ]
  },
  {
   "cell_type": "markdown",
   "id": "96dc7b92",
   "metadata": {},
   "source": [
    "<b style=\"font-family:Time\"><b><br>c. <u>Tableau des indicateurs de la vente en ligne <br></u></b>"
   ]
  },
  {
   "cell_type": "code",
   "execution_count": 6,
   "id": "337d9422",
   "metadata": {},
   "outputs": [
    {
     "name": "stdout",
     "output_type": "stream",
     "text": [
      "\u001b[34m\u001b[1mLes indicateurs et l'évolution de la vente en ligne (03/2021-02/2023)\n"
     ]
    },
    {
     "data": {
      "text/html": [
       "<div>\n",
       "<style scoped>\n",
       "    .dataframe tbody tr th:only-of-type {\n",
       "        vertical-align: middle;\n",
       "    }\n",
       "\n",
       "    .dataframe tbody tr th {\n",
       "        vertical-align: top;\n",
       "    }\n",
       "\n",
       "    .dataframe thead th {\n",
       "        text-align: right;\n",
       "    }\n",
       "</style>\n",
       "<table border=\"1\" class=\"dataframe\">\n",
       "  <thead>\n",
       "    <tr style=\"text-align: right;\">\n",
       "      <th></th>\n",
       "      <th>2021</th>\n",
       "      <th>2022</th>\n",
       "      <th>2021-2022</th>\n",
       "      <th>Evolution(%)</th>\n",
       "    </tr>\n",
       "  </thead>\n",
       "  <tbody>\n",
       "    <tr>\n",
       "      <th>CA (euros)</th>\n",
       "      <td>5832945.24</td>\n",
       "      <td>6023375.77</td>\n",
       "      <td>11856321.01</td>\n",
       "      <td>3.264741</td>\n",
       "    </tr>\n",
       "    <tr>\n",
       "      <th>Nombre de produits vendus</th>\n",
       "      <td>337288.00</td>\n",
       "      <td>342044.00</td>\n",
       "      <td>679332.00</td>\n",
       "      <td>2.014101</td>\n",
       "    </tr>\n",
       "    <tr>\n",
       "      <th>Nombre de sessions réalisées</th>\n",
       "      <td>169194.00</td>\n",
       "      <td>173121.00</td>\n",
       "      <td>342315.00</td>\n",
       "      <td>2.321004</td>\n",
       "    </tr>\n",
       "    <tr>\n",
       "      <th>Panier moyen (euros)</th>\n",
       "      <td>34.47</td>\n",
       "      <td>34.79</td>\n",
       "      <td>34.63</td>\n",
       "      <td>0.928343</td>\n",
       "    </tr>\n",
       "  </tbody>\n",
       "</table>\n",
       "</div>"
      ],
      "text/plain": [
       "                                    2021        2022    2021-2022  \\\n",
       "CA (euros)                    5832945.24  6023375.77  11856321.01   \n",
       "Nombre de produits vendus      337288.00   342044.00    679332.00   \n",
       "Nombre de sessions réalisées   169194.00   173121.00    342315.00   \n",
       "Panier moyen (euros)               34.47       34.79        34.63   \n",
       "\n",
       "                              Evolution(%)  \n",
       "CA (euros)                        3.264741  \n",
       "Nombre de produits vendus         2.014101  \n",
       "Nombre de sessions réalisées      2.321004  \n",
       "Panier moyen (euros)              0.928343  "
      ]
     },
     "metadata": {},
     "output_type": "display_data"
    }
   ],
   "source": [
    "analyse_1 = pd.DataFrame({'2021': [trs_2021['price'].sum()\n",
    "                            ,trs_2021['id_prod'].count()\n",
    "                            ,len(trs_2021.groupby(by='session_id'))\n",
    "                            ,panier_moy_2021]\n",
    "                    ,'2022':[trs_2022['price'].sum()\n",
    "                            ,trs_2022['id_prod'].count()\n",
    "                            ,len(trs_2022.groupby(by='session_id'))\n",
    "                            ,panier_moy_2022]\n",
    "                    ,'2021-2022': [trs_2022['price'].sum() + trs_2021['price'].sum()\n",
    "                                 ,trs_2022['id_prod'].count() + trs_2021['id_prod'].count()\n",
    "                                 ,len(trs_2022.groupby(by='session_id'))+len(trs_2021.groupby(by='session_id'))\n",
    "                                 ,(panier_moy_2021 + panier_moy_2022)/2\n",
    "                                  ]\n",
    "                    ,'Evolution(%)': [(trs_2022['price'].sum()-trs_2021['price'].sum())*100/trs_2021['price'].sum()\n",
    "                                    ,(trs_2022['id_prod'].count()+trs_2021['id_prod'].count())/trs_2021['id_prod'].count()\n",
    "                                    ,(len(trs_2022.groupby(by='session_id'))-len(trs_2021.groupby(by='session_id')))*100/len(trs_2021.groupby(by='session_id'))\n",
    "                                    ,(panier_moy_2022-panier_moy_2021)*100/panier_moy_2021 \n",
    "                                     ]\n",
    "                   }\n",
    "                    ,index = ['CA (euros)'\n",
    "                              ,'Nombre de produits vendus'\n",
    "                              ,'Nombre de sessions réalisées'\n",
    "                              ,'Panier moyen (euros)'\n",
    "                             ])\n",
    "print(Fore.BLUE + Style.BRIGHT + f\"Les indicateurs et l'évolution de la vente en ligne (03/2021-02/2023)\")\n",
    "display(analyse_1)\n",
    "\n",
    "#Formater les chiffres décimales\n",
    "pd.options.display.float_format = '{:.2f}'.format"
   ]
  },
  {
   "cell_type": "markdown",
   "id": "e4b6aed1",
   "metadata": {},
   "source": [
    "<ul style=\"font-family:Time\"><b> <u>En résumé</u> : </b>\n",
    "      <li>La vente en ligne <i><b>se progresse</b></i> entre <b><i>03/2021 et 02/2023</i></b></li>\n",
    "    <li>La vente en ligne <i><b>progresse</b></i> entre <b><i>03/2021 et 02/2023</i></b></li>\n",
    "      <li>L'estimation des indicateurs (???) de la vente augmente de <i><b>2 à 3%</b></i> entre <b><i>03/2021 et 02/2023</i></b></li>\n",
    "      <li>La moyenne ??? (le montant moyen) du panier est environ <b><i>34,63 euros</i></b> et augmente <b><i>0,9%</i></b> sur l'ensemble période</li>\n",
    "  <ul>"
   ]
  },
  {
   "cell_type": "markdown",
   "id": "6e266e70",
   "metadata": {},
   "source": [
    "<h4 style=\"color:black; font-family:verdana\"> <br>2. Focus sur le chiffre d'affaires de la vente en ligne<br></h4>"
   ]
  },
  {
   "cell_type": "code",
   "execution_count": 7,
   "id": "1e68db87",
   "metadata": {},
   "outputs": [
    {
     "name": "stdout",
     "output_type": "stream",
     "text": [
      "\u001b[34m\u001b[1mRésumé de la vente en ligne sur 24 mois\n"
     ]
    },
    {
     "data": {
      "text/html": [
       "<div>\n",
       "<style scoped>\n",
       "    .dataframe tbody tr th:only-of-type {\n",
       "        vertical-align: middle;\n",
       "    }\n",
       "\n",
       "    .dataframe tbody tr th {\n",
       "        vertical-align: top;\n",
       "    }\n",
       "\n",
       "    .dataframe thead th {\n",
       "        text-align: right;\n",
       "    }\n",
       "</style>\n",
       "<table border=\"1\" class=\"dataframe\">\n",
       "  <thead>\n",
       "    <tr style=\"text-align: right;\">\n",
       "      <th></th>\n",
       "      <th>month</th>\n",
       "      <th>Nombre de sessions</th>\n",
       "      <th>Nombre d'articles vendus</th>\n",
       "      <th>CA (euros)</th>\n",
       "    </tr>\n",
       "  </thead>\n",
       "  <tbody>\n",
       "    <tr>\n",
       "      <th>0</th>\n",
       "      <td>2021-03-01</td>\n",
       "      <td>14203</td>\n",
       "      <td>28610</td>\n",
       "      <td>482546.18</td>\n",
       "    </tr>\n",
       "    <tr>\n",
       "      <th>1</th>\n",
       "      <td>2021-04-01</td>\n",
       "      <td>13972</td>\n",
       "      <td>28457</td>\n",
       "      <td>476273.52</td>\n",
       "    </tr>\n",
       "    <tr>\n",
       "      <th>2</th>\n",
       "      <td>2021-05-01</td>\n",
       "      <td>14169</td>\n",
       "      <td>28293</td>\n",
       "      <td>493037.31</td>\n",
       "    </tr>\n",
       "    <tr>\n",
       "      <th>3</th>\n",
       "      <td>2021-06-01</td>\n",
       "      <td>13839</td>\n",
       "      <td>26857</td>\n",
       "      <td>484170.67</td>\n",
       "    </tr>\n",
       "    <tr>\n",
       "      <th>4</th>\n",
       "      <td>2021-07-01</td>\n",
       "      <td>13573</td>\n",
       "      <td>24742</td>\n",
       "      <td>482882.32</td>\n",
       "    </tr>\n",
       "    <tr>\n",
       "      <th>5</th>\n",
       "      <td>2021-08-01</td>\n",
       "      <td>13593</td>\n",
       "      <td>25659</td>\n",
       "      <td>482390.36</td>\n",
       "    </tr>\n",
       "    <tr>\n",
       "      <th>6</th>\n",
       "      <td>2021-09-01</td>\n",
       "      <td>14850</td>\n",
       "      <td>33326</td>\n",
       "      <td>507381.44</td>\n",
       "    </tr>\n",
       "    <tr>\n",
       "      <th>7</th>\n",
       "      <td>2021-10-01</td>\n",
       "      <td>11553</td>\n",
       "      <td>21606</td>\n",
       "      <td>320880.85</td>\n",
       "    </tr>\n",
       "    <tr>\n",
       "      <th>8</th>\n",
       "      <td>2021-11-01</td>\n",
       "      <td>14608</td>\n",
       "      <td>28321</td>\n",
       "      <td>516285.03</td>\n",
       "    </tr>\n",
       "    <tr>\n",
       "      <th>9</th>\n",
       "      <td>2021-12-01</td>\n",
       "      <td>15567</td>\n",
       "      <td>32464</td>\n",
       "      <td>525999.39</td>\n",
       "    </tr>\n",
       "    <tr>\n",
       "      <th>10</th>\n",
       "      <td>2022-01-01</td>\n",
       "      <td>14979</td>\n",
       "      <td>29348</td>\n",
       "      <td>525397.64</td>\n",
       "    </tr>\n",
       "    <tr>\n",
       "      <th>11</th>\n",
       "      <td>2022-02-01</td>\n",
       "      <td>14339</td>\n",
       "      <td>29605</td>\n",
       "      <td>535700.53</td>\n",
       "    </tr>\n",
       "    <tr>\n",
       "      <th>12</th>\n",
       "      <td>2022-03-01</td>\n",
       "      <td>14827</td>\n",
       "      <td>29707</td>\n",
       "      <td>515585.56</td>\n",
       "    </tr>\n",
       "    <tr>\n",
       "      <th>13</th>\n",
       "      <td>2022-04-01</td>\n",
       "      <td>14086</td>\n",
       "      <td>27616</td>\n",
       "      <td>493163.16</td>\n",
       "    </tr>\n",
       "    <tr>\n",
       "      <th>14</th>\n",
       "      <td>2022-05-01</td>\n",
       "      <td>14960</td>\n",
       "      <td>29991</td>\n",
       "      <td>517320.28</td>\n",
       "    </tr>\n",
       "    <tr>\n",
       "      <th>15</th>\n",
       "      <td>2022-06-01</td>\n",
       "      <td>14391</td>\n",
       "      <td>28511</td>\n",
       "      <td>496098.23</td>\n",
       "    </tr>\n",
       "    <tr>\n",
       "      <th>16</th>\n",
       "      <td>2022-07-01</td>\n",
       "      <td>14653</td>\n",
       "      <td>28682</td>\n",
       "      <td>510923.88</td>\n",
       "    </tr>\n",
       "    <tr>\n",
       "      <th>17</th>\n",
       "      <td>2022-08-01</td>\n",
       "      <td>14587</td>\n",
       "      <td>28552</td>\n",
       "      <td>506561.11</td>\n",
       "    </tr>\n",
       "    <tr>\n",
       "      <th>18</th>\n",
       "      <td>2022-09-01</td>\n",
       "      <td>14264</td>\n",
       "      <td>28315</td>\n",
       "      <td>494220.10</td>\n",
       "    </tr>\n",
       "    <tr>\n",
       "      <th>19</th>\n",
       "      <td>2022-10-01</td>\n",
       "      <td>14660</td>\n",
       "      <td>28974</td>\n",
       "      <td>508035.07</td>\n",
       "    </tr>\n",
       "    <tr>\n",
       "      <th>20</th>\n",
       "      <td>2022-11-01</td>\n",
       "      <td>14226</td>\n",
       "      <td>28574</td>\n",
       "      <td>496793.97</td>\n",
       "    </tr>\n",
       "    <tr>\n",
       "      <th>21</th>\n",
       "      <td>2022-12-01</td>\n",
       "      <td>14635</td>\n",
       "      <td>28625</td>\n",
       "      <td>510289.88</td>\n",
       "    </tr>\n",
       "    <tr>\n",
       "      <th>22</th>\n",
       "      <td>2023-01-01</td>\n",
       "      <td>14758</td>\n",
       "      <td>28945</td>\n",
       "      <td>517622.66</td>\n",
       "    </tr>\n",
       "    <tr>\n",
       "      <th>23</th>\n",
       "      <td>2023-02-01</td>\n",
       "      <td>13074</td>\n",
       "      <td>25552</td>\n",
       "      <td>456761.87</td>\n",
       "    </tr>\n",
       "  </tbody>\n",
       "</table>\n",
       "</div>"
      ],
      "text/plain": [
       "         month  Nombre de sessions  Nombre d'articles vendus  CA (euros)\n",
       "0   2021-03-01               14203                     28610   482546.18\n",
       "1   2021-04-01               13972                     28457   476273.52\n",
       "2   2021-05-01               14169                     28293   493037.31\n",
       "3   2021-06-01               13839                     26857   484170.67\n",
       "4   2021-07-01               13573                     24742   482882.32\n",
       "5   2021-08-01               13593                     25659   482390.36\n",
       "6   2021-09-01               14850                     33326   507381.44\n",
       "7   2021-10-01               11553                     21606   320880.85\n",
       "8   2021-11-01               14608                     28321   516285.03\n",
       "9   2021-12-01               15567                     32464   525999.39\n",
       "10  2022-01-01               14979                     29348   525397.64\n",
       "11  2022-02-01               14339                     29605   535700.53\n",
       "12  2022-03-01               14827                     29707   515585.56\n",
       "13  2022-04-01               14086                     27616   493163.16\n",
       "14  2022-05-01               14960                     29991   517320.28\n",
       "15  2022-06-01               14391                     28511   496098.23\n",
       "16  2022-07-01               14653                     28682   510923.88\n",
       "17  2022-08-01               14587                     28552   506561.11\n",
       "18  2022-09-01               14264                     28315   494220.10\n",
       "19  2022-10-01               14660                     28974   508035.07\n",
       "20  2022-11-01               14226                     28574   496793.97\n",
       "21  2022-12-01               14635                     28625   510289.88\n",
       "22  2023-01-01               14758                     28945   517622.66\n",
       "23  2023-02-01               13074                     25552   456761.87"
      ]
     },
     "metadata": {},
     "output_type": "display_data"
    }
   ],
   "source": [
    "#Préparation des informations de la vente en ligne \n",
    "nb_ventes=transactions_web.groupby(by='month')['id_prod'].count().to_frame().reset_index()\n",
    "#display(nb_ventes.head())\n",
    "\n",
    "CA_mois=transactions_web.groupby(by='month')['price'].sum().to_frame().reset_index()\n",
    "#display(CA_mois.head())\n",
    "\n",
    "#CA, nombre (nb) d'articles vendus/mois\n",
    "CA_nb_vente=nb_ventes.merge(CA_mois, on='month', how='outer')\n",
    "CA_nb_vente.rename(columns = {'id_prod': \"Nombre d'articles vendus\", 'price': 'CA (euros)'}, inplace = True) \n",
    "#display(CA_nb_vente.head())\n",
    "\n",
    "#Groupement de nombre de sessions réalisées par mois\n",
    "nb_sessions=transactions_web.groupby(by=['month','session_id']).count().reset_index()\\\n",
    ".groupby(by='month').count().reset_index()[['month','session_id']]\n",
    "\n",
    "#print(Fore.BLUE + Style.BRIGHT + f\"Nombre de sessions réalisées chaque mois\")\n",
    "#display(nb_sessions.shape)\n",
    "\n",
    "#Jointure de nombre de sessions réalisées et nombre d'articles vendus par mois\n",
    "nb_ventes=nb_sessions.merge(CA_nb_vente, on='month', how='outer')\n",
    "\n",
    "#Renommer les colonnes\n",
    "nb_ventes.rename(columns = {'session_id': \"Nombre de sessions\"}, inplace = True) \n",
    "print(Fore.BLUE + Style.BRIGHT + f\"Résumé de la vente en ligne sur 24 mois\")\n",
    "display(nb_ventes)"
   ]
  },
  {
   "cell_type": "code",
   "execution_count": 8,
   "id": "af9cc1e7",
   "metadata": {},
   "outputs": [
    {
     "data": {
      "text/html": [
       "<div>\n",
       "<style scoped>\n",
       "    .dataframe tbody tr th:only-of-type {\n",
       "        vertical-align: middle;\n",
       "    }\n",
       "\n",
       "    .dataframe tbody tr th {\n",
       "        vertical-align: top;\n",
       "    }\n",
       "\n",
       "    .dataframe thead th {\n",
       "        text-align: right;\n",
       "    }\n",
       "</style>\n",
       "<table border=\"1\" class=\"dataframe\">\n",
       "  <thead>\n",
       "    <tr style=\"text-align: right;\">\n",
       "      <th></th>\n",
       "      <th>month</th>\n",
       "      <th>Nombre d'articles vendus</th>\n",
       "      <th>CA (euros)</th>\n",
       "    </tr>\n",
       "  </thead>\n",
       "  <tbody>\n",
       "    <tr>\n",
       "      <th>7</th>\n",
       "      <td>2021-10-01</td>\n",
       "      <td>21606</td>\n",
       "      <td>320880.85</td>\n",
       "    </tr>\n",
       "  </tbody>\n",
       "</table>\n",
       "</div>"
      ],
      "text/plain": [
       "        month  Nombre d'articles vendus  CA (euros)\n",
       "7  2021-10-01                     21606   320880.85"
      ]
     },
     "metadata": {},
     "output_type": "display_data"
    },
    {
     "data": {
      "text/html": [
       "<div>\n",
       "<style scoped>\n",
       "    .dataframe tbody tr th:only-of-type {\n",
       "        vertical-align: middle;\n",
       "    }\n",
       "\n",
       "    .dataframe tbody tr th {\n",
       "        vertical-align: top;\n",
       "    }\n",
       "\n",
       "    .dataframe thead th {\n",
       "        text-align: right;\n",
       "    }\n",
       "</style>\n",
       "<table border=\"1\" class=\"dataframe\">\n",
       "  <thead>\n",
       "    <tr style=\"text-align: right;\">\n",
       "      <th></th>\n",
       "      <th>month</th>\n",
       "      <th>Nombre d'articles vendus</th>\n",
       "      <th>CA (euros)</th>\n",
       "    </tr>\n",
       "  </thead>\n",
       "  <tbody>\n",
       "    <tr>\n",
       "      <th>7</th>\n",
       "      <td>2021-10-01</td>\n",
       "      <td>21606</td>\n",
       "      <td>320880.85</td>\n",
       "    </tr>\n",
       "  </tbody>\n",
       "</table>\n",
       "</div>"
      ],
      "text/plain": [
       "        month  Nombre d'articles vendus  CA (euros)\n",
       "7  2021-10-01                     21606   320880.85"
      ]
     },
     "metadata": {},
     "output_type": "display_data"
    },
    {
     "name": "stdout",
     "output_type": "stream",
     "text": [
      "\u001b[34m\u001b[1mCA et le nombre d'articles vendus sont minimals en 01/10/2021\n"
     ]
    },
    {
     "data": {
      "text/html": [
       "<div>\n",
       "<style scoped>\n",
       "    .dataframe tbody tr th:only-of-type {\n",
       "        vertical-align: middle;\n",
       "    }\n",
       "\n",
       "    .dataframe tbody tr th {\n",
       "        vertical-align: top;\n",
       "    }\n",
       "\n",
       "    .dataframe thead th {\n",
       "        text-align: right;\n",
       "    }\n",
       "</style>\n",
       "<table border=\"1\" class=\"dataframe\">\n",
       "  <thead>\n",
       "    <tr style=\"text-align: right;\">\n",
       "      <th></th>\n",
       "      <th>month</th>\n",
       "      <th>Nombre d'articles vendus</th>\n",
       "      <th>CA (euros)</th>\n",
       "    </tr>\n",
       "  </thead>\n",
       "  <tbody>\n",
       "    <tr>\n",
       "      <th>11</th>\n",
       "      <td>2022-02-01</td>\n",
       "      <td>29605</td>\n",
       "      <td>535700.53</td>\n",
       "    </tr>\n",
       "  </tbody>\n",
       "</table>\n",
       "</div>"
      ],
      "text/plain": [
       "         month  Nombre d'articles vendus  CA (euros)\n",
       "11  2022-02-01                     29605   535700.53"
      ]
     },
     "metadata": {},
     "output_type": "display_data"
    },
    {
     "name": "stdout",
     "output_type": "stream",
     "text": [
      "\u001b[34m\u001b[1mCA est maximal en 01/02/2022\n"
     ]
    },
    {
     "data": {
      "text/html": [
       "<div>\n",
       "<style scoped>\n",
       "    .dataframe tbody tr th:only-of-type {\n",
       "        vertical-align: middle;\n",
       "    }\n",
       "\n",
       "    .dataframe tbody tr th {\n",
       "        vertical-align: top;\n",
       "    }\n",
       "\n",
       "    .dataframe thead th {\n",
       "        text-align: right;\n",
       "    }\n",
       "</style>\n",
       "<table border=\"1\" class=\"dataframe\">\n",
       "  <thead>\n",
       "    <tr style=\"text-align: right;\">\n",
       "      <th></th>\n",
       "      <th>month</th>\n",
       "      <th>Nombre d'articles vendus</th>\n",
       "      <th>CA (euros)</th>\n",
       "    </tr>\n",
       "  </thead>\n",
       "  <tbody>\n",
       "    <tr>\n",
       "      <th>6</th>\n",
       "      <td>2021-09-01</td>\n",
       "      <td>33326</td>\n",
       "      <td>507381.44</td>\n",
       "    </tr>\n",
       "  </tbody>\n",
       "</table>\n",
       "</div>"
      ],
      "text/plain": [
       "        month  Nombre d'articles vendus  CA (euros)\n",
       "6  2021-09-01                     33326   507381.44"
      ]
     },
     "metadata": {},
     "output_type": "display_data"
    },
    {
     "name": "stdout",
     "output_type": "stream",
     "text": [
      "\u001b[34m\u001b[1mLe nombre d'articles vendus est maximal en 01/09/2021\n"
     ]
    }
   ],
   "source": [
    "display(CA_nb_vente[CA_nb_vente[\"Nombre d'articles vendus\"] == (CA_nb_vente[\"Nombre d'articles vendus\"].min())])\n",
    "display(CA_nb_vente[CA_nb_vente['CA (euros)'] == (CA_nb_vente['CA (euros)'].min())])\n",
    "print(Fore.BLUE + Style.BRIGHT + f\"CA et le nombre d'articles vendus sont minimals en 01/10/2021\")\n",
    "\n",
    "display(CA_nb_vente[CA_nb_vente['CA (euros)'] == (CA_nb_vente['CA (euros)'].max())])\n",
    "print(Fore.BLUE + Style.BRIGHT + f\"CA est maximal en 01/02/2022\")\n",
    "\n",
    "display(CA_nb_vente[CA_nb_vente[\"Nombre d'articles vendus\"] == (CA_nb_vente[\"Nombre d'articles vendus\"].max())])\n",
    "print(Fore.BLUE + Style.BRIGHT + f\"Le nombre d'articles vendus est maximal en 01/09/2021\")"
   ]
  },
  {
   "cell_type": "markdown",
   "id": "9c01713e",
   "metadata": {},
   "source": [
    "<b style=\"font-family:Time\"><b><br>a. <u>La chute du chiffre d'affaires en 10/2021  </u><br></b>"
   ]
  },
  {
   "cell_type": "code",
   "execution_count": 9,
   "id": "5fc77814",
   "metadata": {},
   "outputs": [
    {
     "name": "stdout",
     "output_type": "stream",
     "text": [
      "\u001b[34m\u001b[1mCette représentation de CA par jour et par catégorie de livres nous montre qu'il existe une chute de CA en 10/2021, ce qui concerne la vente des produits de catégorie 1.Plus précisément, elle est présenté par la ligne descendue (du CA de la catégorie 1) en 10/2021, qui correspond seulement une liason des 2 points ou il n'y a pas de transactions au milieu des 2 extrémités de cette ligne)\n",
      "\u001b[34m\u001b[1mAfin de faciliter l'observation de cette chute, je me concentre sur le CA généré par la catégorie 1 du mois 10/2021. Elle est présentée par le dataframe ci dessous : \n"
     ]
    },
    {
     "data": {
      "text/html": [
       "<div>\n",
       "<style scoped>\n",
       "    .dataframe tbody tr th:only-of-type {\n",
       "        vertical-align: middle;\n",
       "    }\n",
       "\n",
       "    .dataframe tbody tr th {\n",
       "        vertical-align: top;\n",
       "    }\n",
       "\n",
       "    .dataframe thead th {\n",
       "        text-align: right;\n",
       "    }\n",
       "</style>\n",
       "<table border=\"1\" class=\"dataframe\">\n",
       "  <thead>\n",
       "    <tr style=\"text-align: right;\">\n",
       "      <th></th>\n",
       "      <th>price</th>\n",
       "    </tr>\n",
       "    <tr>\n",
       "      <th>new_date</th>\n",
       "      <th></th>\n",
       "    </tr>\n",
       "  </thead>\n",
       "  <tbody>\n",
       "    <tr>\n",
       "      <th>2021-10-01</th>\n",
       "      <td>7003.79</td>\n",
       "    </tr>\n",
       "    <tr>\n",
       "      <th>2021-10-28</th>\n",
       "      <td>6317.99</td>\n",
       "    </tr>\n",
       "    <tr>\n",
       "      <th>2021-10-29</th>\n",
       "      <td>6425.18</td>\n",
       "    </tr>\n",
       "    <tr>\n",
       "      <th>2021-10-30</th>\n",
       "      <td>6753.69</td>\n",
       "    </tr>\n",
       "    <tr>\n",
       "      <th>2021-10-31</th>\n",
       "      <td>7261.67</td>\n",
       "    </tr>\n",
       "  </tbody>\n",
       "</table>\n",
       "</div>"
      ],
      "text/plain": [
       "             price\n",
       "new_date          \n",
       "2021-10-01 7003.79\n",
       "2021-10-28 6317.99\n",
       "2021-10-29 6425.18\n",
       "2021-10-30 6753.69\n",
       "2021-10-31 7261.67"
      ]
     },
     "metadata": {},
     "output_type": "display_data"
    },
    {
     "name": "stdout",
     "output_type": "stream",
     "text": [
      "\u001b[34m\u001b[1mLe résultat de ce df montre que les livres de la catégorie 1 ne sont pas vendus entre 02/10/2021 et 27/10/2021 (rupture de stock?)\n"
     ]
    }
   ],
   "source": [
    "print(Fore.BLUE + Style.BRIGHT + f\"Cette représentation de CA par jour et par catégorie de livres nous montre qu'il existe une chute de CA en 10/2021, ce qui concerne la vente des produits de catégorie 1.\\\n",
    "Plus précisément, elle est présenté par la ligne descendue (du CA de la catégorie 1) en 10/2021, qui correspond seulement une liason des 2 points \\\n",
    "ou il n'y a pas de transactions au milieu des 2 extrémités de cette ligne)\")\n",
    "\n",
    "print(Fore.BLUE + Style.BRIGHT + f\"Afin de faciliter l'observation de cette chute, je me concentre sur le CA généré par la catégorie 1 du mois 10/2021. Elle est présentée par le dataframe ci dessous : \")\n",
    "chute_oct_2021=transactions_web[(transactions_web['new_date'] >= '2021-10-01') & (transactions_web['new_date'] <= '2021-10-31') & (transactions_web['categ'] == 1)]\\\n",
    ".groupby(by='new_date')['price'].sum()\n",
    "display(chute_oct_2021.to_frame())\n",
    "\n",
    "print(Fore.BLUE + Style.BRIGHT + f\"Le résultat de ce df montre que les livres de la catégorie 1 ne sont pas vendus entre 02/10/2021 et 27/10/2021 (rupture de stock?)\")"
   ]
  },
  {
   "cell_type": "code",
   "execution_count": null,
   "id": "9bc22b8a",
   "metadata": {
    "scrolled": true
   },
   "outputs": [
    {
     "name": "stdout",
     "output_type": "stream",
     "text": [
      "\u001b[34m\u001b[1mCette représentation de CA par jour et par catégorie de livres nous montre qu'il existe une chute de CA en 10/2021, ce qui concerne la vente des produits de la catégorie 1.Plus précisément, la ligne rose (qui présente du CA de la catégorie 1) est penchée en 10/2021 car elle corespond seulement d'une liason des 2 points ou il n'y a pas de transactions au milieu des 2 extrémités\n"
     ]
    }
   ],
   "source": [
    "chute_CA = transactions_web.groupby(['new_date', 'categ']).sum()['price'].to_frame().reset_index()\n",
    "#préparation du liste des mois pour axe x\n",
    "mois=nb_ventes.month.to_list()\n",
    "axes_x=np.array(mois)\n",
    "\n",
    "#Paramétrer d'affichage des 2 diagrammes\n",
    "figure = plt.figure(figsize = (30, 10))\n",
    "plt.gcf().subplots_adjust(left = 0.2, bottom = 0.2,\n",
    "                       right = 1.5, top = 1, \n",
    "                       wspace = 0.5, hspace = 0.5)\n",
    "\n",
    "#Représentation du CA par jour des 3 types catégories \n",
    "axes = figure.add_subplot(2, 2, 1)\n",
    "sns.lineplot(data=chute_CA, x=\"new_date\", y=\"price\", hue = 'categ').set(\n",
    "   title=\"Représentation du CA par jour des 3 types catégories sur l'emsemble période\",\n",
    "    xlabel=\"Mois\",\n",
    "    ylabel=\"Chiffre d'affaires (euros)\",\n",
    "    xticks=axes_x)\n",
    "plt.xticks(rotation=45)\n",
    "print(Fore.BLUE + Style.BRIGHT + f\"Cette représentation de CA par jour et par catégorie de livres nous montre qu'il existe une chute de CA en 10/2021, \\\n",
    "ce qui concerne la vente des produits de la catégorie 1.\\\n",
    "Plus précisément, la ligne rose (qui présente du CA de la catégorie 1) est penchée en 10/2021 car elle corespond seulement d'une liason des 2 points \\\n",
    "ou il n'y a pas de transactions au milieu des 2 extrémités\")\n",
    "\n",
    "#Représentation du CA par jour de la catégorie 1\n",
    "axes = figure.add_subplot(2, 2, 3)\n",
    "sns.lineplot(data=chute_CA, x=\"new_date\", y=\"price\").set(\n",
    "   title=\"Représentation du CA par jour de la catégorie 1 sur l'emsemble période\",\n",
    "    xlabel=\"Mois\",\n",
    "    ylabel=\"Chiffre d'affaires (euros)\",\n",
    "    xticks=axes_x)\n",
    "plt.xticks(rotation=45)\n",
    "print(Fore.BLUE + Style.BRIGHT + f\"Afin de faciliter l'observation de cette chute, je me concentre sur le CA généré par la catégorie 1 du mois 10/2021. \\\n",
    "Elle est présentée par le dataframe ci dessous : \")\n",
    "\n",
    "chute_oct_2021=transactions_web[(transactions_web['new_date'] >= '2021-10-01') & (transactions_web['new_date'] <= '2021-10-31') & (transactions_web['categ'] == 1)]\\\n",
    ".groupby(by='new_date')['price'].sum()\n",
    "display(chute_oct_2021.to_frame())\n",
    "\n",
    "print(Fore.BLUE + Style.BRIGHT + f\"Le résultat de ce df montre que les livres de la catégorie 1 ne sont pas vendus de 02/10/2021 à 27/10/2021\")"
   ]
  },
  {
   "cell_type": "code",
   "execution_count": null,
   "id": "f2e0e524",
   "metadata": {},
   "outputs": [],
   "source": [
    "transactions_web_copy = transactions_web.copy()\n",
    "transactions_web_copy['date'] = pd.to_datetime(transactions_web_copy.date)\n",
    "transactions_web_copy = transactions_web_copy.sort_values(by = 'date')\n",
    "transactions_web_copy['M_mobile'] = transactions_web_copy.price.rolling(7, min_periods = 1).mean()\n",
    "\n",
    "# Moyenne mobile\n",
    "figure = plt.figure(figsize = (20, 7))\n",
    "sns.lineplot(data=transactions_web_copy, x=\"new_date\", y=\"M_mobile\").set(\n",
    "   title=\"Représentation de la moyenne mobile du CA (par semaine) sur l'emsemble période\",\n",
    "    xlabel=\"Mois (03/2021-02/2023)\",\n",
    "    ylabel=\"Moyenne mobile du chiffre d'affaires (euros)\",\n",
    "    xticks=axes_x)\n",
    "plt.xticks(rotation=45)\n",
    "print()"
   ]
  },
  {
   "cell_type": "code",
   "execution_count": null,
   "id": "d9ba38ac",
   "metadata": {},
   "outputs": [],
   "source": [
    "#Prévision de CA en 2024\n",
    "#total_CA_mois=transactions_web.groupby(by='month_date')['price'].sum().reset_index()\n",
    "#display(total_CA_mois)\n",
    "\n",
    "#Régression linéaire\n",
    "#fit = np.polyfit(total_CA_mois.reset_index().index, total_CA_mois.reset_index().price, 1)\n",
    "#poly = np.poly1d(fit) \n",
    "#CA_2024=pd.Series(poly(np.arange(24, 36, 1)).round(2))\n",
    "#prevision_CA_2024=pd.DataFrame({'CA_prevision(euros)': np.array(CA_2024)})\n",
    "#prevision_CA_2024['month_2024']=pd.date_range(start='2023-03-01',end='2024-03-01',freq='M', closed=None)\n",
    "#prevision_CA_2024"
   ]
  },
  {
   "cell_type": "markdown",
   "id": "d16e4685",
   "metadata": {},
   "source": [
    "<b style=\"font-family:Time\"><b><br>b. <u>Evolution du CA et du nombre de ventes (nombre d'articles vendus) de 03/2021 à 02/2023 </u><br></b>"
   ]
  },
  {
   "cell_type": "code",
   "execution_count": null,
   "id": "351a2594",
   "metadata": {},
   "outputs": [],
   "source": [
    "# Diagramme 1\n",
    "# Tableau pour le tracé\n",
    "x = nb_ventes['month']\n",
    "y = nb_ventes['CA (euros)']\n",
    "y2 = nb_ventes[\"Nombre d'articles vendus\"]\n",
    "\n",
    "# Affichage des données de l'axe principal\n",
    "fig, ax1 = plt.subplots()\n",
    "fig.set_size_inches(20, 7)\n",
    "plt.xticks(rotation=45)\n",
    "\n",
    "color = 'tab:red'\n",
    "ax1.set_xlabel('Mois')\n",
    "ax1.set_ylabel(\"Chiffre d'affaires (euros)\", color=color)\n",
    "ax1.plot(x, y,marker=\"o\", color=color)\n",
    "ax1.tick_params(axis='y', labelcolor=color)\n",
    "ax1.tick_params(axis='x', labelcolor=color)\n",
    "\n",
    "ax1.grid(True)\n",
    "\n",
    "# Affichage de l'axe secondaire\n",
    "ax2 = ax1.twinx()  # Création d'un deuxième axe qui partage le même axe x\n",
    "\n",
    "color = 'tab:blue'\n",
    "ax2.set_ylabel(\"Nombre d'articles vendus\", color=color)\n",
    "ax2.plot(x, y2, marker=\"o\", color=color)\n",
    "ax2.tick_params(axis='y', labelcolor=color)\n",
    "ax2.grid(True)\n",
    "\n",
    "\n",
    "plt.title(\"Evolution du chiffre d'affaires et du nombre de ventes au cours du temps\")\n",
    "plt.show()\n",
    "print(Fore.BLUE + Style.BRIGHT + f\"Evolution du chiffre d'affaires et du nombre d'articles vendus de 03/2021 à 02/2023\")\n"
   ]
  },
  {
   "cell_type": "markdown",
   "id": "5da21f21",
   "metadata": {},
   "source": [
    "<ul style=\"font-family:Time\"><b> <u>Observation de l'évolution du CA et du nombre d'articles vendus de 03/2021 à 02/2023 :</u> </b>\n",
    "      <li>En générale, la vente en ligne est <b><i>stable</i></b> entre 03/2021 et 02/2023. Le CA et le nombre de produits vendus se varient en même sens, sauf la période de 07/2021 et la baisse de ces 2 indicateurs en 02/2023 (lié à la mise à jours des transactions)</li>\n",
    "      <li>La chute de la vente en 10/2021 existe toujours, concernant l'absence de la vente des livres de la catégorie 1 </li>\n",
    "  <ul>"
   ]
  },
  {
   "cell_type": "markdown",
   "id": "33069832",
   "metadata": {},
   "source": [
    "<b style=\"font-family:Time\"><b><br>c. <u>Evolution du nombre de ventes (nombre d'articles vendus et nombre de sessions de ventes) de 03/2021 à 02/2023 </u><br></b>"
   ]
  },
  {
   "cell_type": "code",
   "execution_count": null,
   "id": "16387350",
   "metadata": {
    "scrolled": false
   },
   "outputs": [],
   "source": [
    "# Diagramme 2\n",
    "# Tableau 2 pour le tracé\n",
    "x=nb_ventes['month']\n",
    "y=nb_ventes['CA (euros)']\n",
    "y2 = nb_ventes[\"Nombre de sessions\"]\n",
    "\n",
    "# Affichage des données de l'axe principal\n",
    "fig, ax3 = plt.subplots()\n",
    "fig.set_size_inches(20, 7)\n",
    "plt.xticks(rotation=45)\n",
    "\n",
    "color = 'tab:green'\n",
    "ax3.set_xlabel('Mois')\n",
    "ax3.set_ylabel(\"Nombre de sessions\", color=color)\n",
    "ax3.plot(x, y,marker=\"o\", color=color)\n",
    "ax3.tick_params(axis='y', labelcolor=color)\n",
    "ax3.tick_params(axis='x', labelcolor=color)\n",
    "ax3.grid(True)\n",
    "\n",
    "# Affichage de l'axe secondaire\n",
    "ax4 = ax3.twinx()  # Création d'un deuxième axe qui partage le même axe x\n",
    "\n",
    "color = 'tab:blue'\n",
    "ax4.set_ylabel(\"Nombre d'articles vendus\", color=color)\n",
    "ax4.plot(x, y2, marker=\"o\", color=color)\n",
    "ax4.tick_params(axis='y', labelcolor=color)\n",
    "ax4.grid(True)\n",
    "\n",
    "plt.title(\"Evolution du nombre de sessions d'achats réalisée et du nombre de ventes au cours du temps\")\n",
    "plt.show()\n",
    "print(Fore.BLUE + Style.BRIGHT + f\"Evolution du nombre de sessions d'achats réalisée et du nombre d'articles vendus de 03/2021 à 02/2023\")"
   ]
  },
  {
   "cell_type": "markdown",
   "id": "5de29f05",
   "metadata": {},
   "source": [
    "<ul style=\"font-family:Time\"><b><u> Observation de l'évolution du CA et du nombre de sessions réalisées de 03/2021 à 02/2023</u> : </b>\n",
    "      <li>En générale, les 2 indicateurs sont <b><i>stables</i></b> entre 03/2021 et 02/2023 et ils sont similaires en terme de variation</li>\n",
    "      <li>La chute de la vente en 10/2021 et la baisse de ces 2 indicateurs en 02/2023 existent toujours et similaires aux observations en haut</li>\n",
    "  <ul>"
   ]
  },
  {
   "cell_type": "code",
   "execution_count": null,
   "id": "1f106490",
   "metadata": {
    "scrolled": false
   },
   "outputs": [],
   "source": [
    "#Paramétrer d'affichage des 2 diagrammes\n",
    "figure = plt.figure(figsize = (20, 7))\n",
    "plt.gcf().subplots_adjust(left = 0.2, bottom = 0.2,\n",
    "                       right = 1.5, top = 1, \n",
    "                       wspace = 0.5, hspace = 0.5)\n",
    "\n",
    "#Courbe linéaire\n",
    "#axes = figure.add_subplot(2, 2, 1)\n",
    "#CA_moy_mois=transactions_web.groupby(by='month_date')['price'].mean().to_frame().reset_index()\n",
    "#display(CA_moy_mois)\n",
    "#sns.lineplot(data=CA_moy_mois, x=\"month_date\", y=\"price\")\n",
    "\n",
    "#Boîte à moustaches\n",
    "axes = figure.add_subplot(2, 2, 3)\n",
    "sns.boxplot(x=\"month\", y=\"price\", data=transactions_web[transactions_web['price']<=40].sort_values(by='month')).set(\n",
    "    title=\"Variabilité du chiffre d'affaires par mois (03/2021-02/2023)\",\n",
    "    xlabel=\"Mois\",\n",
    "    ylabel=\"Chiffre d'affaire (euros)\")\n",
    "plt.xticks(rotation=45)\n",
    "\n",
    "print(Fore.BLUE + Style.BRIGHT + f\"Variation du CA au cours du temps de 03/2021 à 02/2023\")\n",
    "#q25 = np.percentile(transactions_web['price'], 25)\n",
    "#q75 = np.percentile(transactions_web['price'], 75)\n",
    "#display(q25)\n",
    "#display(q75)\n",
    "##transactions_web['price'].mean()"
   ]
  },
  {
   "cell_type": "markdown",
   "id": "0cfdc57b",
   "metadata": {},
   "source": [
    "<ul style=\"font-family:Time\"><b> <u>Observation de la moyenne du panier ??? de chaque mois de 03/2021 à 02/2023</u> : </b>\n",
    "       <li>La moyenne ??? du panier se trouve entre <b><i>15 euros et 19,5 euros</i></b> et <b><i>augmente légèrement</i></b> au cours du temps</li>\n",
    "       <li>La représentation de la variabilité des paniers de chaque mois présente des valeurs (ou prix) qui sont inférieures à 40 euros. Les valeurs qui sont supérieures à 40 euros sont considérées comme des valeurs aberrantes (mais pas fausses). Ce tri est pour but de faciliter l'observation de ces variabilités </li>\n",
    "      <li>Il n'y a pas de <b><i>variabilité dynamique</i></b> ou tous les mois ont une <b><i>médiane similaire</i></b> (sauf celle du 10/2021)</li>\n",
    "      <li>La représentation en boîte à moustaches des <b><i>valeurs du panier</i></b> indique qu'elles se concentrent autours <b><i>de 8 et 19 euros</i></b> avec <b><i>une moyenne de 17,5 euros</i></b></li>\n",
    "      <li>Les boîtes à moustaches et les médianes ont plus proche aux valeurs minimales ou <b><i>la plupart des paniers</i></b> ont le prix moins chère <b><i>(moins de 20 euros)</i></b></li>\n",
    "      <li>Les produits qui ont un prix extrême suppérieur existent aussi et se répartissent sur une plage très large (présentés par les points et les valeurs aberrantes triées) </li>   \n",
    "  <ul>"
   ]
  },
  {
   "cell_type": "markdown",
   "id": "92292ab8",
   "metadata": {},
   "source": [
    "<h3 style=\"color:black; text-align:center; font-family:verdana; border:2px solid DodgerBlue\"> <br>PARTIE 2 <br><br> Zoom sur les références<br></h3>"
   ]
  },
  {
   "cell_type": "markdown",
   "id": "2dc92508",
   "metadata": {},
   "source": [
    "<ul style=\"font-family:Time\">La deuxième partie concerne les analyses plus profondes sur les références des produits vendus, notamment sur la répartitions des produits qui sont les plus/moins vendus ainsi ses catégories.\n",
    "</ul>"
   ]
  },
  {
   "cell_type": "markdown",
   "id": "9e0e9974",
   "metadata": {},
   "source": [
    "<h4 style=\"color:black; font-family:verdana\"> <br>1. Les produits apportent plus/moins de CA<br></h4>"
   ]
  },
  {
   "cell_type": "code",
   "execution_count": null,
   "id": "0711a2db",
   "metadata": {
    "scrolled": false
   },
   "outputs": [],
   "source": [
    "#Afficher 2 diagrammes (en horizontale)\n",
    "figure = plt.figure(figsize = (10, 5))\n",
    "plt.gcf().subplots_adjust(left = 0.2, bottom = 0.2,\n",
    "                       right = 1.5, top = 1, \n",
    "                       wspace = 0.5, hspace = 2)\n",
    "\n",
    "#Définir d'affichage les valeurs des bâtons\n",
    "def show_values_on_bars(axes):\n",
    "    def _show_on_single_plot(ax):        \n",
    "        for p in ax.patches:\n",
    "            _x = p.get_x() + p.get_width() / 2 # position de la valeur\n",
    "            _y = p.get_y() + p.get_height()*1.01 # position de la valeur\n",
    "            value = '{:.2f}'.format(p.get_height())\n",
    "            ax.text(_x, _y, value, ha=\"center\") \n",
    "\n",
    "    if isinstance(axes, np.ndarray):\n",
    "        for idx, ax in np.ndenumerate(axes):\n",
    "            _show_on_single_plot(ax)\n",
    "    else:\n",
    "        _show_on_single_plot(axes)\n",
    "\n",
    "#Diagramme en bâton \n",
    "\n",
    "#Le top 5 des références les moins vendues en valeur entre 03/2021 à 02/2023\n",
    "produits_flops_CA=transactions_web.groupby(by='id_prod').sum()['price'].to_frame().sort_values(by='price').head(5).reset_index()\n",
    "axes = figure.add_subplot(1, 2, 1)\n",
    "sns.barplot(data=produits_flops_CA, y=\"price\", x='id_prod', palette=\"Greens\").set(\n",
    "    title=\"5 produits les moins vendus en valeur (03/2021 à 02/2023)\",\n",
    "    xlabel=\"Référence\",\n",
    "    ylabel=\"CA (euros)\")\n",
    "plt.xticks(rotation=45)\n",
    "show_values_on_bars(axes) #Afficher les valeurs\n",
    "\n",
    "#Le top 5 des références les plus vendues en valeur entre 03/2021 à 02/2023\n",
    "axes = figure.add_subplot(1, 2, 2)\n",
    "produits_tops_CA=transactions_web.groupby(by='id_prod').sum()['price'].to_frame().sort_values(by='price').tail(5).reset_index()\n",
    "sns.barplot(data=produits_tops_CA, y=\"price\", x='id_prod',  palette=\"Blues\").set(\n",
    "    title=\"5 des produits les plus vendus en valeur (03/2021 à 02/2023)\",\n",
    "    xlabel=\"Référence\",\n",
    "    ylabel=\"CA (euros)\")\n",
    "plt.xticks(rotation=45)\n",
    "print(Fore.BLUE + Style.BRIGHT + f\"Zoom sur les références des produits (les tops et les flops) entre 03/2021 à 02/2023\")\n",
    "show_values_on_bars(axes)  #Afficher les valeurs"
   ]
  },
  {
   "cell_type": "markdown",
   "id": "2303d9cb",
   "metadata": {},
   "source": [
    "<ul style=\"font-family:Time\"><b> <u>Observation</u> :</b>\n",
    "      <li>Les produits qui apportent <b><i>plus de CA</i></b> sont ceux de <b><i>catégorie 2</i></b> et ils ont générés de 56971 euros à 94893 euros </li>\n",
    "      <li>Au contraire, les produits qui apportent <b><i>moins de CA</i></b> sont ceux de <b><i>catégorie 0</i></b> donc le CA apporté se varie entre 0,99 euros et 1,99 euros</li>\n",
    "  <ul>"
   ]
  },
  {
   "cell_type": "markdown",
   "id": "5f44c019",
   "metadata": {},
   "source": [
    "<h4 style=\"color:black; font-family:verdana\"> <br>2. Répartition du chiffre d'affaires apporté par les différentes catégories de produits<br></h4>"
   ]
  },
  {
   "cell_type": "code",
   "execution_count": null,
   "id": "c78f1a80",
   "metadata": {},
   "outputs": [],
   "source": [
    "transactions_web.groupby(by='categ')['id_prod'].count().reset_index()"
   ]
  },
  {
   "cell_type": "code",
   "execution_count": null,
   "id": "46314d17",
   "metadata": {},
   "outputs": [],
   "source": [
    "#Groupement de produits et de CA par catégories\n",
    "repart_CA_categ=transactions_web.groupby(by=['id_prod','categ'])['price'].sum().reset_index()\n",
    "repart_nb_ventes_categ=transactions_web.groupby(by='categ')['id_prod'].count().reset_index()\n",
    "\n",
    "#Paramétrer la position et la taille des diagrammes\n",
    "figure = plt.figure(figsize = (10, 10))\n",
    "plt.gcf().subplots_adjust(left = 0.2, bottom = 0.2,\n",
    "                       right = 1.5, top = 1, \n",
    "                       wspace = 0.5, hspace = 0.5)\n",
    "\n",
    "#Diagramme en bâton  du nombre de ventes par catégorie\n",
    "axes = figure.add_subplot(2, 2, 3)\n",
    "sns.barplot(data=repart_nb_ventes_categ, x=\"categ\", y=\"id_prod\").set(\n",
    "   title=\"Représentation du nombre de ventes par mois des 3 catégories sur l'emsemble période\",\n",
    "    xlabel=\"Catégorie\",\n",
    "    ylabel=\"Nombre de ventes (produits)\")\n",
    "show_values_on_bars(axes)\n",
    "\n",
    "#Boîte à moustaches CA des catégories de livres\n",
    "axes = figure.add_subplot(2, 2, 1)\n",
    "sns.boxplot(x=\"categ\", y=\"price\", data=repart_CA_categ).set(\n",
    "    title='Répartition du CA au sein de chaque catégorie de 03/2021 à 02/2023',\n",
    "    xlabel='Catégorie',\n",
    "    ylabel='CA (euros)')\n",
    "\n",
    "#Diagramme en bâton de CA/catégorie\n",
    "CA_par_categ=repart_CA_categ.groupby(by='categ').sum().price.to_frame().reset_index()\n",
    "\n",
    "axes = figure.add_subplot(2, 2, 4)\n",
    "sns.barplot(x='categ',y='price', data=CA_par_categ).set(\n",
    "    title='Répartition du CA par catégorie de 03/2021 à 02/2023',\n",
    "    xlabel='Catégorie',\n",
    "    ylabel=\"CA (euros)\")\n",
    "show_values_on_bars(axes)\n",
    "\n",
    "#Diagramme circulaire de CA/catégorie\n",
    "axes = figure.add_subplot(2, 2, 2)\n",
    "repart_CA_categ.groupby(by='categ').sum().price.plot.pie(labels = [\"catégorie 0\", \"catégorie 1\", \"catégorie 2\"], normalize = True,autopct=\"%.1f%%\")\n",
    "plt.title(\"Répartition du CA par catégorie de 03/2021 à 02/2023\")\n",
    "\n",
    "sns.set_theme(style=\"whitegrid\")\n",
    "print(Fore.BLUE + Style.BRIGHT + f\"Description de la répartition du CA (euros) au sein de chaque catégorie de 03/2021 à 02/2023\")\n",
    "display(repart_CA_categ.groupby(by='categ').describe())"
   ]
  },
  {
   "cell_type": "markdown",
   "id": "fd04a391",
   "metadata": {},
   "source": [
    "<ul style=\"font-family:Time\"><b><u> Observation</u> :</b>\n",
    "      <li>Les chiffres d'affaire générés par chaque produit de la catégorie 2 est (sont) très variés (de 86.99 euros à 94893.50 euros) et ils sont bien supérieurs (par rapport) à 2 autres</li>\n",
    "      <li>Cependant, le <b><i>nombre de produits vendus</i></b> ainsi que les <b><i>chiffes d'affaires</i></b> sont générés <b><i>les plus</i></b> par la vente des produits de les <b><i>catégories 0 et 1</i></b> (plus de 4,4M euros sur 2 ans)</li>\n",
    "      <li>En générale, les livres de la <b><i>catégorie 0</i></b> sont les <b><i>plus achetés</i></b> (plus de 415k fois) tandis que les livres de la <b><i>catégorie 1</i></b> apportent le <b><i>plus de chiffre d'affaires</i></b></li>\n",
    "  <ul>"
   ]
  },
  {
   "cell_type": "code",
   "execution_count": null,
   "id": "ab3dd920",
   "metadata": {},
   "outputs": [],
   "source": [
    "#Groupement de produits vendus en fonction du mois et de la catégorie\n",
    "CA_categ=transactions_web.groupby(by=['month','categ'])['price'].sum().to_frame().reset_index()\n",
    "#display(CA_categ)\n",
    "\n",
    "#Pivoter le df \n",
    "CA_categ_pivot=CA_categ.pivot(index='month', columns='categ', values='price')\n",
    "#display(CA_categ_pivot)\n",
    "#Autre méthode pour pivoter df\n",
    "#CA_categ.groupby(['month','categ'])['price'].sum().unstack('categ').plot(kind='bar', figsize=(20,7))\n",
    "\n",
    "#Histogramme empilé\n",
    "\n",
    "CA_categ_pivot.plot(kind='bar', stacked=True, figsize=(20,5))\n",
    "plt.title(\"Représentation de CA de 03/2021 à 02/2023 par catégorie\")\n",
    "plt.xlabel(\"Mois\")\n",
    "plt.ylabel(\"CA (euros)\")\n",
    "\n",
    "print(Fore.BLUE + Style.BRIGHT + f\"Répartition du chiffre d'affaire par catégorie de produitset par mois entre 03/2021 et 02/2023\")\n",
    "#Autre méthode pour pivoter df\n",
    "#CA_categ.groupby(['month','categ'])['price'].sum().unstack('categ').plot(kind='bar', figsize=(20,7))"
   ]
  },
  {
   "cell_type": "markdown",
   "id": "e8bdc762",
   "metadata": {},
   "source": [
    "<h3 style=\"color:black; text-align:center; font-family:verdana; border:2px solid DodgerBlue\"> <br>PARTIE 3 <br><br> Profils de clients<br></h3>\n"
   ]
  },
  {
   "cell_type": "code",
   "execution_count": null,
   "id": "835cdaa6",
   "metadata": {
    "scrolled": true
   },
   "outputs": [],
   "source": [
    "CA_par_clients=transactions_web[['client_id','price','sex','birth','age']]\n",
    "CA_par_clients.head()"
   ]
  },
  {
   "cell_type": "markdown",
   "id": "ce7d85d4",
   "metadata": {},
   "source": [
    "<h4 style=\"color:black; font-family:verdana\"> <br>1. Profils de clients<br></h4>"
   ]
  },
  {
   "cell_type": "code",
   "execution_count": null,
   "id": "1e1911be",
   "metadata": {},
   "outputs": [],
   "source": [
    "#Données des clients qui effectent des achats en ligne\n",
    "customers['age']=2021-customers[['birth']]+1 #Rajouter la colonne 'age' dans le df 'customers'\n",
    "CA_clients=CA_par_clients.groupby(by='client_id')['price'].sum().to_frame().reset_index().merge(customers, on='client_id', how='left')\n",
    "CA_clients.head()"
   ]
  },
  {
   "cell_type": "code",
   "execution_count": null,
   "id": "16680545",
   "metadata": {
    "scrolled": false
   },
   "outputs": [],
   "source": [
    "print(Fore.BLUE + Style.BRIGHT + f\"Proportion de CA générée par des personnes ayant moins 54 ans : {round(CA_clients[CA_clients['age']<=54]['price'].sum()*100/CA_clients.price.sum(),2)}%\")\n",
    "print(Fore.BLUE + Style.BRIGHT + f\"Proportion de top 3 CA en fonction d'âge\")\n",
    "display((CA_clients.groupby(by=\"age\").sum()['price']*100/CA_clients.price.sum()).to_frame().sort_values(by='price').tail(3).rename(columns = {'price': 'CA (%)'}))\n",
    "\n",
    "figure = plt.figure(figsize = (20, 4))\n",
    "sns.barplot(x=\"age\", y=\"price\", data=((CA_clients.groupby(by='age').sum()['price'].reset_index()).sort_values(by='age'))).set(\n",
    "    title=\"Représentation de chiffre d'affaires par d'âge des clients (03/2021-02/2023)\",\n",
    "    xlabel=\"Age\",\n",
    "    ylabel=\"Chiffre d'affaires (euros)\")\n",
    "plt.xticks(rotation=90)\n",
    "\n",
    "print(Fore.BLUE + Style.BRIGHT + f\"Représentation de chiffre d'affaires par d'âge des clients de 03/2021 à 02/2023\")"
   ]
  },
  {
   "cell_type": "markdown",
   "id": "2e25210a",
   "metadata": {},
   "source": [
    "<ul style=\"font-family:Time\"><b> <u>Observation de la répartition de CA par âge</u> : </b>\n",
    "      <li>Au total, la vente en ligne atteint un chiffre d'affaires <b><i>plus de 11,8 millions</i></b> entre 03/2021 à 02/2023</li>\n",
    "      <li>Elle a plus de succès chez les personnes ayant <b><i>moins de 54 ans</i></b>, ceux qui génèrent <b><i>plus de 80% du chiffre d'affaires totales</i></b> de l'e-commerce </li>\n",
    "      <li>Parmi cette population, <b><i>les chiffres d'affaires réalisés par les 42, 18 et 23 ans sont plus importants</i></b> (plus de 14% de CA total) </li>\n",
    "  <ul>"
   ]
  },
  {
   "cell_type": "code",
   "execution_count": null,
   "id": "5426350e",
   "metadata": {
    "scrolled": false
   },
   "outputs": [],
   "source": [
    "print(Fore.BLUE+Style.BRIGHT+f\"Description de chiffre d'affaires entre femmes et hommes\")\n",
    "display(CA_clients.groupby(by = 'sex')['price'].describe())\n",
    "\n",
    "figure = plt.figure(figsize = (10, 5))\n",
    "plt.gcf().subplots_adjust(left = 0.2, bottom = 0.2,\n",
    "                       right = 1.5, top = 1, \n",
    "                       wspace = 0.5, hspace = 0.5)\n",
    "\n",
    "#Histogramme en bar\n",
    "axes = figure.add_subplot(1, 2, 1)\n",
    "CA_genre_bar=CA_clients.groupby(by = 'sex')['price'].sum().reset_index()#.plot(kind='bar', figsize=(2,3))\n",
    "sns.barplot(x=\"sex\", y=\"price\", data=CA_genre_bar).set(\n",
    "    title=\"Répartition de chiffre d'affaires par genre des clients\",\n",
    "    xlabel='Sexe',\n",
    "    ylabel='CA (euros)')\n",
    "\n",
    "#Boîte à moustaches\n",
    "axes = figure.add_subplot(1, 2, 2)\n",
    "\n",
    "#figure = plt.figure(figsize = (5,3))\n",
    "sns.boxplot(x=\"sex\", y=\"price\", data=CA_clients[CA_clients['price']<=20000]).set(\n",
    "    title=\"Répartition de chiffre d'affaires par genre des clients\",\n",
    "    xlabel='Sexe',\n",
    "    ylabel='CA (euros)')\n",
    "\n",
    "print(Fore.BLUE+Style.BRIGHT+ f\"Représentation en bar et en boîte à moustaches de chiffre d'affaires par genre des clients (pour les commandes inférieures de 100 euros)\")\n",
    "\n",
    "#Données et descripttion de la boite de moustache\n",
    "#CA_clients.sort_values(by='price')"
   ]
  },
  {
   "cell_type": "markdown",
   "id": "3d476cc1",
   "metadata": {},
   "source": [
    "<ul style=\"font-family:Time\"><b><u> Observation de la répartition du nombre de clients féminins et masculins par âge</u> : </b>\n",
    "      <li>La <b><i>répartition</i></b> de chiffre d'affaires est <b><i>similaire</i></b> chez les 2 sexes. Afin de faciliter la visualisation, je prends que des valeurs de chiffre d'affaires qui sont inférieurs à 20000 euros pour la présentation des boîtes à moustaches. La description détaillée de la répartition complète de CA est affichée sur le tableau en-dessus</li> \n",
    "      <li>Le diagramme à droite contient des boîtes asymétriques (qui se décalent vers le bas) et présentent la tendance de la somme de l'achat en ligne par client, donc environ <b><i>1000 euros pour 2 ans.<b><i></li>\n",
    "  <ul>"
   ]
  },
  {
   "cell_type": "markdown",
   "id": "1ef3aae1",
   "metadata": {},
   "source": [
    "<h4 style=\"color:black; font-family:verdana\"> <br>2. Courbe de Lorenz de la répartition de chiffre d'affaires<br></h4>"
   ]
  },
  {
   "cell_type": "code",
   "execution_count": null,
   "id": "e7e1a607",
   "metadata": {
    "scrolled": true
   },
   "outputs": [],
   "source": [
    "print(Fore.BLUE +Style.BRIGHT + f\"Courbe de Lorenz de la répartition de chiffre d'affaires\")\n",
    "\n",
    "#Surface parfaite\n",
    "perfect_x = [0, 0.2, 0.4, 0.6, 0.8, 1.0]\n",
    "perfect_y = [0, 0.2, 0.4, 0.6, 0.8, 1.0]\n",
    "\n",
    "#Courbe de Lorenz\n",
    "CA_clients=transactions_web[['client_id','price','sex','birth','age']].groupby('client_id').sum()\n",
    "\n",
    "CA=CA_clients['price'].values\n",
    "n = len(CA_clients)\n",
    "lorenz = np.cumsum(np.sort(CA)) / CA.sum()\n",
    "lorenz = np.append([0],lorenz) # La courbe de Lorenz commence à 0\n",
    "xaxis = np.linspace(0-1/n,1+1/n,n+1) #Il y a un segment de taille n pour chaque individu,\n",
    "# plus 1 segment supplémentaire d'ordonnée 0.\n",
    "#Le premier segment commence à 0-1/n, et le dernier termine à 1+1/n.\n",
    "#figure = plt.figure(figsize = (10, 5))\n",
    "\n",
    "# Affichage des données de courbe de Lorenz\n",
    "fig, ax1 = plt.subplots()\n",
    "\n",
    "color = 'tab:green'\n",
    "ax1.plot(xaxis,lorenz,drawstyle='steps-post', color=color)\n",
    "ax1.grid(True)\n",
    "ax1.set_xlabel('Part cumulée des clients', color=color)\n",
    "ax1.set_ylabel(\"Part cumulée des chiffre d'affaires\", color=color)\n",
    "\n",
    "# Affichage de la surface parfaite\n",
    "ax2 = ax1.twinx()  # Création d'un deuxième axe qui partage le même axe x\n",
    "\n",
    "color = 'tab:blue'\n",
    "ax2.plot(perfect_x , perfect_y,color=color,fillstyle='full', marker='o', linestyle=':')\n",
    "\n",
    "ax2.grid(True)\n",
    "\n",
    "plt.annotate('G = 0.45', xy = (0.4, 0.5), xytext = (0.5, 0.4), color = 'green', backgroundcolor = 'yellow')\n",
    "plt.title(\"Courbe de Lorenz de la répartition de chiffre d'affaires\")\n",
    "plt.show()\n",
    "\n",
    "#L'indice de Gini\n",
    "AUC = (lorenz.sum() -lorenz[-1]/2 -lorenz[0]/2)/n # Surface sous la courbe de Lorenz. Le premier segment (lorenz[0])\\\n",
    "#est à moitié en dessous de 0, on le coupe donc en 2, on fait de même pour le dernier segment lorenz[-1] qui est à moitié au dessus de 1.\n",
    "S = 0.5 - AUC # surface entre la première bissectrice et le courbe de Lorenz\n",
    "gini = 2*S\n",
    "print(Fore.BLUE +Style.BRIGHT + f\"L'indice de Gini : {round(gini,2)}\")"
   ]
  },
  {
   "cell_type": "markdown",
   "id": "8e44fe0a",
   "metadata": {},
   "source": [
    "<ul style=\"font-family:Time\"><b> <u>Interprétation de la courbe de Lorenz présentant répartition de chiffre d'affaires</u> : </b>\n",
    "      <li>La surface sous courbe (indice de Gini) présente <b><i>l'inégalité de la répartition de chiffre d'affaires</i></b> généré par des clients</li>\n",
    "      <li>Dans ce cas, indice de Gini est égale à 0,45 et loin d'être 0 donc, il existe une inégalité ou <b><i>une partie de clients contribuent plus de CA</i></b> par rapport aux autres </li>\n",
    "  <ul>"
   ]
  },
  {
   "cell_type": "markdown",
   "id": "d2d697b4",
   "metadata": {},
   "source": [
    "<h2 style=\"color:black; text-align:center; background-color:AliceBlue; font-size:150%; font-family:verdana; border:2px solid DodgerBlue\"><br>3. Analyse des comportements clients<br></h2>"
   ]
  },
  {
   "cell_type": "markdown",
   "id": "d08b3ea7",
   "metadata": {},
   "source": [
    "<h3 style=\"color:black; text-align:center; font-family:verdana; border:2px solid DodgerBlue\"> <br>PARTIE 1 <br><br> Lien entre le genre du client et les catégories des livres achetés<br></h3>"
   ]
  },
  {
   "cell_type": "code",
   "execution_count": null,
   "id": "45433531",
   "metadata": {},
   "outputs": [],
   "source": [
    "print(Fore.BLUE+ Style.BRIGHT + f\"Tableau de contingence coloré\")\n",
    "genre_categ=transactions_web.groupby(by=['categ', 'sex'])['client_id'].count().reset_index().pivot_table(index='sex', columns='categ', values='client_id',aggfunc=np.sum, margins=True, margins_name=\"Total\")\n",
    "display(genre_categ)\n",
    "\n",
    "tx = genre_categ.loc[:,[\"Total\"]]\n",
    "ty = genre_categ.loc[[\"Total\"],:]\n",
    "n = len(transactions_web)\n",
    "indep = tx.dot(ty) / n\n",
    "\n",
    "c = genre_categ.fillna(0) # On remplace les valeurs nulles par 0\n",
    "measure = (c-indep)**2/indep\n",
    "xi_n = measure.sum().sum()\n",
    "table = measure/xi_n\n",
    "sns.heatmap(table.iloc[:-1,:-1],annot=c.iloc[:-1,:-1],cmap='Greens')\n",
    "plt.show()"
   ]
  },
  {
   "cell_type": "markdown",
   "id": "41af42f7",
   "metadata": {},
   "source": [
    "<ul style=\"font-family:Time\"><b> <u>Analyse du genre de clients et des catégories de livres achetés (2 variables qualitatives) avec le test Chi-2 d'indépendance</u></b><br><br>\n",
    "    <li>Le tableau de convergence coloré ci-dessus présente l'influence de genre des clients sur les catégories de livres achetées. Plus la couleur est foncée, plus l'influence est probablement forte et moins de chance qu'ils sont indépendantes. Cela signifie qu'il est probablement que la vente des livres de la <b><i>catégorie 2</i></b> est <b><i>dépends(ant) au genre de clients</i></b>. La vente des 2 autres catégories est moins influencée par le genre de clients, spécialement des produits de la catégorie 0</li><br>\n",
    "    <li>L'utilisation de <b><i>test Chi-2</i></b> permet d'affirmer les observations générales citées en-dessus. La question posée dans ce contexte est :<b><i> \"Les catégories de livres achetés sont différentes entre les femmes et les hommes ?\" </i></b><br></li><br>\n",
    "    <li>Si la réponse est non ou <b><i>s'il n'y a pas la différence de l'achat chez le genre de clients, on obtient une validation sur l'hypothèse nulle (H0)</i></b>. Au contraire, on a une contre hypothèse appellé <b><i>H1 ou il existe un lien entre les 2 variables étudiées (genre et catégories)</i></b></li><br>\n",
    "    <li>Plus précisément, si la H0 est vrai, on a une équiprobabilité ou les nombres de l'articles achetées (en théorique) calculé pour chaque case à partir des marges (la ligne et la colonne de totaux) de catégories et de sex ne sont pas différents avec le tableau de contingence en haut (avec un risque de se tromper définit alpha (ici, j'utilise alpha = 0,05 ou 5%))</li>\n",
    "  <ul>"
   ]
  },
  {
   "cell_type": "code",
   "execution_count": null,
   "id": "56924b41",
   "metadata": {},
   "outputs": [],
   "source": [
    "print(Fore.BLUE+ Style.BRIGHT + f\"Tableau des valeurs théoriques; tableau des valeurs observées et le résultat du test Chi-2\")\n",
    "pg.chi2_independence(transactions_web, x='sex', y='categ', correction=True)"
   ]
  },
  {
   "cell_type": "markdown",
   "id": "2c29568d",
   "metadata": {},
   "source": [
    "<ul style=\"font-family:Time\"><b><u> Analyse du genre de clients et les catégories de livres achetés (2 variables qualitatives) avec le le test Chi-2 d'indépendance</u></b>\n",
    "    <ul style=\"font-family:Time\"><br>\n",
    "    <li>Le résultat du test Chi-2 est égal à <b>147</b>. Ici je choisi un seuil alpha de rejet H0 à 5% et 95% de chances (sous H0) que la variable de test prenne sa valeur. Autrement dit, si l'hypothèse de l'équiprobabilité est rejettée, on a une probabilité de se tromper à 5%. La valeur du test est suppérieur à <b>5,991</b> (avec alpha = 0,05 et un degré de liberté dof = 2), donc on peut <b><i>rejetter H0</i></b> </li>\n",
    "    <li><b>pvalue</b> est proche 0,00 (< alpha = 0,05%) donc le rejet H0 est peu de risque d'être trompé.</li>\n",
    "    <li><b><i>En résumé, il existe un lien entre le genre de clients et les catégories de livres achetés et les observations générales en-dessus sont raisonables</i></b></li>\n",
    "  <ul>"
   ]
  },
  {
   "cell_type": "markdown",
   "id": "4a23e758",
   "metadata": {},
   "source": [
    "<h3 style=\"color:black; text-align:center; font-family:verdana; border:2px solid DodgerBlue\"> <br>PARTIE 2 <br><br> Lien entre l'âge des clients et l'achat en ligne<br></h3>"
   ]
  },
  {
   "cell_type": "markdown",
   "id": "653e8aef",
   "metadata": {},
   "source": [
    "<h4 style=\"color:black; font-family:verdana\"> <br>1. L'âge des clients et le montant total des achats<br></h4>"
   ]
  },
  {
   "cell_type": "code",
   "execution_count": null,
   "id": "dce29ac6",
   "metadata": {},
   "outputs": [],
   "source": [
    "age_client = transactions_web.groupby(by='age')['price'].sum().to_frame()\n",
    "age_client.rename(columns={'price':'montant (euros)'}, inplace=True) \n",
    "age_client.reset_index(inplace=True)\n",
    "display(age_client.head())\n",
    "print(Fore.BLUE+ Style.BRIGHT + f\"Représentation du lien entre d'âge des clients et le montant total des achats\")\n",
    "        \n",
    "#Répartition et relation du nombre de clients en fonction de leur âge\n",
    "figure = plt.figure(figsize = (20, 7))\n",
    "sns.regplot(x='age', y='montant (euros)',data=age_client, fit_reg=True).set(\n",
    "    title='Age des clients et le montant total des achats (euros) de 03/2021 à 02/2023 ',\n",
    "    xlabel='Age',\n",
    "    ylabel='montant (euros)')\n",
    "print(Fore.BLUE+ Style.BRIGHT + f\"Le coefficient r est égal à -0,78 et signifie une corrélation forte et négative \")\n",
    "age_client.corr().iloc[:1,[1]]"
   ]
  },
  {
   "cell_type": "markdown",
   "id": "0bed795f",
   "metadata": {},
   "source": [
    "<ul style=\"font-family:Time\"><b><u> Observation du lien entre d'âge des clients et le montant total des achats</u> : </b><br>\n",
    "      Il existe une corrélation entre les 2 indicateurs. Plus les clients sont âgés, plus ils effectent moins d'achats en ligne\n",
    "  <ul>"
   ]
  },
  {
   "cell_type": "markdown",
   "id": "1b2d5aa5",
   "metadata": {},
   "source": [
    "<h4 style=\"color:black; font-family:verdana\"> <br>2. L'âge des clients et la fréquence d’achat<br></h4>"
   ]
  },
  {
   "cell_type": "code",
   "execution_count": null,
   "id": "ef8500f1",
   "metadata": {
    "scrolled": false
   },
   "outputs": [],
   "source": [
    "#Fréquence d'achats et l'âge des clients\n",
    "nb_achats=transactions_web.groupby(by=['session_id','age'])['session_id'].count().to_frame()\n",
    "nb_achats.rename(columns={\"session_id\":\"nombre d'achats\"}, inplace=True)\n",
    "nb_achats_age=nb_achats.reset_index().groupby(by='age').count()[\"nombre d'achats\"].to_frame()\n",
    "nb_achats_age[\"fréquence d'achats par mois\"]=nb_achats_age[\"nombre d'achats\"]/24\n",
    "display(nb_achats_age.head())\n",
    "print(Fore.BLUE+ Style.BRIGHT + f\"Représentation de la fréquence d'achats en fonction de l'âge\")\n",
    "\n",
    "#Lien entre l'âge des clients et la fréquence d'achats\n",
    "figure = plt.figure(figsize = (20, 7))\n",
    "sns.regplot(x='age', y=\"fréquence d'achats par mois\",data=nb_achats_age.reset_index(), fit_reg=True).set(\n",
    "    title=\"Fréquence d'achats en fonction de l'âge\",\n",
    "    xlabel='Age',\n",
    "    ylabel=\"Fréfrence d'achats\")\n",
    "print(Fore.BLUE + Style.BRIGHT + f\"Le coefficient r est égal à -0,55 et signifie une corrélation forte et négative \")\n",
    "nb_achats_age.reset_index().corr().iloc[:1,[2]] #coefficient de Pearson\n",
    "\n",
    "#nb_achats_age.reset_index().corr(method='spearman')"
   ]
  },
  {
   "cell_type": "markdown",
   "id": "8e815bd8",
   "metadata": {},
   "source": [
    "<ul style=\"font-family:Time\"><b><u> Observation du lien entre l'âge des clients et la fréquence d'achat</u> : </b><br>\n",
    "      Il existe une corrélation négative entre les 2 indicateurs (|r|>0,5). Plus les clients sont âgés, plus la fréquence d'achat est moins\n",
    "  <ul>"
   ]
  },
  {
   "cell_type": "markdown",
   "id": "a91cddfe",
   "metadata": {},
   "source": [
    "<h4 style=\"color:black; font-family:verdana\"> <br>3. L'âge des clients et la taille du panier moyen<br></h4>"
   ]
  },
  {
   "cell_type": "code",
   "execution_count": null,
   "id": "ad2ae622",
   "metadata": {},
   "outputs": [],
   "source": [
    "#Taille du panier moyen/âge (nombre d'articles/session/âge)\n",
    "nb_paniers=transactions_web.groupby(by=['age','session_id']).count()\\\n",
    "            .reset_index().groupby(by='age')['session_id'].count().reset_index()\n",
    "\n",
    "nb_articles=transactions_web.groupby(by='age')['id_prod'].count().reset_index()\n",
    "#display(panier_moyen.head())\n",
    "#display(nb_articles.head())\n",
    "\n",
    "taille_panier_moyen=nb_paniers.merge(nb_articles, on ='age')\n",
    "taille_panier_moyen[\"taille du panier moyen\"]=taille_panier_moyen['id_prod']/taille_panier_moyen['session_id']\n",
    "display(taille_panier_moyen.head())\n",
    "#display(taille_panier_moyen.shape)\n",
    "print(Fore.BLUE+ Style.BRIGHT + f\"La taille du panier moyen en fonction de l'âge\")\n",
    "\n",
    "#Diagramme\n",
    "figure = plt.figure(figsize = (20, 7))\n",
    "sns.regplot(x=\"age\", y=\"taille du panier moyen\",data=taille_panier_moyen.sort_values(by='age')).set(\n",
    "    title=\"Représentation du lien entre l'âge des clients et la taille du panier moyen\",\n",
    "    xlabel=\"Age\",\n",
    "    ylabel=\"Taille du panier moyen (articles)\")\n",
    "#plt.xticks(rotation=90)\n",
    "#print(Fore.BLUE+ Style.BRIGHT + f\"Représentation du lien entre l'âge des clients et la taille du panier moyen\")\n",
    "#transactions_web.groupby(by='age')['price'].mean().to_frame().describe()\n",
    "print(Fore.BLUE+ Style.BRIGHT + f\"Le coefficient r est égal à -0.57 et signifie une corrélation forte et négative\") \n",
    "taille_panier_moyen.corr().iloc[:1,[3]]"
   ]
  },
  {
   "cell_type": "markdown",
   "id": "3edd1a29",
   "metadata": {},
   "source": [
    "<ul style=\"font-family:Time\"><b><u> Observation du lien entre l'âge des clients et la taille du panier moyen</u> : </b><br>\n",
    "    <li>Le montant dépensé par l'âge des clients se varie entre 12,9 euros et 47,8 euros</li>\n",
    "    <li>Les clients ayant moins de 30-50 ans ont les  tailles du panier moyen les plus importants. Les observations de la taille du panier moyen sont similaires aux 2 autres (CA total/âge et fréquence d'achats/âge), plus l'âge augmente, plus la taille du panier moyen est diminuée (corrélation négative).</li>\n",
    "  <ul>"
   ]
  },
  {
   "cell_type": "markdown",
   "id": "6cc825c1",
   "metadata": {},
   "source": [
    "<h4 style=\"color:black; font-family:verdana\"> <br>4. L'âge des clients et les catégories des livres achetés<br></h4>"
   ]
  },
  {
   "cell_type": "markdown",
   "id": "692f3e64",
   "metadata": {},
   "source": [
    "<ul style=\"font-family:Time\"><b><u> Analyse de l'âge des clients et des catégories des livres achetés avec le test ANOVA  </b></u><br><br>\n",
    "        <li>ANOVA est un test paramétrique, donc, je suppose que la distribution des 2 variables suit le loi normal grâce à la théorème de la limite centrale</li>\n",
    "     <li>Ce test permet de comparer le nombre de livres vendus par âge de clients (variable quantitative ) et la catégorie des livres achetés (variable qualitative à 3 niveaux). Les 2 hypothèses testées sont <b>H0</b> et <b>H1</b> avec :</li><br>\n",
    "    <b>H0 : il n’y a pas (de) la différence entre les moyennes des livres vendus (par âge de clients) pour chaque catégorie</b><br>\n",
    "    <b>H1 : au moins une des moyennes est différente aux autres</b><br><br>\n",
    "    <li>Je choisi le niveau de confiance de 95% (sous H0) avec un risque <b>α=5%</b>(erreur de premier espèce)</li>\n",
    "    <li>Si <b>F > fν1,ν2,α</b> : rejet de H0 au risque α ou <b>l'âge de clients influence aux catégories des livres vendus</b> </li>\n",
    "    <li>Si <b>F < fν1,ν2,α</b> : H0 n’est pas rejetée, <b>il n'y a pas de liaison entre les 2 variables analysées</b> </li>\n",
    "  <ul>"
   ]
  },
  {
   "cell_type": "code",
   "execution_count": null,
   "id": "ffd0ab3c",
   "metadata": {},
   "outputs": [],
   "source": [
    "comparaison_ANOVA=transactions_web[['age','categ', 'id_prod']].groupby(by=['categ', 'age']).count()['id_prod'].to_frame()\n",
    "display(comparaison_ANOVA.head())\n",
    "aov = pg.anova(data=comparaison_ANOVA.reset_index(), dv='id_prod', between='categ', detailed=True)\n",
    "print(Fore.BLUE+ Style.BRIGHT + f\"Dans ce cas, F=25,61 > f=3,88 (avec ν1=2, ν2=225, α=5%), donc, on rejet H0 ou au moins une moyenne du nombres de livres vendus par âge et par catégorie est différente \\\n",
    "aux autres. Plus précisément l'âge des clients influence le nombre de livres vendus\") \n",
    "aov"
   ]
  },
  {
   "cell_type": "code",
   "execution_count": null,
   "id": "223e2b5b",
   "metadata": {},
   "outputs": [],
   "source": [
    "#Catégories des livres achetés/age\n",
    "age_categ=transactions_web[['client_id','age','sex', 'categ']].groupby(by=['categ', 'age']).count().reset_index()\n",
    "age_categ_pivot=age_categ.pivot_table(index='age', columns='categ', values='client_id')#,aggfunc=np.sum, margins=True, margins_name=\"Total\")\n",
    "\n",
    "#age_categ_pivot=age_categ.pivot_table(index='age', columns='categ', values='client_id', aggfunc=len,margins=True,margins_name=\"Total\")\n",
    "#cont = data[[X,Y]].pivot_table(index=X,columns=Y,aggfunc=len,margins=True,margins_name=\"Total\")\n",
    "display(age_categ_pivot.head())\n",
    "display(age_categ_pivot.shape)\n",
    "\n",
    "#Histogramme empilé\n",
    "age_categ_pivot.plot(kind='bar', stacked=True, figsize=(20,7))\n",
    "plt.title(\"Représentation du lien entre l'âge des clients et es catégories des livres achetés\")\n",
    "plt.xlabel(\"Age\")\n",
    "plt.ylabel(\"Nombre d'articles vendus\")\n",
    "\n",
    "print(Fore.BLUE + Style.BRIGHT + f\"Représentation du lien entre l'âge des clients et les catégories des livres achetés entre 03/2021 et 02/2023\")\n",
    "#age_categ_pivot.describe()"
   ]
  },
  {
   "cell_type": "markdown",
   "id": "114aeac6",
   "metadata": {},
   "source": [
    "<ul style=\"font-family:Time\"><b><u> Résumé sur le lien entre l'âge des clients et les catégories des livres achetés entre 03/2021 et 02/2023<u> : </b><br>\n",
    "    <li>Les catégories de livres achetées sont variées en fonction de l'âge des clients. Plus précisément, seulement (ou presque) les clients qui ayant moins de 30 ans achetent des livres de la catégorie 2 où ses prix sont plus chers</li>\n",
    "    <li>En revanche, la quantité vendue de ceux de la catégorie 2 est négligable chez les autres âges. Les clients de 31 ans à 55 ans sont plus intéressés par des livres de la catégorie 0. Au contraire, le reste des clients (>55 ans) achètent en quantité égale (ou presque égale) des livres de catégorie 0 et 1 </li>\n",
    "    <li>En résumé, cette répatition du nombre de livres vendus par catégorie et par âge explique la tendance d'achats des clients en fonction de leurs âges ainsi que le lien entre l'âge des clients et le montant du panier moyen observé en dessus</li>\n",
    "  <ul>"
   ]
  },
  {
   "cell_type": "markdown",
   "id": "98dc8945",
   "metadata": {},
   "source": [
    "<h3 style=\"color:black; text-align:center; font-family:verdana; border:2px solid DodgerBlue\"> <br>PARTIE 2 <br><br> Cas particulier : Relation entre deux ouvrages (ref: 2_159 et 0_525)<br></h3>"
   ]
  },
  {
   "cell_type": "markdown",
   "id": "2a181120",
   "metadata": {},
   "source": [
    "<ul style=\"font-family:Time\">Dans le contexte de cette analyse, j'utilise la probabilité conditionnelle en suivant l'équatio suivante:\n",
    "<img src=\"propabilite conditionnelle.PNG\" height=\"150\" width=\"150\" >\n",
    "    avec évenement <b>A</b>: probabilité qu’un client achète la référence <b>0_525</b><br>\n",
    "    et évenement <b>B</b> : probabilité qu’un client achète la référence <b>2_159 (livre qui génère le plus de CA)</b>\n",
    "<ul>"
   ]
  },
  {
   "cell_type": "code",
   "execution_count": null,
   "id": "684f7025",
   "metadata": {},
   "outputs": [],
   "source": [
    "#transactions_web[transactions_web['id_prod']=='2_159'].price\n",
    "#transactions_web[transactions_web['id_prod']=='0_525'].price"
   ]
  },
  {
   "cell_type": "code",
   "execution_count": null,
   "id": "cd177cda",
   "metadata": {
    "scrolled": true
   },
   "outputs": [],
   "source": [
    "total_sessions=transactions_web.groupby(by='client_id').count()\n",
    "nb_sessions_2_159=transactions_web[transactions_web['id_prod'].isin({'2_159'})].groupby(by='client_id').count()\n",
    "#display(nb_sessions_2_159.sort_values(by='id_prod').tail())\n",
    "B=len(nb_sessions_2_159)*100/len(total_sessions)\n",
    "\n",
    "print(Fore.BLUE + Style.BRIGHT + f\"Probabilité qu’un client achète la référence 2_159 : {round(B,2)}%\")\n",
    "\n",
    "nb_sessions_2_prod=transactions_web[transactions_web['id_prod'].isin({'2_159','0_525'})].groupby(by='client_id').count()\n",
    "# nb_sessions_2_prod[nb_sessions_2_prod['id_prod']==2]\n",
    "A_et_B=len(nb_sessions_2_prod[nb_sessions_2_prod['id_prod']==2])*100/len(total_sessions)\n",
    "print(Fore.BLUE + Style.BRIGHT + f\"Probabilité qu’un client achète les références 2_159 et 0_525 en même temps : {round(A_et_B,2)}%\")\n",
    "\n",
    "result=A_et_B*100/B\n",
    "print(Fore.BLUE + Style.BRIGHT + f\"Probabilité qu’un client achète les références 0_525 sachant il a acheté la référence 2_159 : {round(result,2)}%\")"
   ]
  }
 ],
 "metadata": {
  "kernelspec": {
   "display_name": "Python 3",
   "language": "python",
   "name": "python3"
  },
  "language_info": {
   "codemirror_mode": {
    "name": "ipython",
    "version": 3
   },
   "file_extension": ".py",
   "mimetype": "text/x-python",
   "name": "python",
   "nbconvert_exporter": "python",
   "pygments_lexer": "ipython3",
   "version": "3.8.8"
  }
 },
 "nbformat": 4,
 "nbformat_minor": 5
}
