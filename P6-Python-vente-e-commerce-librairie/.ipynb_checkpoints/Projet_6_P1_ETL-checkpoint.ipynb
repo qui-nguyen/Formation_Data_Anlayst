{
 "cells": [
  {
   "cell_type": "markdown",
   "id": "f51face4",
   "metadata": {},
   "source": [
    "<img src=\"Logo_P6.PNG\" height=\"400\" width=\"400\" >\n",
    "<h1 style=\"color:blue; text-align:center; background-color:AliceBlue; font-size:300%; font-family:verdana; border:2px solid DodgerBlue\"><br>ANALYSE DE LA VENTE EN LIGNE<br>\n",
    "<h5 style=\"color:black; text-align:right\">NGUYEN Huynh Thanh Qui<br>Septembre 2021<br></h5>\n",
    "</h1>"
   ]
  },
  {
   "cell_type": "markdown",
   "id": "8ae3b83a",
   "metadata": {},
   "source": [
    "<h1 style=\"color:black; text-align:center; background-color:GhostWhite; font-size:300%; font-family:Georgia; border:2px solid LightSteelBlue\"><br>Etude de données<br></h1>"
   ]
  },
  {
   "cell_type": "markdown",
   "id": "6c350736",
   "metadata": {},
   "source": [
    "<h2 style=\"color:black; text-align:center; background-color:AliceBlue; font-size:150%; font-family:Georgia; border:2px solid DodgerBlue\"><br>I. Importation et lecture de données<br></h2>"
   ]
  },
  {
   "cell_type": "code",
   "execution_count": 1,
   "id": "b968084c",
   "metadata": {},
   "outputs": [],
   "source": [
    "#Importation de bibliothèques\n",
    "import pandas as pd\n",
    "import  matplotlib.pyplot as plt\n",
    "import numpy as np\n",
    "import seaborn as sns\n",
    "import colorama\n",
    "from colorama import Fore, Back, Style"
   ]
  },
  {
   "cell_type": "code",
   "execution_count": 2,
   "id": "cac2e805",
   "metadata": {},
   "outputs": [],
   "source": [
    "#Lecture de données\n",
    "transactions = pd.read_csv('transactions.csv')\n",
    "products = pd.read_csv('products.csv')\n",
    "customers = pd.read_csv('customers.csv')"
   ]
  },
  {
   "cell_type": "markdown",
   "id": "01d8733c",
   "metadata": {},
   "source": [
    "<h3 style=\"color:blue; text-align:center; font-size:100%; font-family:Georgia; border:2px solid DodgerBlue\"><br>Fichier 'transactions'<br></h3>"
   ]
  },
  {
   "cell_type": "markdown",
   "id": "1c44c794",
   "metadata": {},
   "source": [
    "<h4 style=\"color:black\"><br>1. Etude de données<br></h4>"
   ]
  },
  {
   "cell_type": "code",
   "execution_count": 3,
   "id": "91e4bf00",
   "metadata": {},
   "outputs": [
    {
     "name": "stdout",
     "output_type": "stream",
     "text": [
      "<class 'pandas.core.frame.DataFrame'>\n",
      "RangeIndex: 679532 entries, 0 to 679531\n",
      "Data columns (total 4 columns):\n",
      " #   Column      Non-Null Count   Dtype \n",
      "---  ------      --------------   ----- \n",
      " 0   id_prod     679532 non-null  object\n",
      " 1   date        679532 non-null  object\n",
      " 2   session_id  679532 non-null  object\n",
      " 3   client_id   679532 non-null  object\n",
      "dtypes: object(4)\n",
      "memory usage: 20.7+ MB\n",
      "\u001b[34m\u001b[1mLe fichier 'transactions' contient 679532 lignes complètes (non-null). Le type de données de la colonne 'date' est object, donc, je la transformerai en datetime\u001b[0m\n"
     ]
    },
    {
     "data": {
      "text/html": [
       "<div>\n",
       "<style scoped>\n",
       "    .dataframe tbody tr th:only-of-type {\n",
       "        vertical-align: middle;\n",
       "    }\n",
       "\n",
       "    .dataframe tbody tr th {\n",
       "        vertical-align: top;\n",
       "    }\n",
       "\n",
       "    .dataframe thead th {\n",
       "        text-align: right;\n",
       "    }\n",
       "</style>\n",
       "<table border=\"1\" class=\"dataframe\">\n",
       "  <thead>\n",
       "    <tr style=\"text-align: right;\">\n",
       "      <th></th>\n",
       "      <th>id_prod</th>\n",
       "      <th>date</th>\n",
       "      <th>session_id</th>\n",
       "      <th>client_id</th>\n",
       "    </tr>\n",
       "  </thead>\n",
       "  <tbody>\n",
       "    <tr>\n",
       "      <th>0</th>\n",
       "      <td>0_1518</td>\n",
       "      <td>2022-05-20 13:21:29.043970</td>\n",
       "      <td>s_211425</td>\n",
       "      <td>c_103</td>\n",
       "    </tr>\n",
       "    <tr>\n",
       "      <th>1</th>\n",
       "      <td>1_251</td>\n",
       "      <td>2022-02-02 07:55:19.149409</td>\n",
       "      <td>s_158752</td>\n",
       "      <td>c_8534</td>\n",
       "    </tr>\n",
       "    <tr>\n",
       "      <th>2</th>\n",
       "      <td>0_1277</td>\n",
       "      <td>2022-06-18 15:44:33.155329</td>\n",
       "      <td>s_225667</td>\n",
       "      <td>c_6714</td>\n",
       "    </tr>\n",
       "    <tr>\n",
       "      <th>3</th>\n",
       "      <td>2_209</td>\n",
       "      <td>2021-06-24 04:19:29.835891</td>\n",
       "      <td>s_52962</td>\n",
       "      <td>c_6941</td>\n",
       "    </tr>\n",
       "    <tr>\n",
       "      <th>4</th>\n",
       "      <td>0_1509</td>\n",
       "      <td>2023-01-11 08:22:08.194479</td>\n",
       "      <td>s_325227</td>\n",
       "      <td>c_4232</td>\n",
       "    </tr>\n",
       "  </tbody>\n",
       "</table>\n",
       "</div>"
      ],
      "text/plain": [
       "  id_prod                        date session_id client_id\n",
       "0  0_1518  2022-05-20 13:21:29.043970   s_211425     c_103\n",
       "1   1_251  2022-02-02 07:55:19.149409   s_158752    c_8534\n",
       "2  0_1277  2022-06-18 15:44:33.155329   s_225667    c_6714\n",
       "3   2_209  2021-06-24 04:19:29.835891    s_52962    c_6941\n",
       "4  0_1509  2023-01-11 08:22:08.194479   s_325227    c_4232"
      ]
     },
     "metadata": {},
     "output_type": "display_data"
    },
    {
     "data": {
      "text/plain": [
       "(679532, 4)"
      ]
     },
     "execution_count": 3,
     "metadata": {},
     "output_type": "execute_result"
    }
   ],
   "source": [
    "#Afficher les données et les informations\n",
    "transactions.info()\n",
    "print(Fore.BLUE + Style.BRIGHT + f\"Le fichier 'transactions' contient 679532 lignes complètes (non-null). \\\n",
    "Le type de données de la colonne 'date' est object, donc, je la transformerai en datetime\" + Style.RESET_ALL )\n",
    "\n",
    "display(transactions.head())\n",
    "transactions.shape"
   ]
  },
  {
   "cell_type": "code",
   "execution_count": 4,
   "id": "66d71bd5",
   "metadata": {
    "scrolled": true
   },
   "outputs": [
    {
     "name": "stdout",
     "output_type": "stream",
     "text": [
      "\u001b[34m\u001b[1mLa colonne 'date' contient des données de type 'object' et 'datetime' en même temps. Afin de changer le type de données de cette colonne, je fais un tri sur les valeurs contenant la chaîne de caractères ('test')\u001b[0m\n"
     ]
    },
    {
     "data": {
      "text/plain": [
       "(200, 5)"
      ]
     },
     "metadata": {},
     "output_type": "display_data"
    },
    {
     "name": "stdout",
     "output_type": "stream",
     "text": [
      "\u001b[34m\u001b[1mLes données triées sont celles des tests, donc, je les sépare pour avoir des données de transactions réelles\u001b[0m\n",
      "<class 'pandas.core.frame.DataFrame'>\n",
      "Int64Index: 679332 entries, 0 to 679531\n",
      "Data columns (total 5 columns):\n",
      " #   Column      Non-Null Count   Dtype         \n",
      "---  ------      --------------   -----         \n",
      " 0   id_prod     679332 non-null  object        \n",
      " 1   date        679332 non-null  object        \n",
      " 2   session_id  679332 non-null  object        \n",
      " 3   client_id   679332 non-null  object        \n",
      " 4   new_date    679332 non-null  datetime64[ns]\n",
      "dtypes: datetime64[ns](1), object(4)\n",
      "memory usage: 31.1+ MB\n"
     ]
    },
    {
     "data": {
      "text/plain": [
       "(679332, 5)"
      ]
     },
     "metadata": {},
     "output_type": "display_data"
    },
    {
     "name": "stdout",
     "output_type": "stream",
     "text": [
      "\u001b[34m\u001b[1mCe nouveau dataframe (df 'new_transaction') possède que les données de la transaction réelle et celle de la date est sous forme 'datetime'\u001b[0m\n"
     ]
    }
   ],
   "source": [
    "#Observation des données de la colonne 'date'\n",
    "#display(transactions.groupby(by='date').count())\n",
    "print(Fore.BLUE+Style.BRIGHT+f\"La colonne 'date' contient des données de type 'object' et 'datetime' en même temps. \\\n",
    "Afin de changer le type de données de cette colonne, je fais un tri sur les valeurs contenant la chaîne de caractères ('test')\"+ Style.RESET_ALL )\n",
    "\n",
    "#Trier des lignes contenant de la chaîne de caractères\n",
    "transactions['new_date'] = transactions['date']\n",
    "transactions['new_date'] = transactions['new_date'].str.slice(0, 10)\n",
    "display(transactions[transactions['new_date'].str.contains('test')].shape)\n",
    "print(Fore.BLUE+Style.BRIGHT+f\"Les données triées sont celles des tests, donc, je les sépare pour avoir des données de transactions réelles\"+ Style.RESET_ALL )\n",
    "\n",
    "#Filtration de données\n",
    "new_transactions=transactions[~transactions['new_date'].str.contains('test')]\n",
    "new_transactions=new_transactions.loc[:, ('id_prod', 'date', 'session_id', 'client_id', 'new_date')]\n",
    "\n",
    "new_transactions['new_date']=pd.to_datetime(transactions[~transactions['new_date'].str.contains('test')]['new_date'])\n",
    "new_transactions.info()\n",
    "display(new_transactions.shape)\n",
    "print(Fore.BLUE+Style.BRIGHT+f\"Ce nouveau dataframe (df 'new_transaction') possède que les données de la transaction réelle et celle de la date est sous forme 'datetime'\"+ Style.RESET_ALL)"
   ]
  },
  {
   "cell_type": "markdown",
   "id": "7fb39d95",
   "metadata": {},
   "source": [
    "<h4 style=\"color:black\"><br>2. Observation de données<br></h4>"
   ]
  },
  {
   "cell_type": "markdown",
   "id": "399dd66d",
   "metadata": {},
   "source": [
    "<ul style=\"font-family:Time\">\n",
    "  <li>Les dates de transactions sont des enregistrements en temps réels</li>\n",
    "  <li>Afin d'observer des ventes en ligne par jour (ou mois), je crée la colonne 'month' puis je la converti en type 'datetime' pour les analyses en graphique.</li>\n",
    "</ul>"
   ]
  },
  {
   "cell_type": "code",
   "execution_count": 5,
   "id": "c417b733",
   "metadata": {},
   "outputs": [],
   "source": [
    "#transactions_web.loc[:,'month']=pd.to_datetime(transactions_web['month'].copy()).dt.date"
   ]
  },
  {
   "cell_type": "code",
   "execution_count": 6,
   "id": "fe0386a4",
   "metadata": {},
   "outputs": [
    {
     "name": "stdout",
     "output_type": "stream",
     "text": [
      "<class 'pandas.core.frame.DataFrame'>\n",
      "Int64Index: 679332 entries, 0 to 679531\n",
      "Data columns (total 6 columns):\n",
      " #   Column      Non-Null Count   Dtype         \n",
      "---  ------      --------------   -----         \n",
      " 0   id_prod     679332 non-null  object        \n",
      " 1   date        679332 non-null  object        \n",
      " 2   session_id  679332 non-null  object        \n",
      " 3   client_id   679332 non-null  object        \n",
      " 4   new_date    679332 non-null  datetime64[ns]\n",
      " 5   month       679332 non-null  datetime64[ns]\n",
      "dtypes: datetime64[ns](2), object(4)\n",
      "memory usage: 36.3+ MB\n"
     ]
    },
    {
     "data": {
      "text/plain": [
       "None"
      ]
     },
     "metadata": {},
     "output_type": "display_data"
    }
   ],
   "source": [
    "#Créer la colonne 'mois'\n",
    "new_transactions['month']=pd.to_datetime(new_transactions['new_date'].dt.strftime('%Y-%m'))\n",
    "#display(new_transactions.head())\n",
    "display(new_transactions.info())"
   ]
  },
  {
   "cell_type": "markdown",
   "id": "1b5a8098",
   "metadata": {},
   "source": [
    "<ul style=\"font-family:Time\">\n",
    "  <li>Le nombre de ventes en fonction du jours :</li>"
   ]
  },
  {
   "cell_type": "code",
   "execution_count": 7,
   "id": "f64fbeda",
   "metadata": {},
   "outputs": [
    {
     "name": "stdout",
     "output_type": "stream",
     "text": [
      "\u001b[34m\u001b[1mEn générale, il n'y a pas de lacune du nombre de ventes sur l'ensemble période examinée.  Cependant, on observe une chute inquiétante du nombre de transactions en fin de l'année 2021, plus précisément en octobre 2021; Le détail de cette chute sera analysé dans la partie 2\u001b[39m\n"
     ]
    },
    {
     "data": {
      "text/html": [
       "<div>\n",
       "<style scoped>\n",
       "    .dataframe tbody tr th:only-of-type {\n",
       "        vertical-align: middle;\n",
       "    }\n",
       "\n",
       "    .dataframe tbody tr th {\n",
       "        vertical-align: top;\n",
       "    }\n",
       "\n",
       "    .dataframe thead th {\n",
       "        text-align: right;\n",
       "    }\n",
       "</style>\n",
       "<table border=\"1\" class=\"dataframe\">\n",
       "  <thead>\n",
       "    <tr style=\"text-align: right;\">\n",
       "      <th></th>\n",
       "      <th>id_prod</th>\n",
       "    </tr>\n",
       "    <tr>\n",
       "      <th>new_date</th>\n",
       "      <th></th>\n",
       "    </tr>\n",
       "  </thead>\n",
       "  <tbody>\n",
       "    <tr>\n",
       "      <th>2021-10-25</th>\n",
       "      <td>577</td>\n",
       "    </tr>\n",
       "    <tr>\n",
       "      <th>2021-10-27</th>\n",
       "      <td>579</td>\n",
       "    </tr>\n",
       "    <tr>\n",
       "      <th>2021-10-20</th>\n",
       "      <td>597</td>\n",
       "    </tr>\n",
       "    <tr>\n",
       "      <th>2021-10-23</th>\n",
       "      <td>602</td>\n",
       "    </tr>\n",
       "    <tr>\n",
       "      <th>2021-10-19</th>\n",
       "      <td>604</td>\n",
       "    </tr>\n",
       "  </tbody>\n",
       "</table>\n",
       "</div>"
      ],
      "text/plain": [
       "            id_prod\n",
       "new_date           \n",
       "2021-10-25      577\n",
       "2021-10-27      579\n",
       "2021-10-20      597\n",
       "2021-10-23      602\n",
       "2021-10-19      604"
      ]
     },
     "metadata": {},
     "output_type": "display_data"
    },
    {
     "data": {
      "image/png": "[encoded data removed]",
      "text/plain": [
       "<Figure size 1440x360 with 1 Axes>"
      ]
     },
     "metadata": {
      "needs_background": "light"
     },
     "output_type": "display_data"
    }
   ],
   "source": [
    "new_transactions.groupby(by='new_date').count().sort_values(by='id_prod')['id_prod'].plot(kind='line', figsize=(20,5))\n",
    "plt.title(\"Représentation du nombre d'articles vendus sur le site web en fonction du jour, de 03/2021 à 02/2023\")\n",
    "plt.xlabel(\"Temps (03/2021-02/2023)\")\n",
    "plt.ylabel(\"Nombre d'articles vendus (articles)'\")\n",
    "print(Fore.BLUE+Style.BRIGHT+ f\"En générale, il n'y a pas de lacune du nombre de ventes sur l'ensemble période examinée.  \\\n",
    "Cependant, on observe une chute inquiétante du nombre de transactions en fin de l'année 2021, plus précisément en octobre 2021; \\\n",
    "Le détail de cette chute sera analysé dans la partie 2\" + Fore.RESET)\n",
    "\n",
    "#Zoom sur la chute de nombre de sessions\n",
    "chute_sessions=new_transactions.loc[new_transactions[\"new_date\"].between('2021-10-01', '2021-12-15')]\n",
    "display(chute_sessions.groupby(by=['new_date']).count().sort_values(by='id_prod')['id_prod'].to_frame().head())"
   ]
  },
  {
   "cell_type": "markdown",
   "id": "6e07d124",
   "metadata": {},
   "source": [
    "<h3 style=\"color:blue; text-align:center; font-size:100%; font-family:Georgia; border:2px solid DodgerBlue\"><br>Fichier 'products'<br></h3>"
   ]
  },
  {
   "cell_type": "markdown",
   "id": "33dfae55",
   "metadata": {},
   "source": [
    "<h4 style=\"color:black\"><br>1. Etude de données<br></h4>"
   ]
  },
  {
   "cell_type": "code",
   "execution_count": 8,
   "id": "83e5f038",
   "metadata": {},
   "outputs": [
    {
     "data": {
      "text/html": [
       "<div>\n",
       "<style scoped>\n",
       "    .dataframe tbody tr th:only-of-type {\n",
       "        vertical-align: middle;\n",
       "    }\n",
       "\n",
       "    .dataframe tbody tr th {\n",
       "        vertical-align: top;\n",
       "    }\n",
       "\n",
       "    .dataframe thead th {\n",
       "        text-align: right;\n",
       "    }\n",
       "</style>\n",
       "<table border=\"1\" class=\"dataframe\">\n",
       "  <thead>\n",
       "    <tr style=\"text-align: right;\">\n",
       "      <th></th>\n",
       "      <th>id_prod</th>\n",
       "      <th>price</th>\n",
       "      <th>categ</th>\n",
       "    </tr>\n",
       "  </thead>\n",
       "  <tbody>\n",
       "    <tr>\n",
       "      <th>0</th>\n",
       "      <td>0_1421</td>\n",
       "      <td>19.99</td>\n",
       "      <td>0</td>\n",
       "    </tr>\n",
       "    <tr>\n",
       "      <th>1</th>\n",
       "      <td>0_1368</td>\n",
       "      <td>5.13</td>\n",
       "      <td>0</td>\n",
       "    </tr>\n",
       "    <tr>\n",
       "      <th>2</th>\n",
       "      <td>0_731</td>\n",
       "      <td>17.99</td>\n",
       "      <td>0</td>\n",
       "    </tr>\n",
       "    <tr>\n",
       "      <th>3</th>\n",
       "      <td>1_587</td>\n",
       "      <td>4.99</td>\n",
       "      <td>1</td>\n",
       "    </tr>\n",
       "    <tr>\n",
       "      <th>4</th>\n",
       "      <td>0_1507</td>\n",
       "      <td>3.99</td>\n",
       "      <td>0</td>\n",
       "    </tr>\n",
       "  </tbody>\n",
       "</table>\n",
       "</div>"
      ],
      "text/plain": [
       "  id_prod  price  categ\n",
       "0  0_1421  19.99      0\n",
       "1  0_1368   5.13      0\n",
       "2   0_731  17.99      0\n",
       "3   1_587   4.99      1\n",
       "4  0_1507   3.99      0"
      ]
     },
     "metadata": {},
     "output_type": "display_data"
    },
    {
     "name": "stdout",
     "output_type": "stream",
     "text": [
      "<class 'pandas.core.frame.DataFrame'>\n",
      "RangeIndex: 3287 entries, 0 to 3286\n",
      "Data columns (total 3 columns):\n",
      " #   Column   Non-Null Count  Dtype  \n",
      "---  ------   --------------  -----  \n",
      " 0   id_prod  3287 non-null   object \n",
      " 1   price    3287 non-null   float64\n",
      " 2   categ    3287 non-null   int64  \n",
      "dtypes: float64(1), int64(1), object(1)\n",
      "memory usage: 77.2+ KB\n",
      "\u001b[34m\u001b[1mCe fichier ne contient pas de valeurs nulls dans sa clé primaire (PK) (et même dans les autres colonnes). En excécutant la fonction 'value_counts', je trouve que l'unicité de PK est assurée ou chaque produit a une clé primaire\n"
     ]
    },
    {
     "data": {
      "text/html": [
       "<div>\n",
       "<style scoped>\n",
       "    .dataframe tbody tr th:only-of-type {\n",
       "        vertical-align: middle;\n",
       "    }\n",
       "\n",
       "    .dataframe tbody tr th {\n",
       "        vertical-align: top;\n",
       "    }\n",
       "\n",
       "    .dataframe thead th {\n",
       "        text-align: right;\n",
       "    }\n",
       "</style>\n",
       "<table border=\"1\" class=\"dataframe\">\n",
       "  <thead>\n",
       "    <tr style=\"text-align: right;\">\n",
       "      <th></th>\n",
       "      <th>id_prod</th>\n",
       "    </tr>\n",
       "  </thead>\n",
       "  <tbody>\n",
       "    <tr>\n",
       "      <th>1_159</th>\n",
       "      <td>1</td>\n",
       "    </tr>\n",
       "    <tr>\n",
       "      <th>2_53</th>\n",
       "      <td>1</td>\n",
       "    </tr>\n",
       "    <tr>\n",
       "      <th>0_1947</th>\n",
       "      <td>1</td>\n",
       "    </tr>\n",
       "    <tr>\n",
       "      <th>0_1095</th>\n",
       "      <td>1</td>\n",
       "    </tr>\n",
       "    <tr>\n",
       "      <th>0_1270</th>\n",
       "      <td>1</td>\n",
       "    </tr>\n",
       "  </tbody>\n",
       "</table>\n",
       "</div>"
      ],
      "text/plain": [
       "        id_prod\n",
       "1_159         1\n",
       "2_53          1\n",
       "0_1947        1\n",
       "0_1095        1\n",
       "0_1270        1"
      ]
     },
     "metadata": {},
     "output_type": "display_data"
    }
   ],
   "source": [
    "display(products.head())\n",
    "products.info()\n",
    "print(Fore.BLUE +Style.BRIGHT+ f\"Ce fichier ne contient pas de valeurs nulls dans sa clé primaire (PK) (et même dans les autres colonnes). \\\n",
    "En excécutant la fonction 'value_counts', je trouve que l'unicité de PK est assurée ou chaque produit a une clé primaire\")\n",
    "display(products['id_prod'].value_counts().tail().to_frame())"
   ]
  },
  {
   "cell_type": "markdown",
   "id": "1db86882",
   "metadata": {},
   "source": [
    "<h4 style=\"color:black\"><br>2. Observation de données<br></h4>"
   ]
  },
  {
   "cell_type": "markdown",
   "id": "cb7d0247",
   "metadata": {},
   "source": [
    "<p style=\"font-family:Time\"> <b>La répartition du prix</b><br>\n",
    "  <ul style=\"font-family:Time\">\n",
    "      <li>Afin d'avoir une vue globale sur le prix des produits, je fais une recherche plus profonde sur la répartition du prix des produits de notre base donnée (BD)</li>\n",
    "      <li>Pour cela, je vais créer un histogramme en divisant les prix par 100 tranches</li>\n",
    "      <li>Ensuite, je vais les analyser en observant le nombre de produits groupés par catégorie ainsi que la répartition du prix en fonction de la catégorie de produits (diagramme en boîte à moustaches)</li>\n",
    "  <ul>\n",
    "</p>"
   ]
  },
  {
   "cell_type": "code",
   "execution_count": 9,
   "id": "c78f9748",
   "metadata": {},
   "outputs": [
    {
     "data": {
      "text/plain": [
       "count    3287.000000\n",
       "mean       21.856641\n",
       "std        29.847908\n",
       "min        -1.000000\n",
       "25%         6.990000\n",
       "50%        13.060000\n",
       "75%        22.990000\n",
       "max       300.000000\n",
       "Name: price, dtype: float64"
      ]
     },
     "metadata": {},
     "output_type": "display_data"
    },
    {
     "name": "stdout",
     "output_type": "stream",
     "text": [
      "\u001b[34m\u001b[1mLa plupart des prix se trouvent entre 6 euros et 22 euros. Cependant, je trouve qu'il y a des valeurs négatives dans le prix, donc, je vais les séparer et les examiner dans la requête suivante\n"
     ]
    },
    {
     "data": {
      "text/html": [
       "<div>\n",
       "<style scoped>\n",
       "    .dataframe tbody tr th:only-of-type {\n",
       "        vertical-align: middle;\n",
       "    }\n",
       "\n",
       "    .dataframe tbody tr th {\n",
       "        vertical-align: top;\n",
       "    }\n",
       "\n",
       "    .dataframe thead th {\n",
       "        text-align: right;\n",
       "    }\n",
       "</style>\n",
       "<table border=\"1\" class=\"dataframe\">\n",
       "  <thead>\n",
       "    <tr style=\"text-align: right;\">\n",
       "      <th></th>\n",
       "      <th>id_prod</th>\n",
       "      <th>price</th>\n",
       "      <th>categ</th>\n",
       "    </tr>\n",
       "  </thead>\n",
       "  <tbody>\n",
       "    <tr>\n",
       "      <th>731</th>\n",
       "      <td>T_0</td>\n",
       "      <td>-1.0</td>\n",
       "      <td>0</td>\n",
       "    </tr>\n",
       "  </tbody>\n",
       "</table>\n",
       "</div>"
      ],
      "text/plain": [
       "    id_prod  price  categ\n",
       "731     T_0   -1.0      0"
      ]
     },
     "metadata": {},
     "output_type": "display_data"
    },
    {
     "name": "stdout",
     "output_type": "stream",
     "text": [
      "\u001b[34m\u001b[1mLe résultat de cette requête nous donne une valeur négative ou il y a un prix qui est inférieur à 0. Ce produit correspond à un produit de test dans le fichier 'transactions'. C'est pour cette raison, je le garde pour avoir un référence de produit 'test' dans nos données de produits car il n'influence pas les transactions à analyser plus tard\n",
      "\u001b[34mLe df 'new_product contient des produits ayant le prix suppérieur à 0\n",
      "\u001b[34m\u001b[1mLa distribution de prix des produits (divisés par 100 tranches de prix) en histogramme. Les prix se trouvent entre 0,62 euros et 300 euros. La plupart des produits ont un prix de moins 50 euros\n"
     ]
    },
    {
     "data": {
      "image/png": "[encoded data removed]",
      "text/plain": [
       "<Figure size 720x288 with 1 Axes>"
      ]
     },
     "metadata": {
      "needs_background": "light"
     },
     "output_type": "display_data"
    }
   ],
   "source": [
    "display(products['price'].describe())\n",
    "print(Fore.BLUE +Style.BRIGHT + f\"La plupart des prix se trouvent entre 6 euros et 22 euros. \\\n",
    "Cependant, je trouve qu'il y a des valeurs négatives dans le prix, donc, je vais les séparer et les examiner dans la requête suivante\")\n",
    "\n",
    "#Séparer les valeurs anormales qui sont inférieurs à 0\n",
    "display(products[products['price']<= 0])\n",
    "print(Fore.BLUE +Style.BRIGHT + f\"Le résultat de cette requête nous donne une valeur négative ou il y a un prix qui est inférieur à 0. \\\n",
    "Ce produit correspond à un produit de test dans le fichier 'transactions'. C'est pour cette raison, je le garde pour avoir un référence de produit 'test' \\\n",
    "dans nos données de produits car il n'influence pas les transactions à analyser plus tard\")\n",
    "\n",
    "#Selectionner les données réelles de produits\n",
    "new_products=products[~(products['price']<= 0)]\n",
    "#display(new_products.sort_values('price').head())\n",
    "print(Fore.BLUE + f\"Le df 'new_product contient des produits ayant le prix suppérieur à 0\")\n",
    "\n",
    "#Histogramme\n",
    "figure = plt.figure(figsize = (10, 4))\n",
    "sns.histplot(new_products, x=\"price\", bins=(100)).set(\n",
    "    title='Nombre de produits en fonction du prix',\n",
    "    xlabel='Tranche de prix (euros)',\n",
    "    ylabel='Nombre de produits')\n",
    "\n",
    "print(Fore.BLUE+Style.BRIGHT + f\"La distribution de prix des produits (divisés par 100 tranches de prix) en histogramme. \\\n",
    "Les prix se trouvent entre 0,62 euros et 300 euros. La plupart des produits ont un prix de moins 50 euros\")"
   ]
  },
  {
   "cell_type": "code",
   "execution_count": 10,
   "id": "fc7e8d50",
   "metadata": {},
   "outputs": [
    {
     "name": "stdout",
     "output_type": "stream",
     "text": [
      "\u001b[34m\u001b[1mDescription des produits au seine de chaque catégorie :\n"
     ]
    },
    {
     "data": {
      "text/html": [
       "<div>\n",
       "<style scoped>\n",
       "    .dataframe tbody tr th:only-of-type {\n",
       "        vertical-align: middle;\n",
       "    }\n",
       "\n",
       "    .dataframe tbody tr th {\n",
       "        vertical-align: top;\n",
       "    }\n",
       "\n",
       "    .dataframe thead tr th {\n",
       "        text-align: left;\n",
       "    }\n",
       "\n",
       "    .dataframe thead tr:last-of-type th {\n",
       "        text-align: right;\n",
       "    }\n",
       "</style>\n",
       "<table border=\"1\" class=\"dataframe\">\n",
       "  <thead>\n",
       "    <tr>\n",
       "      <th></th>\n",
       "      <th colspan=\"8\" halign=\"left\">price</th>\n",
       "    </tr>\n",
       "    <tr>\n",
       "      <th></th>\n",
       "      <th>count</th>\n",
       "      <th>mean</th>\n",
       "      <th>std</th>\n",
       "      <th>min</th>\n",
       "      <th>25%</th>\n",
       "      <th>50%</th>\n",
       "      <th>75%</th>\n",
       "      <th>max</th>\n",
       "    </tr>\n",
       "    <tr>\n",
       "      <th>categ</th>\n",
       "      <th></th>\n",
       "      <th></th>\n",
       "      <th></th>\n",
       "      <th></th>\n",
       "      <th></th>\n",
       "      <th></th>\n",
       "      <th></th>\n",
       "      <th></th>\n",
       "    </tr>\n",
       "  </thead>\n",
       "  <tbody>\n",
       "    <tr>\n",
       "      <th>0</th>\n",
       "      <td>2308.0</td>\n",
       "      <td>11.732795</td>\n",
       "      <td>7.565755</td>\n",
       "      <td>0.62</td>\n",
       "      <td>5.5875</td>\n",
       "      <td>10.32</td>\n",
       "      <td>16.655</td>\n",
       "      <td>40.99</td>\n",
       "    </tr>\n",
       "    <tr>\n",
       "      <th>1</th>\n",
       "      <td>739.0</td>\n",
       "      <td>25.531421</td>\n",
       "      <td>15.425162</td>\n",
       "      <td>2.00</td>\n",
       "      <td>13.3900</td>\n",
       "      <td>22.99</td>\n",
       "      <td>33.990</td>\n",
       "      <td>80.99</td>\n",
       "    </tr>\n",
       "    <tr>\n",
       "      <th>2</th>\n",
       "      <td>239.0</td>\n",
       "      <td>108.354686</td>\n",
       "      <td>49.561431</td>\n",
       "      <td>30.99</td>\n",
       "      <td>71.0650</td>\n",
       "      <td>101.99</td>\n",
       "      <td>136.530</td>\n",
       "      <td>300.00</td>\n",
       "    </tr>\n",
       "  </tbody>\n",
       "</table>\n",
       "</div>"
      ],
      "text/plain": [
       "        price                                                                \n",
       "        count        mean        std    min      25%     50%      75%     max\n",
       "categ                                                                        \n",
       "0      2308.0   11.732795   7.565755   0.62   5.5875   10.32   16.655   40.99\n",
       "1       739.0   25.531421  15.425162   2.00  13.3900   22.99   33.990   80.99\n",
       "2       239.0  108.354686  49.561431  30.99  71.0650  101.99  136.530  300.00"
      ]
     },
     "execution_count": 10,
     "metadata": {},
     "output_type": "execute_result"
    },
    {
     "data": {
      "image/png": "[encoded data removed]",
      "text/plain": [
       "<Figure size 504x360 with 2 Axes>"
      ]
     },
     "metadata": {
      "needs_background": "light"
     },
     "output_type": "display_data"
    }
   ],
   "source": [
    "figure = plt.figure(figsize = (7, 5))\n",
    "plt.gcf().subplots_adjust(left = 0.2, bottom = 0.2,\n",
    "                       right = 1.5, top = 1, \n",
    "                       wspace = 0.5, hspace = 2)\n",
    "\n",
    "#Diagramme en bâton des produits réels\n",
    "axes = figure.add_subplot(1, 2, 1)\n",
    "sns.countplot(x='categ', data=new_products).set(\n",
    "    title='Nombre de produits en fonction de catégorie',\n",
    "    xlabel='Catégorie de produits',\n",
    "    ylabel='Nombre de produits')\n",
    "\n",
    "#Boîte à moustaches des produits réels\n",
    "axes = figure.add_subplot(1, 2, 2)\n",
    "sns.boxplot(x=\"categ\", y=\"price\", data=new_products).set(\n",
    "    title='Répartition du prix en fonction de la catégorie de produits',\n",
    "    xlabel='Catégorie de produits',\n",
    "    ylabel='Prix de produits')\n",
    "\n",
    "print(Fore.BLUE + Style.BRIGHT + f\"Description des produits au seine de chaque catégorie :\")\n",
    "\n",
    "new_products.groupby(by='categ').describe()"
   ]
  },
  {
   "cell_type": "markdown",
   "id": "a3b87577",
   "metadata": {},
   "source": [
    "<ul style=\"font-family:Time\"><b><u>Observation</u> :</b> \n",
    "  <ul style=\"font-family:Time\"><br>\n",
    "      <li>La plupart des produits sont classés en catégorie 0 et les prix sont moins chers en comparant avec les 2 autres</li>\n",
    "      <li>Le prix des produits de la catégorie 2 est plus chers et son intervalle de prix est plus large (de 40 à 300 euros)</li>\n",
    "      <li>Le prix moyen des produits augmente en fonction de la catégorie, donc de 0 à 2, contrairement au nombre de produits par catégorie.</li>\n",
    "  <ul>"
   ]
  },
  {
   "cell_type": "markdown",
   "id": "e74a2f3d",
   "metadata": {},
   "source": [
    "<h3 style=\"color:blue; text-align:center; font-size:100%; font-family:Georgia; border:2px solid DodgerBlue\"><br>Fichier 'customers'<br></h3>"
   ]
  },
  {
   "cell_type": "markdown",
   "id": "09705446",
   "metadata": {},
   "source": [
    "<h4 style=\"color:black\"><br>1. Etude de données<br></h4>"
   ]
  },
  {
   "cell_type": "code",
   "execution_count": 11,
   "id": "5317a753",
   "metadata": {},
   "outputs": [
    {
     "name": "stdout",
     "output_type": "stream",
     "text": [
      "<class 'pandas.core.frame.DataFrame'>\n",
      "RangeIndex: 8623 entries, 0 to 8622\n",
      "Data columns (total 3 columns):\n",
      " #   Column     Non-Null Count  Dtype \n",
      "---  ------     --------------  ----- \n",
      " 0   client_id  8623 non-null   object\n",
      " 1   sex        8623 non-null   object\n",
      " 2   birth      8623 non-null   int64 \n",
      "dtypes: int64(1), object(2)\n",
      "memory usage: 202.2+ KB\n"
     ]
    },
    {
     "data": {
      "text/html": [
       "<div>\n",
       "<style scoped>\n",
       "    .dataframe tbody tr th:only-of-type {\n",
       "        vertical-align: middle;\n",
       "    }\n",
       "\n",
       "    .dataframe tbody tr th {\n",
       "        vertical-align: top;\n",
       "    }\n",
       "\n",
       "    .dataframe thead th {\n",
       "        text-align: right;\n",
       "    }\n",
       "</style>\n",
       "<table border=\"1\" class=\"dataframe\">\n",
       "  <thead>\n",
       "    <tr style=\"text-align: right;\">\n",
       "      <th></th>\n",
       "      <th>client_id</th>\n",
       "    </tr>\n",
       "  </thead>\n",
       "  <tbody>\n",
       "    <tr>\n",
       "      <th>c_2457</th>\n",
       "      <td>1</td>\n",
       "    </tr>\n",
       "    <tr>\n",
       "      <th>c_5079</th>\n",
       "      <td>1</td>\n",
       "    </tr>\n",
       "    <tr>\n",
       "      <th>c_787</th>\n",
       "      <td>1</td>\n",
       "    </tr>\n",
       "    <tr>\n",
       "      <th>c_3310</th>\n",
       "      <td>1</td>\n",
       "    </tr>\n",
       "    <tr>\n",
       "      <th>c_2416</th>\n",
       "      <td>1</td>\n",
       "    </tr>\n",
       "  </tbody>\n",
       "</table>\n",
       "</div>"
      ],
      "text/plain": [
       "        client_id\n",
       "c_2457          1\n",
       "c_5079          1\n",
       "c_787           1\n",
       "c_3310          1\n",
       "c_2416          1"
      ]
     },
     "metadata": {},
     "output_type": "display_data"
    },
    {
     "name": "stdout",
     "output_type": "stream",
     "text": [
      "\u001b[34m\u001b[1mCe fichier ne contient pas de valeurs nulls dans sa PK (et même dans les autres colonnes). En excécutant la fonction 'value_counts', je trouve que l'unicité de PK est assurées ou chaque produit a une clé primaire\n"
     ]
    }
   ],
   "source": [
    "#display(customers.head)\n",
    "customers.info()\n",
    "display(customers['client_id'].value_counts().to_frame().tail())\n",
    "print(Fore.BLUE + Style.BRIGHT + f\"Ce fichier ne contient pas de valeurs nulls dans sa PK (et même dans les autres colonnes). \\\n",
    "En excécutant la fonction 'value_counts', je trouve que l'unicité de PK est assurées ou chaque produit a une clé primaire\")"
   ]
  },
  {
   "cell_type": "markdown",
   "id": "dfe5349b",
   "metadata": {},
   "source": [
    "<h4 style=\"color:black\"><br>2. Observation de données<br></h4>"
   ]
  },
  {
   "cell_type": "markdown",
   "id": "37b9a2ac",
   "metadata": {},
   "source": [
    "<ul style=\"font-family:Time\"><b>a. <u>Répartition de l'âge des clients en fonction du sexe</u></b>\n",
    "</ul>"
   ]
  },
  {
   "cell_type": "code",
   "execution_count": 12,
   "id": "65aadd40",
   "metadata": {},
   "outputs": [
    {
     "name": "stdout",
     "output_type": "stream",
     "text": [
      "\u001b[34m\u001b[1mLa réprésentation en boîte à moustaches de l'âge des clients des 2 sexes sont similaires\n"
     ]
    },
    {
     "data": {
      "text/html": [
       "<div>\n",
       "<style scoped>\n",
       "    .dataframe tbody tr th:only-of-type {\n",
       "        vertical-align: middle;\n",
       "    }\n",
       "\n",
       "    .dataframe tbody tr th {\n",
       "        vertical-align: top;\n",
       "    }\n",
       "\n",
       "    .dataframe thead th {\n",
       "        text-align: right;\n",
       "    }\n",
       "</style>\n",
       "<table border=\"1\" class=\"dataframe\">\n",
       "  <thead>\n",
       "    <tr style=\"text-align: right;\">\n",
       "      <th></th>\n",
       "      <th>count</th>\n",
       "      <th>mean</th>\n",
       "      <th>std</th>\n",
       "      <th>min</th>\n",
       "      <th>25%</th>\n",
       "      <th>50%</th>\n",
       "      <th>75%</th>\n",
       "      <th>max</th>\n",
       "    </tr>\n",
       "    <tr>\n",
       "      <th>sex</th>\n",
       "      <th></th>\n",
       "      <th></th>\n",
       "      <th></th>\n",
       "      <th></th>\n",
       "      <th></th>\n",
       "      <th></th>\n",
       "      <th></th>\n",
       "      <th></th>\n",
       "    </tr>\n",
       "  </thead>\n",
       "  <tbody>\n",
       "    <tr>\n",
       "      <th>f</th>\n",
       "      <td>4491.0</td>\n",
       "      <td>44.005121</td>\n",
       "      <td>17.098242</td>\n",
       "      <td>18.0</td>\n",
       "      <td>30.0</td>\n",
       "      <td>43.0</td>\n",
       "      <td>56.0</td>\n",
       "      <td>93.0</td>\n",
       "    </tr>\n",
       "    <tr>\n",
       "      <th>m</th>\n",
       "      <td>4132.0</td>\n",
       "      <td>43.408277</td>\n",
       "      <td>16.719656</td>\n",
       "      <td>18.0</td>\n",
       "      <td>30.0</td>\n",
       "      <td>42.0</td>\n",
       "      <td>56.0</td>\n",
       "      <td>93.0</td>\n",
       "    </tr>\n",
       "  </tbody>\n",
       "</table>\n",
       "</div>"
      ],
      "text/plain": [
       "      count       mean        std   min   25%   50%   75%   max\n",
       "sex                                                            \n",
       "f    4491.0  44.005121  17.098242  18.0  30.0  43.0  56.0  93.0\n",
       "m    4132.0  43.408277  16.719656  18.0  30.0  42.0  56.0  93.0"
      ]
     },
     "execution_count": 12,
     "metadata": {},
     "output_type": "execute_result"
    },
    {
     "data": {
      "image/png": "[encoded data removed]",
      "text/plain": [
       "<Figure size 432x288 with 1 Axes>"
      ]
     },
     "metadata": {
      "needs_background": "light"
     },
     "output_type": "display_data"
    }
   ],
   "source": [
    "#Rajouter une colonne de l'âge de clients (en 2021)\n",
    "customers['age']=2021-customers[['birth']]+1\n",
    "\n",
    "#Boîte à moustaches\n",
    "sns.boxplot(x=\"sex\", y=\"age\", data=customers).set(\n",
    "    title=\"Répartition de l'âge de clients en fonction du sexe\",\n",
    "    xlabel='Sexe',\n",
    "    ylabel='Age')\n",
    "print(Fore.BLUE + Style.BRIGHT + f\"La réprésentation en boîte à moustaches de l'âge des clients des 2 sexes sont similaires\")\n",
    "\n",
    "customers.groupby(by='sex').describe()['age']"
   ]
  },
  {
   "cell_type": "markdown",
   "id": "8d0ed017",
   "metadata": {},
   "source": [
    "<ul style=\"font-family:Time\"><b>b. <u>Nombre de clients en fonction de leur âge</u></b>\n",
    "</ul>"
   ]
  },
  {
   "cell_type": "code",
   "execution_count": 13,
   "id": "e88bdb00",
   "metadata": {
    "scrolled": false
   },
   "outputs": [
    {
     "name": "stdout",
     "output_type": "stream",
     "text": [
      "\u001b[34m\u001b[1mLes clients ont de 18 à 93 ans. Il y a un nombre atypique (ou anormal) de clients qui sont nés en 2004 ou des clients qui ont 18 ans\n"
     ]
    },
    {
     "data": {
      "image/png": "[encoded data removed]",
      "text/plain": [
       "<Figure size 1440x504 with 1 Axes>"
      ]
     },
     "metadata": {
      "needs_background": "light"
     },
     "output_type": "display_data"
    }
   ],
   "source": [
    "#Groupement du nombre de clients par leur âge\n",
    "nb_clients = customers.groupby(by='age')['age'].count().to_frame()\n",
    "nb_clients.rename(columns={'age':'nombre de clients'}, inplace=True) \n",
    "nb_clients.reset_index(inplace=True)\n",
    "\n",
    "#Répartition et relation du nombre de clients en fonction de leur âge\n",
    "figure = plt.figure(figsize = (20, 7))\n",
    "sns.regplot(x='age', y='nombre de clients',data=nb_clients, fit_reg=True).set(\n",
    "    title='Nombre de clients en fonction de leur âge',\n",
    "    xlabel='Age',\n",
    "    ylabel='Nombre de clients (personnes)')\n",
    "\n",
    "print(Fore.BLUE+ Style.BRIGHT + f\"Les clients ont de 18 à 93 ans. \\\n",
    "Il y a un nombre atypique (ou anormal) de clients qui sont nés en 2004 ou des clients qui ont 18 ans\")\n",
    "#nb_clients.corr()"
   ]
  },
  {
   "cell_type": "markdown",
   "id": "e29e1614",
   "metadata": {},
   "source": [
    "<ul style=\"font-family:Time\"><b><u>Observation</u> :</b>\n",
    "    <ul style=\"font-family:Time\"><br>\n",
    "      <li>Ici, on obtient une répartition du nombre de clients en fonction de leurs âges</li>\n",
    "      <li>En générale, plus les clients sont âgés, plus ils sont moins nombreux. La corrélation entre les 2 axes est négative ou ils varient en sens contraire</li>\n",
    "     <li>Il existe également une valeur extrême en haut à gauche, ce qui correspond aux clients qui ont 18 ans en 2021</li>\n",
    "  <ul>"
   ]
  },
  {
   "cell_type": "markdown",
   "id": "ad7ca218",
   "metadata": {},
   "source": [
    "<ul style=\"font-family:Time\"><b><u>Hypothèse de l'anomalie du nombre de clients nés en 2004 (ou 18 ans en 2021)</u>:</b>\n",
    "  <ul style=\"font-family:Time\"><br>\n",
    "      <li>Le nombre observé des clients qui sont nés en 2004 est supérieur à 400 et plus de 2 fois par rapport à la 2ème classe</li>\n",
    "      <li>Ce phénomène peut être dû à la restriction d'âge lors de la création du compte personnel</li>\n",
    "      <li>Plus précisément, les clients qui sont nés en 2004 ne sont pas tout à fait des clients ayant 18 ans</li>\n",
    "      <li>Hypothèse proposée ici est que ce sont des clients nés à partir de 2004 (inclus) et ils se trouvent dans la tranche d'âge dite 'égale ou moins de 18 ans', présentée par année 2004.</li>\n",
    "  <ul>"
   ]
  },
  {
   "cell_type": "markdown",
   "id": "8ab61953",
   "metadata": {},
   "source": [
    "<ul style=\"font-family:Time\"><b>c. <u>Répartition du nombre de clients masculins et féminins en fonction d'âges</u></b>\n",
    "</ul>"
   ]
  },
  {
   "cell_type": "code",
   "execution_count": 14,
   "id": "65b5d19e",
   "metadata": {},
   "outputs": [
    {
     "data": {
      "text/plain": [
       "(152, 3)"
      ]
     },
     "metadata": {},
     "output_type": "display_data"
    },
    {
     "name": "stdout",
     "output_type": "stream",
     "text": [
      "\u001b[34m\u001b[1mRépartition du nombre de femmes et hommes en fonction d'âges\n"
     ]
    },
    {
     "data": {
      "image/png": "[encoded data removed]",
      "text/plain": [
       "<Figure size 432x432 with 3 Axes>"
      ]
     },
     "metadata": {
      "needs_background": "light"
     },
     "output_type": "display_data"
    }
   ],
   "source": [
    "#Groupement du nombre de clients par leur age et leur sex\n",
    "nb_clients_sex = customers.groupby(by=['age', 'sex'])['age'].count().to_frame()\n",
    "nb_clients_sex.rename(columns={'age':'nombre de clients'}, inplace=True) \n",
    "nb_clients_sex.reset_index(inplace=True)\n",
    "display(nb_clients_sex.shape)\n",
    "\n",
    "#Répartition du nombre de clients masculins et féminins en fonction de leur âge\n",
    "g = sns.JointGrid(data=nb_clients_sex, x=\"age\", y=\"nombre de clients\", hue=\"sex\", marginal_ticks=True)\n",
    "g.plot_joint(sns.scatterplot)\n",
    "g.plot_marginals(sns.histplot)\n",
    "print(Fore.BLUE+ Style.BRIGHT + f\"Répartition du nombre de femmes et hommes en fonction d'âges\")"
   ]
  },
  {
   "cell_type": "markdown",
   "id": "be01b1eb",
   "metadata": {},
   "source": [
    "<ul style=\"font-family:Time\"><b><u>Observation</u> :</b>\n",
    "    <ul style=\"font-family:Time\"><br>\n",
    "     <li>Le nuage des points en dessus représente le nombre de clients masculins et féminins par âge</li>\n",
    "     <li>Les premières observations indiquent qu'il n'y a pas beaucoup de différences dans la répartition d'âges des 2 sexes </li>\n",
    "    <li>Cependant, en observant l'histogramme à droite, ce qui représente la distribution des points de l'axe vertical (nombre de clients), on peut voir bien une forte concentration des points qui se trouvent autour de 75 et autour de 15, avec un nombre d'hommes qui est plus important. Au contraire, les femmes se présentent en dominant chez les autres tranches (sauf la tranche de 47 à 53). De plus, on observe également des valeurs aberrantes extrêmes en haut, ce qui correspond au nombre de clients ayant 18 ans</li>\n",
    "    <li>En revanche, pour l’axe des x, les colonnes de l'histogramme en haut sont similaires (sachant que les âges de clients sont classés en ordre croissant de 18 ans à 93 ans) ou la répartition des points sur l'axe des âges est moins variée</li>\n",
    "  <ul>"
   ]
  },
  {
   "cell_type": "markdown",
   "id": "506856e7",
   "metadata": {},
   "source": [
    "<h2 style=\"color:black; text-align:center; background-color:AliceBlue; font-size:150%; font-family:Georgia; border:2px solid DodgerBlue\"><br>II. Préparation de données de la vente en ligne<br></h2>"
   ]
  },
  {
   "cell_type": "markdown",
   "id": "e6ac52b8",
   "metadata": {},
   "source": [
    "<ul style=\"font-family:Time\">\n",
    "      <li>Afin de rapprocher des données de la vente en ligne, je commence par le regroupement des informations de la vente, du produits et du client</li>\n",
    "      <li>Pour cela, je fais des jointures à droites et à gauches des couples de données (transactions, customers) et (transactions, products) afin de vérifier la nature de données</li>\n",
    "      <li>Ensuite, je fais une jointure entière des 3 données en gardant que les données de la vente en ligne (ou de celles des transactions) pour répondre aux besoins d'analyses plus tard.</li>\n",
    "  <ul>"
   ]
  },
  {
   "cell_type": "markdown",
   "id": "9904e5d7",
   "metadata": {},
   "source": [
    "<h4 style=\"color:black\">1. Jointures du couple (transactions, customers)<br></h4>"
   ]
  },
  {
   "cell_type": "code",
   "execution_count": 15,
   "id": "9d000377",
   "metadata": {
    "scrolled": false
   },
   "outputs": [
    {
     "name": "stdout",
     "output_type": "stream",
     "text": [
      "\u001b[34m\u001b[1mJointure à gauche des données de la transaction et du client\n"
     ]
    },
    {
     "data": {
      "text/plain": [
       "(679332, 9)"
      ]
     },
     "metadata": {},
     "output_type": "display_data"
    },
    {
     "name": "stdout",
     "output_type": "stream",
     "text": [
      "\u001b[34m\u001b[1mJointure à droite des données de la transaction et du client\n"
     ]
    },
    {
     "data": {
      "text/plain": [
       "(679355, 9)"
      ]
     },
     "metadata": {},
     "output_type": "display_data"
    },
    {
     "name": "stdout",
     "output_type": "stream",
     "text": [
      "\u001b[34m\u001b[1mListe des clients qui n'effectuent pas des achats en lignes\n"
     ]
    },
    {
     "data": {
      "text/plain": [
       "(23, 9)"
      ]
     },
     "metadata": {},
     "output_type": "display_data"
    },
    {
     "name": "stdout",
     "output_type": "stream",
     "text": [
      "\u001b[34m\u001b[1mNombre de clients qui n'effectuent pas des achats en lignes est égal à 23\n"
     ]
    }
   ],
   "source": [
    "#Jointure à gauche (transactions, customers)\n",
    "print(Fore.BLUE + Style.BRIGHT + f\"Jointure à gauche des données de la transaction et du client\")\n",
    "left_trs_cts=new_transactions.merge(customers, on='client_id', how='left')\n",
    "display(left_trs_cts.sort_values(by='date').shape)\n",
    "\n",
    "#Jointure à droite (transactions, customers)\n",
    "print(Fore.BLUE + Style.BRIGHT + f\"Jointure à droite des données de la transaction et du client\")\n",
    "right_trs_cts=new_transactions.merge(customers, on='client_id', how='right')\n",
    "display(right_trs_cts.sort_values(by='date').shape)\n",
    "\n",
    "#La diférence entre les 2 jointures\n",
    "print(Fore.BLUE + Style.BRIGHT + f\"Liste des clients qui n'effectuent pas des achats en lignes\")\n",
    "display(right_trs_cts[right_trs_cts['id_prod'].isnull()].shape)\n",
    "\n",
    "print(Fore.BLUE + Style.BRIGHT + f\"Nombre de clients qui n'effectuent pas des achats en lignes est égal à {len(right_trs_cts[right_trs_cts['id_prod'].isnull()])}\")"
   ]
  },
  {
   "cell_type": "markdown",
   "id": "98799dad",
   "metadata": {},
   "source": [
    "<h4 style=\"color:black\"><br>2. Jointures du couple (transactions, products) <br></h4>"
   ]
  },
  {
   "cell_type": "code",
   "execution_count": 16,
   "id": "b2beb06b",
   "metadata": {
    "scrolled": false
   },
   "outputs": [
    {
     "name": "stdout",
     "output_type": "stream",
     "text": [
      "\u001b[34m\u001b[1mJointure à gauche des données de la transaction et du produit\n"
     ]
    },
    {
     "data": {
      "text/plain": [
       "(679332, 8)"
      ]
     },
     "metadata": {},
     "output_type": "display_data"
    },
    {
     "name": "stdout",
     "output_type": "stream",
     "text": [
      "\u001b[34m\u001b[1mJointure à droite des données de la transaction et du produit\n"
     ]
    },
    {
     "data": {
      "text/plain": [
       "(679133, 8)"
      ]
     },
     "metadata": {},
     "output_type": "display_data"
    },
    {
     "name": "stdout",
     "output_type": "stream",
     "text": [
      "\u001b[34m\u001b[1mListe des produits qui ne sont pas vendus en ligne\n"
     ]
    },
    {
     "data": {
      "text/plain": [
       "(22, 8)"
      ]
     },
     "metadata": {},
     "output_type": "display_data"
    },
    {
     "data": {
      "text/html": [
       "<div>\n",
       "<style scoped>\n",
       "    .dataframe tbody tr th:only-of-type {\n",
       "        vertical-align: middle;\n",
       "    }\n",
       "\n",
       "    .dataframe tbody tr th {\n",
       "        vertical-align: top;\n",
       "    }\n",
       "\n",
       "    .dataframe thead th {\n",
       "        text-align: right;\n",
       "    }\n",
       "</style>\n",
       "<table border=\"1\" class=\"dataframe\">\n",
       "  <thead>\n",
       "    <tr style=\"text-align: right;\">\n",
       "      <th></th>\n",
       "      <th>id_prod</th>\n",
       "      <th>date</th>\n",
       "      <th>session_id</th>\n",
       "      <th>client_id</th>\n",
       "      <th>new_date</th>\n",
       "      <th>month</th>\n",
       "      <th>price</th>\n",
       "      <th>categ</th>\n",
       "    </tr>\n",
       "  </thead>\n",
       "  <tbody>\n",
       "    <tr>\n",
       "      <th>2633</th>\n",
       "      <td>0_2245</td>\n",
       "      <td>2022-09-23 07:22:38.636773</td>\n",
       "      <td>s_272266</td>\n",
       "      <td>c_4746</td>\n",
       "      <td>2022-09-23</td>\n",
       "      <td>2022-09-01</td>\n",
       "      <td>NaN</td>\n",
       "      <td>NaN</td>\n",
       "    </tr>\n",
       "    <tr>\n",
       "      <th>10103</th>\n",
       "      <td>0_2245</td>\n",
       "      <td>2022-07-23 09:24:14.133889</td>\n",
       "      <td>s_242482</td>\n",
       "      <td>c_6713</td>\n",
       "      <td>2022-07-23</td>\n",
       "      <td>2022-07-01</td>\n",
       "      <td>NaN</td>\n",
       "      <td>NaN</td>\n",
       "    </tr>\n",
       "    <tr>\n",
       "      <th>11723</th>\n",
       "      <td>0_2245</td>\n",
       "      <td>2022-12-03 03:26:35.696673</td>\n",
       "      <td>s_306338</td>\n",
       "      <td>c_5108</td>\n",
       "      <td>2022-12-03</td>\n",
       "      <td>2022-12-01</td>\n",
       "      <td>NaN</td>\n",
       "      <td>NaN</td>\n",
       "    </tr>\n",
       "    <tr>\n",
       "      <th>15670</th>\n",
       "      <td>0_2245</td>\n",
       "      <td>2021-08-16 11:33:25.481411</td>\n",
       "      <td>s_76493</td>\n",
       "      <td>c_1391</td>\n",
       "      <td>2021-08-16</td>\n",
       "      <td>2021-08-01</td>\n",
       "      <td>NaN</td>\n",
       "      <td>NaN</td>\n",
       "    </tr>\n",
       "    <tr>\n",
       "      <th>16372</th>\n",
       "      <td>0_2245</td>\n",
       "      <td>2022-07-16 05:53:01.627491</td>\n",
       "      <td>s_239078</td>\n",
       "      <td>c_7954</td>\n",
       "      <td>2022-07-16</td>\n",
       "      <td>2022-07-01</td>\n",
       "      <td>NaN</td>\n",
       "      <td>NaN</td>\n",
       "    </tr>\n",
       "  </tbody>\n",
       "</table>\n",
       "</div>"
      ],
      "text/plain": [
       "      id_prod                        date session_id client_id   new_date  \\\n",
       "2633   0_2245  2022-09-23 07:22:38.636773   s_272266    c_4746 2022-09-23   \n",
       "10103  0_2245  2022-07-23 09:24:14.133889   s_242482    c_6713 2022-07-23   \n",
       "11723  0_2245  2022-12-03 03:26:35.696673   s_306338    c_5108 2022-12-03   \n",
       "15670  0_2245  2021-08-16 11:33:25.481411    s_76493    c_1391 2021-08-16   \n",
       "16372  0_2245  2022-07-16 05:53:01.627491   s_239078    c_7954 2022-07-16   \n",
       "\n",
       "           month  price  categ  \n",
       "2633  2022-09-01    NaN    NaN  \n",
       "10103 2022-07-01    NaN    NaN  \n",
       "11723 2022-12-01    NaN    NaN  \n",
       "15670 2021-08-01    NaN    NaN  \n",
       "16372 2022-07-01    NaN    NaN  "
      ]
     },
     "metadata": {},
     "output_type": "display_data"
    },
    {
     "name": "stdout",
     "output_type": "stream",
     "text": [
      "\u001b[33m\u001b[1mRemarque: Le produit '0_2245' est vendu en ligne mais il n'apparait pas dans 'products' et il concerne 221 transactions\n"
     ]
    }
   ],
   "source": [
    "#Jointure à gauche (transactions, products)\n",
    "print(Fore.BLUE+Style.BRIGHT + f\"Jointure à gauche des données de la transaction et du produit\")\n",
    "left_trs_prod=new_transactions.merge(products, on='id_prod', how='left')\n",
    "display(left_trs_prod.sort_values(by='date').shape)\n",
    "\n",
    "#Jointure à droite (transactions, customers)\n",
    "print(Fore.BLUE+Style.BRIGHT + f\"Jointure à droite des données de la transaction et du produit\")\n",
    "right_trs_prod=new_transactions.merge(products, on='id_prod', how='right')\n",
    "display(right_trs_prod.sort_values(by='date').shape)\n",
    "\n",
    "#La diférence entre les 2 jointures\n",
    "print(Fore.BLUE+Style.BRIGHT + f\"Liste des produits qui ne sont pas vendus en ligne\")\n",
    "display(right_trs_prod[right_trs_prod['date'].isnull()].shape)\n",
    "\n",
    "#Vérification le présence des produits vendus en ligne avec BD de produits\n",
    "products['id_prod'].to_list() #Liste des identifiants de produist de la BD 'product'\n",
    "display(left_trs_prod[~left_trs_prod['id_prod'].isin(products['id_prod'].to_list())].head())\n",
    "print(Fore.YELLOW+Style.BRIGHT + f\"Remarque: Le produit '0_2245' est vendu en ligne mais il n'apparait pas dans 'products' et il concerne 221 transactions\")\n"
   ]
  },
  {
   "cell_type": "markdown",
   "id": "4042108d",
   "metadata": {},
   "source": [
    "<ul style=\"font-family:Time\"><b><u>En résumé</u> :</b>\n",
    "    <ul style=\"font-family:Time\"><br>\n",
    "      <li>Après les analyses des jointures à gauches et à droites des couples de BD, on peut déduire qu'il existe des produits qui ne sont pas vendus en ligne et des clients qui n'ont pas encore effectués des achats sur notre site web. Ces 2 hypothèses nous expliquent la différence entre les types de jointures réalisées</li>\n",
    "      <li>De plus, il existe également un manque des données des produits. Plus précisément, je trouve que le produit <b><i>'0_2245'</b></i>, noté dans la remarque (ligne jaune), <b><i>est vendu 221 fois</b></i> en ligne mais il <b><i>n'a pas été enregistré</b></i> dans le fichier 'product'. Donc, je vais la noter et la monter plus tard à Annabelle pour qu'elle puisse voir avec l'autre équipe. Cependant, afin d'analyser la vente en ligne, dans le premier temps, je décide de classer ce produit dans la catégorie 0 et le mettre un prix qui est égal à la moyenne des produits de cette catégorie en attendant la vérification des autres équipes (car en vérifiant le classement de la catégorie des livres, je trouve que les préfixes 'id_prod' signifient également leur catégorie)</li>   \n",
    "  <ul>"
   ]
  },
  {
   "cell_type": "code",
   "execution_count": 17,
   "id": "f3177ae3",
   "metadata": {
    "scrolled": true
   },
   "outputs": [
    {
     "data": {
      "text/html": [
       "<div>\n",
       "<style scoped>\n",
       "    .dataframe tbody tr th:only-of-type {\n",
       "        vertical-align: middle;\n",
       "    }\n",
       "\n",
       "    .dataframe tbody tr th {\n",
       "        vertical-align: top;\n",
       "    }\n",
       "\n",
       "    .dataframe thead th {\n",
       "        text-align: right;\n",
       "    }\n",
       "</style>\n",
       "<table border=\"1\" class=\"dataframe\">\n",
       "  <thead>\n",
       "    <tr style=\"text-align: right;\">\n",
       "      <th></th>\n",
       "      <th>id_prod</th>\n",
       "      <th>price</th>\n",
       "      <th>categ</th>\n",
       "    </tr>\n",
       "  </thead>\n",
       "  <tbody>\n",
       "    <tr>\n",
       "      <th>0</th>\n",
       "      <td>0_2245</td>\n",
       "      <td>11.73</td>\n",
       "      <td>0</td>\n",
       "    </tr>\n",
       "  </tbody>\n",
       "</table>\n",
       "</div>"
      ],
      "text/plain": [
       "  id_prod  price  categ\n",
       "0  0_2245  11.73      0"
      ]
     },
     "metadata": {},
     "output_type": "display_data"
    },
    {
     "name": "stdout",
     "output_type": "stream",
     "text": [
      "\u001b[34m\u001b[1mCréation un nouveau df servira la mise à jour\n",
      "\u001b[34m\u001b[1mDf 'products_update' contenant les données mise à jour de produits\n"
     ]
    },
    {
     "data": {
      "text/plain": [
       "(3288, 3)"
      ]
     },
     "metadata": {},
     "output_type": "display_data"
    }
   ],
   "source": [
    "#Créer un df contenant le produit à mise à jour\n",
    "product_0_2245=pd.DataFrame({'id_prod' :  ['0_2245']\n",
    "                             ,'price': [11.73]\n",
    "                             ,'categ' : [0]})\n",
    "display(product_0_2245)\n",
    "print(Fore.BLUE + Style.BRIGHT + f\"Création un nouveau df servira la mise à jour\")\n",
    "\n",
    "#Mise à jour fichier 'products'\n",
    "products_update=products.append(product_0_2245, ignore_index=True)\n",
    "#display(products_update)\n",
    "print(Fore.BLUE + Style.BRIGHT + f\"Df 'products_update' contenant les données mise à jour de produits\")\n",
    "\n",
    "#Vérification\n",
    "display(products_update.shape)\n",
    "#display(products_update[products_update['id_prod']==\"0_2245\"])\n",
    "#print(Fore.BLUE + Style.BRIGHT + f\"Vérification de la mise à jour\")"
   ]
  },
  {
   "cell_type": "markdown",
   "id": "63aacd99",
   "metadata": {},
   "source": [
    "<h4 style=\"color:black\"><br>3. Jointure des 3 données<br></h4>"
   ]
  },
  {
   "cell_type": "markdown",
   "id": "a306dad8",
   "metadata": {},
   "source": [
    "<ul style=\"font-family:Time\">Suite aux demandes d'analyse d'Antoine et de Julie, je fais ensuite un rapprochement des 3 fichiers en concentrant que la vente en ligne. C'est pour cette raison, je fais une jointure complète des 3 fichiers. Le résultat de ce regroupement est réunit dans df  'transactions_web'\n",
    "</ul>"
   ]
  },
  {
   "cell_type": "code",
   "execution_count": 18,
   "id": "d5aba565",
   "metadata": {
    "scrolled": false
   },
   "outputs": [
    {
     "name": "stdout",
     "output_type": "stream",
     "text": [
      "\u001b[34m\u001b[1mRapprochement de données de la vente en ligne\n"
     ]
    },
    {
     "data": {
      "text/html": [
       "<div>\n",
       "<style scoped>\n",
       "    .dataframe tbody tr th:only-of-type {\n",
       "        vertical-align: middle;\n",
       "    }\n",
       "\n",
       "    .dataframe tbody tr th {\n",
       "        vertical-align: top;\n",
       "    }\n",
       "\n",
       "    .dataframe thead th {\n",
       "        text-align: right;\n",
       "    }\n",
       "</style>\n",
       "<table border=\"1\" class=\"dataframe\">\n",
       "  <thead>\n",
       "    <tr style=\"text-align: right;\">\n",
       "      <th></th>\n",
       "      <th>id_prod</th>\n",
       "      <th>date</th>\n",
       "      <th>session_id</th>\n",
       "      <th>client_id</th>\n",
       "      <th>new_date</th>\n",
       "      <th>month</th>\n",
       "      <th>price</th>\n",
       "      <th>categ</th>\n",
       "      <th>sex</th>\n",
       "      <th>birth</th>\n",
       "      <th>age</th>\n",
       "    </tr>\n",
       "  </thead>\n",
       "  <tbody>\n",
       "    <tr>\n",
       "      <th>0</th>\n",
       "      <td>0_1518</td>\n",
       "      <td>2022-05-20 13:21:29.043970</td>\n",
       "      <td>s_211425</td>\n",
       "      <td>c_103</td>\n",
       "      <td>2022-05-20</td>\n",
       "      <td>2022-05-01</td>\n",
       "      <td>4.18</td>\n",
       "      <td>0</td>\n",
       "      <td>f</td>\n",
       "      <td>1986</td>\n",
       "      <td>36</td>\n",
       "    </tr>\n",
       "    <tr>\n",
       "      <th>1</th>\n",
       "      <td>1_251</td>\n",
       "      <td>2022-02-02 07:55:19.149409</td>\n",
       "      <td>s_158752</td>\n",
       "      <td>c_8534</td>\n",
       "      <td>2022-02-02</td>\n",
       "      <td>2022-02-01</td>\n",
       "      <td>15.99</td>\n",
       "      <td>1</td>\n",
       "      <td>m</td>\n",
       "      <td>1988</td>\n",
       "      <td>34</td>\n",
       "    </tr>\n",
       "    <tr>\n",
       "      <th>2</th>\n",
       "      <td>0_1277</td>\n",
       "      <td>2022-06-18 15:44:33.155329</td>\n",
       "      <td>s_225667</td>\n",
       "      <td>c_6714</td>\n",
       "      <td>2022-06-18</td>\n",
       "      <td>2022-06-01</td>\n",
       "      <td>7.99</td>\n",
       "      <td>0</td>\n",
       "      <td>f</td>\n",
       "      <td>1968</td>\n",
       "      <td>54</td>\n",
       "    </tr>\n",
       "    <tr>\n",
       "      <th>3</th>\n",
       "      <td>2_209</td>\n",
       "      <td>2021-06-24 04:19:29.835891</td>\n",
       "      <td>s_52962</td>\n",
       "      <td>c_6941</td>\n",
       "      <td>2021-06-24</td>\n",
       "      <td>2021-06-01</td>\n",
       "      <td>69.99</td>\n",
       "      <td>2</td>\n",
       "      <td>m</td>\n",
       "      <td>2000</td>\n",
       "      <td>22</td>\n",
       "    </tr>\n",
       "    <tr>\n",
       "      <th>4</th>\n",
       "      <td>0_1509</td>\n",
       "      <td>2023-01-11 08:22:08.194479</td>\n",
       "      <td>s_325227</td>\n",
       "      <td>c_4232</td>\n",
       "      <td>2023-01-11</td>\n",
       "      <td>2023-01-01</td>\n",
       "      <td>4.99</td>\n",
       "      <td>0</td>\n",
       "      <td>m</td>\n",
       "      <td>1980</td>\n",
       "      <td>42</td>\n",
       "    </tr>\n",
       "  </tbody>\n",
       "</table>\n",
       "</div>"
      ],
      "text/plain": [
       "  id_prod                        date session_id client_id   new_date  \\\n",
       "0  0_1518  2022-05-20 13:21:29.043970   s_211425     c_103 2022-05-20   \n",
       "1   1_251  2022-02-02 07:55:19.149409   s_158752    c_8534 2022-02-02   \n",
       "2  0_1277  2022-06-18 15:44:33.155329   s_225667    c_6714 2022-06-18   \n",
       "3   2_209  2021-06-24 04:19:29.835891    s_52962    c_6941 2021-06-24   \n",
       "4  0_1509  2023-01-11 08:22:08.194479   s_325227    c_4232 2023-01-11   \n",
       "\n",
       "       month  price  categ sex  birth  age  \n",
       "0 2022-05-01   4.18      0   f   1986   36  \n",
       "1 2022-02-01  15.99      1   m   1988   34  \n",
       "2 2022-06-01   7.99      0   f   1968   54  \n",
       "3 2021-06-01  69.99      2   m   2000   22  \n",
       "4 2023-01-01   4.99      0   m   1980   42  "
      ]
     },
     "metadata": {},
     "output_type": "display_data"
    },
    {
     "name": "stdout",
     "output_type": "stream",
     "text": [
      "\u001b[33m\u001b[1mA noter que cette donnée contient toutes les informations de la vente en ligne (transactions, clients et produits)\n"
     ]
    }
   ],
   "source": [
    "#Rapprochement des données\n",
    "#data_transactions_web = new_transactions.merge(products_update, on='id_prod', how= 'outer')\\\n",
    "#.merge(customers, on='client_id', how= 'outer', indicator=True) #Full joint\n",
    "\n",
    "print(Fore.BLUE + Style.BRIGHT + f\"Rapprochement de données de la vente en ligne\")\n",
    "transactions_web=new_transactions.merge(products_update, on='id_prod', how= 'left')\\\n",
    ".merge(customers, on='client_id', how= 'left') #jointure à gauche en gardant toutes les informations de la transaction\n",
    "\n",
    "display(transactions_web.head())\n",
    "print(Fore.YELLOW + Style.BRIGHT + f\"A noter que cette donnée contient toutes les informations de la vente en ligne (transactions, clients et produits)\")"
   ]
  },
  {
   "cell_type": "code",
   "execution_count": 19,
   "id": "a1919fe7",
   "metadata": {},
   "outputs": [],
   "source": [
    "#Exportation de données épurées\n",
    "transactions_web.to_csv('transactions_web.csv',index=False, encoding='utf-8')\n",
    "\n",
    "#Eventuelement une insertion du résultat dans une base"
   ]
  },
  {
   "cell_type": "markdown",
   "id": "518ef4a1",
   "metadata": {},
   "source": [
    "# --------------------------------------------------------------------------------------"
   ]
  }
 ],
 "metadata": {
  "kernelspec": {
   "display_name": "Python 3",
   "language": "python",
   "name": "python3"
  },
  "language_info": {
   "codemirror_mode": {
    "name": "ipython",
    "version": 3
   },
   "file_extension": ".py",
   "mimetype": "text/x-python",
   "name": "python",
   "nbconvert_exporter": "python",
   "pygments_lexer": "ipython3",
   "version": "3.8.8"
  }
 },
 "nbformat": 4,
 "nbformat_minor": 5
}
