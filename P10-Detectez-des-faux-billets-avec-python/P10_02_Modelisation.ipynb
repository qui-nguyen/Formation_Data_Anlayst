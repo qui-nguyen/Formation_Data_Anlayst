{
 "cells": [
  {
   "cell_type": "markdown",
   "id": "3c91f398",
   "metadata": {},
   "source": [
    "<img src=\"Logo_P10.PNG\" height=\"100\" width=\"600\" >\n",
    "<h1 style=\"color:blue; text-align:center; background-color:AliceBlue; font-size:300%; font-family:verdana; border:2px solid DodgerBlue\"><br>LUTTE CONTRE LE FAUX-MONNAYAGE<br>\n",
    "<h5 style=\"color:black; text-align:right\">NGUYEN Huynh Thanh Qui<br>Février 2022<br></h5>\n",
    "</h1>"
   ]
  },
  {
   "cell_type": "code",
   "execution_count": 1,
   "id": "111d2e91",
   "metadata": {},
   "outputs": [],
   "source": [
    "#Importation de bibliothèques\n",
    "import pandas as pd\n",
    "import  matplotlib.pyplot as plt\n",
    "import numpy as np\n",
    "#!pip install --upgrade scikit-learn\n",
    "from sklearn import decomposition\n",
    "from sklearn import preprocessing, metrics, cluster\n",
    "from sklearn.cluster import KMeans\n",
    "from sklearn.model_selection import train_test_split\n",
    "from sklearn.metrics import confusion_matrix\n",
    "from sklearn.metrics import classification_report\n",
    "from sklearn.metrics import ConfusionMatrixDisplay\n",
    "from sklearn.metrics import precision_score, recall_score\n",
    "from sklearn import neighbors\n",
    "import scipy.cluster\n",
    "import statsmodels\n",
    "import statsmodels.api as sm\n",
    "import statsmodels.formula.api as smf\n",
    "from scipy.stats import t, shapiro\n",
    "from statsmodels.stats.outliers_influence import variance_inflation_factor\n",
    "import colorama\n",
    "from colorama import Fore, Back, Style\n",
    "#from sklearn.preprocessing import MinMaxScaler\n",
    "import plotly.express as px\n",
    "import warnings\n",
    "warnings.filterwarnings(\"ignore\")"
   ]
  },
  {
   "cell_type": "markdown",
   "id": "e4fcbf85",
   "metadata": {},
   "source": [
    "<h4 style=\"color:Maroon; text-align:left; font-size:100%; font-family:Georgia\"><br>Cliquer sur ce boton pour faire apparaître/disparaître le code</h4>"
   ]
  },
  {
   "cell_type": "code",
   "execution_count": 2,
   "id": "3931cfdc",
   "metadata": {},
   "outputs": [
    {
     "data": {
      "text/html": [
       "<script>\n",
       "  function code_toggle() {\n",
       "    if (code_shown){\n",
       "      $('div.input').hide('500');\n",
       "      $('#toggleButton').val('Show Code')\n",
       "    } else {\n",
       "      $('div.input').show('500');\n",
       "      $('#toggleButton').val('Hide Code')\n",
       "    }\n",
       "    code_shown = !code_shown\n",
       "  }\n",
       "\n",
       "  $( document ).ready(function(){\n",
       "    code_shown=false;\n",
       "    $('div.input').hide()\n",
       "  });\n",
       "</script>\n",
       "<form action=\"javascript:code_toggle()\"><input type=\"submit\" id=\"toggleButton\" value=\"Show Code\"></form>\n"
      ],
      "text/plain": [
       "<IPython.core.display.HTML object>"
      ]
     },
     "metadata": {},
     "output_type": "display_data"
    }
   ],
   "source": [
    "%%HTML\n",
    "<script>\n",
    "  function code_toggle() {\n",
    "    if (code_shown){\n",
    "      $('div.input').hide('500');\n",
    "      $('#toggleButton').val('Show Code')\n",
    "    } else {\n",
    "      $('div.input').show('500');\n",
    "      $('#toggleButton').val('Hide Code')\n",
    "    }\n",
    "    code_shown = !code_shown\n",
    "  }\n",
    "\n",
    "  $( document ).ready(function(){\n",
    "    code_shown=false;\n",
    "    $('div.input').hide()\n",
    "  });\n",
    "</script>\n",
    "<form action=\"javascript:code_toggle()\"><input type=\"submit\" id=\"toggleButton\" value=\"Show Code\"></form>"
   ]
  },
  {
   "cell_type": "markdown",
   "id": "81370382",
   "metadata": {},
   "source": [
    "<h1 style=\"color:black; text-align:center; background-color:GhostWhite; font-size:300%; font-family:Georgia; border:2px solid LightSteelBlue\"><br>PARTIE 2<br><br>Analyse de données<br></h1>"
   ]
  },
  {
   "cell_type": "code",
   "execution_count": 3,
   "id": "80ff4248",
   "metadata": {},
   "outputs": [],
   "source": [
    "# Importation\n",
    "## Données complets pour la modélisation\n",
    "billets_complet = pd.read_csv(\"billets_complet.csv\", sep = \";\")\n",
    "## Données pour tester du fonctionnement du modèle\n",
    "billets_production = pd.read_csv(\"billets_production.csv\")"
   ]
  },
  {
   "cell_type": "markdown",
   "id": "9e81b4c1",
   "metadata": {},
   "source": [
    "<h3 style=\"color:royalblue; text-align:center; font-size:110%; font-family:Georgia\"><br><u>Information générale de nos données</u></h3>"
   ]
  },
  {
   "cell_type": "code",
   "execution_count": 4,
   "id": "f6478773",
   "metadata": {},
   "outputs": [
    {
     "name": "stdout",
     "output_type": "stream",
     "text": [
      "<class 'pandas.core.frame.DataFrame'>\n",
      "RangeIndex: 1500 entries, 0 to 1499\n",
      "Data columns (total 7 columns):\n",
      " #   Column        Non-Null Count  Dtype  \n",
      "---  ------        --------------  -----  \n",
      " 0   is_genuine    1500 non-null   bool   \n",
      " 1   diagonal      1500 non-null   float64\n",
      " 2   height_left   1500 non-null   float64\n",
      " 3   height_right  1500 non-null   float64\n",
      " 4   margin_low    1500 non-null   float64\n",
      " 5   margin_up     1500 non-null   float64\n",
      " 6   length        1500 non-null   float64\n",
      "dtypes: bool(1), float64(6)\n",
      "memory usage: 71.9 KB\n"
     ]
    },
    {
     "data": {
      "text/plain": [
       "(1500, 7)"
      ]
     },
     "execution_count": 4,
     "metadata": {},
     "output_type": "execute_result"
    }
   ],
   "source": [
    "billets_complet.info()\n",
    "billets_complet.shape"
   ]
  },
  {
   "cell_type": "markdown",
   "id": "52fc58d3",
   "metadata": {},
   "source": [
    "<ul style=\"font-family:Time\">\n",
    "      <li>Dans le contexte de mettre en place une modélisation qui serait capable d’identifier automatiquement les vrais des faux billets, j'utilise d'abord un méthode de classification supervisée qui s'appelle <b>Régression logistique</b></li>\n",
    "      <li><i>\"L'objectif de la régression logistique est de modéliser, de classifier, une variable binaire prenant ses valeurs dans {0,1} en fonction de variables explicatives quantitatives (et potentiellement qualitatives)\"</i>  (source : <a href=\"https://openclassrooms.com/fr/courses/4525326-realisez-des-modelisations-de-donnees-performantes/5754148-apprehendez-le-fonctionnement-de-la-regression-logistique\">OpenClassrooms</a>). Dans ce cas, le variable à expliquer qualitative signifie des vrais et faux billets, qui sont présentés respectivement par 1 et 0</li>\n",
    "      <li>Cependant, afin de vérifier la fiabilité de cette méthode ainsi que sa performance de prédiction, j'utilise également un autre méthode de classification non-supervisée qui s'appelle <b>Partitionnement (classification) K-MEANS</b>. Le but est de mettre en concurrence deux méthodes de prédiction pour sélectionner l'algorithme le plus performant possible\n",
    "pour identifier un maximum de faux billets au sein de la masse de billets analysés</li>\n",
    "      <li>Pour construire les modèles de prédictions, je divise les données en 2 parties qui seviront aux données d'apprentissages et de test (pour vérifier la capacité prédictive des modèles) (à noter que toutes données utilisées sont normalisées en 0 et 1). La division est aléatoire et suit une proportion de 80/20 (apprentissage/test) </li>"
   ]
  },
  {
   "cell_type": "code",
   "execution_count": 5,
   "id": "b210bb64",
   "metadata": {},
   "outputs": [],
   "source": [
    "# Normalisation de données entre 0 et 1\n",
    "def normalisation(data):\n",
    "    scaler = preprocessing.MinMaxScaler()\n",
    "    normalized = scaler.fit(data).transform(data)\n",
    "    # Homologuer les noms des colonnes normalisées\n",
    "    normalized_data = pd.DataFrame(normalized)\n",
    "    normalized_data.columns = data.columns\n",
    "    normalized_data.index = data.index\n",
    "    #print(Fore.BLUE + Style.BRIGHT + f\"Données normalisées\" + Style.RESET_ALL)\n",
    "    return normalized_data"
   ]
  },
  {
   "cell_type": "markdown",
   "id": "216ccef1",
   "metadata": {},
   "source": [
    "<h3 style=\"color:royalblue; text-align:center; font-size:110%; font-family:Georgia\"><br><u>Préparation des données d'apprentissage (80%) et de test (20%)</u></h3>"
   ]
  },
  {
   "cell_type": "code",
   "execution_count": 6,
   "id": "cfdb0afb",
   "metadata": {},
   "outputs": [],
   "source": [
    "billets_complet_norma = normalisation(billets_complet)\n",
    "x_training, x_test, y_training, y_test = train_test_split(billets_complet_norma,\n",
    "                                                          billets_complet_norma['is_genuine'],\n",
    "                                                          train_size = 0.8)#, shuffle=False) "
   ]
  },
  {
   "cell_type": "code",
   "execution_count": 7,
   "id": "d640ca02",
   "metadata": {},
   "outputs": [],
   "source": [
    "x_test.drop(columns = \"is_genuine\", inplace = True)"
   ]
  },
  {
   "cell_type": "code",
   "execution_count": 8,
   "id": "b4d41062",
   "metadata": {},
   "outputs": [
    {
     "name": "stdout",
     "output_type": "stream",
     "text": [
      "\u001b[34m\u001b[1mDonnées d'apprentissage (avec variable dépendante ('is_genuine')) et les types de billets correspondants\u001b[0m\n",
      "Nombre de billets d'apprentissage: 1200\n"
     ]
    },
    {
     "data": {
      "text/html": [
       "<div>\n",
       "<style scoped>\n",
       "    .dataframe tbody tr th:only-of-type {\n",
       "        vertical-align: middle;\n",
       "    }\n",
       "\n",
       "    .dataframe tbody tr th {\n",
       "        vertical-align: top;\n",
       "    }\n",
       "\n",
       "    .dataframe thead th {\n",
       "        text-align: right;\n",
       "    }\n",
       "</style>\n",
       "<table border=\"1\" class=\"dataframe\">\n",
       "  <thead>\n",
       "    <tr style=\"text-align: right;\">\n",
       "      <th></th>\n",
       "      <th>is_genuine</th>\n",
       "      <th>diagonal</th>\n",
       "      <th>height_left</th>\n",
       "      <th>height_right</th>\n",
       "      <th>margin_low</th>\n",
       "      <th>margin_up</th>\n",
       "      <th>length</th>\n",
       "    </tr>\n",
       "  </thead>\n",
       "  <tbody>\n",
       "    <tr>\n",
       "      <th>105</th>\n",
       "      <td>1.0</td>\n",
       "      <td>0.837563</td>\n",
       "      <td>0.425287</td>\n",
       "      <td>0.563725</td>\n",
       "      <td>0.329082</td>\n",
       "      <td>0.567073</td>\n",
       "      <td>0.767361</td>\n",
       "    </tr>\n",
       "    <tr>\n",
       "      <th>199</th>\n",
       "      <td>1.0</td>\n",
       "      <td>0.654822</td>\n",
       "      <td>0.597701</td>\n",
       "      <td>0.553922</td>\n",
       "      <td>0.334184</td>\n",
       "      <td>0.439024</td>\n",
       "      <td>0.949242</td>\n",
       "    </tr>\n",
       "    <tr>\n",
       "      <th>926</th>\n",
       "      <td>1.0</td>\n",
       "      <td>0.370558</td>\n",
       "      <td>0.281609</td>\n",
       "      <td>0.333333</td>\n",
       "      <td>0.137755</td>\n",
       "      <td>0.640244</td>\n",
       "      <td>0.672191</td>\n",
       "    </tr>\n",
       "    <tr>\n",
       "      <th>1497</th>\n",
       "      <td>0.0</td>\n",
       "      <td>0.253968</td>\n",
       "      <td>0.946317</td>\n",
       "      <td>0.664181</td>\n",
       "      <td>0.555521</td>\n",
       "      <td>1.000000</td>\n",
       "      <td>0.000000</td>\n",
       "    </tr>\n",
       "    <tr>\n",
       "      <th>306</th>\n",
       "      <td>1.0</td>\n",
       "      <td>0.649746</td>\n",
       "      <td>0.488506</td>\n",
       "      <td>0.539216</td>\n",
       "      <td>0.316327</td>\n",
       "      <td>0.414634</td>\n",
       "      <td>0.737753</td>\n",
       "    </tr>\n",
       "  </tbody>\n",
       "</table>\n",
       "</div>"
      ],
      "text/plain": [
       "      is_genuine  diagonal  height_left  height_right  margin_low  margin_up  \\\n",
       "105          1.0  0.837563     0.425287      0.563725    0.329082   0.567073   \n",
       "199          1.0  0.654822     0.597701      0.553922    0.334184   0.439024   \n",
       "926          1.0  0.370558     0.281609      0.333333    0.137755   0.640244   \n",
       "1497         0.0  0.253968     0.946317      0.664181    0.555521   1.000000   \n",
       "306          1.0  0.649746     0.488506      0.539216    0.316327   0.414634   \n",
       "\n",
       "        length  \n",
       "105   0.767361  \n",
       "199   0.949242  \n",
       "926   0.672191  \n",
       "1497  0.000000  \n",
       "306   0.737753  "
      ]
     },
     "metadata": {},
     "output_type": "display_data"
    },
    {
     "data": {
      "text/plain": [
       "(1200, 7)"
      ]
     },
     "metadata": {},
     "output_type": "display_data"
    },
    {
     "name": "stdout",
     "output_type": "stream",
     "text": [
      "L'étiquette de données 'test':\n"
     ]
    },
    {
     "data": {
      "text/plain": [
       "105     1.0\n",
       "199     1.0\n",
       "926     1.0\n",
       "1497    0.0\n",
       "306     1.0\n",
       "Name: is_genuine, dtype: float64"
      ]
     },
     "metadata": {},
     "output_type": "display_data"
    }
   ],
   "source": [
    "print(Fore.BLUE + Style.BRIGHT + f\"Données d'apprentissage (avec variable dépendante ('is_genuine')) et les types de billets correspondants\"+ Style.RESET_ALL )\n",
    "\n",
    "print(f\"Nombre de billets d'apprentissage: {y_training.shape[0]}\")\n",
    "display(x_training.head())\n",
    "display(x_training.shape)\n",
    "print(f\"L'étiquette de données 'test':\")\n",
    "\n",
    "display(y_training.head())"
   ]
  },
  {
   "cell_type": "code",
   "execution_count": 9,
   "id": "7ed5a5c7",
   "metadata": {},
   "outputs": [
    {
     "name": "stdout",
     "output_type": "stream",
     "text": [
      "\u001b[34m\u001b[1mDonnées de test (sans variable dépendante ('is_genuine')) et les types de billets correspondants\u001b[0m\n",
      "Nombre de billets d'apprentissage : 300\n"
     ]
    },
    {
     "data": {
      "text/html": [
       "<div>\n",
       "<style scoped>\n",
       "    .dataframe tbody tr th:only-of-type {\n",
       "        vertical-align: middle;\n",
       "    }\n",
       "\n",
       "    .dataframe tbody tr th {\n",
       "        vertical-align: top;\n",
       "    }\n",
       "\n",
       "    .dataframe thead th {\n",
       "        text-align: right;\n",
       "    }\n",
       "</style>\n",
       "<table border=\"1\" class=\"dataframe\">\n",
       "  <thead>\n",
       "    <tr style=\"text-align: right;\">\n",
       "      <th></th>\n",
       "      <th>diagonal</th>\n",
       "      <th>height_left</th>\n",
       "      <th>height_right</th>\n",
       "      <th>margin_low</th>\n",
       "      <th>margin_up</th>\n",
       "      <th>length</th>\n",
       "    </tr>\n",
       "  </thead>\n",
       "  <tbody>\n",
       "    <tr>\n",
       "      <th>831</th>\n",
       "      <td>0.421320</td>\n",
       "      <td>0.465517</td>\n",
       "      <td>0.299020</td>\n",
       "      <td>0.244898</td>\n",
       "      <td>0.457317</td>\n",
       "      <td>0.790625</td>\n",
       "    </tr>\n",
       "    <tr>\n",
       "      <th>416</th>\n",
       "      <td>0.441624</td>\n",
       "      <td>0.488506</td>\n",
       "      <td>0.289216</td>\n",
       "      <td>0.109694</td>\n",
       "      <td>0.396341</td>\n",
       "      <td>0.725063</td>\n",
       "    </tr>\n",
       "    <tr>\n",
       "      <th>358</th>\n",
       "      <td>0.345178</td>\n",
       "      <td>0.580460</td>\n",
       "      <td>0.411765</td>\n",
       "      <td>0.285714</td>\n",
       "      <td>0.439024</td>\n",
       "      <td>0.771591</td>\n",
       "    </tr>\n",
       "    <tr>\n",
       "      <th>88</th>\n",
       "      <td>0.456853</td>\n",
       "      <td>0.201149</td>\n",
       "      <td>0.446078</td>\n",
       "      <td>0.321429</td>\n",
       "      <td>0.560976</td>\n",
       "      <td>0.731408</td>\n",
       "    </tr>\n",
       "    <tr>\n",
       "      <th>1223</th>\n",
       "      <td>0.284264</td>\n",
       "      <td>0.436782</td>\n",
       "      <td>0.690141</td>\n",
       "      <td>0.798469</td>\n",
       "      <td>0.780488</td>\n",
       "      <td>0.258586</td>\n",
       "    </tr>\n",
       "  </tbody>\n",
       "</table>\n",
       "</div>"
      ],
      "text/plain": [
       "      diagonal  height_left  height_right  margin_low  margin_up    length\n",
       "831   0.421320     0.465517      0.299020    0.244898   0.457317  0.790625\n",
       "416   0.441624     0.488506      0.289216    0.109694   0.396341  0.725063\n",
       "358   0.345178     0.580460      0.411765    0.285714   0.439024  0.771591\n",
       "88    0.456853     0.201149      0.446078    0.321429   0.560976  0.731408\n",
       "1223  0.284264     0.436782      0.690141    0.798469   0.780488  0.258586"
      ]
     },
     "metadata": {},
     "output_type": "display_data"
    },
    {
     "data": {
      "text/plain": [
       "(300, 6)"
      ]
     },
     "metadata": {},
     "output_type": "display_data"
    },
    {
     "name": "stdout",
     "output_type": "stream",
     "text": [
      "L'étiquette de données 'test':\n"
     ]
    },
    {
     "data": {
      "text/plain": [
       "831     1.0\n",
       "416     1.0\n",
       "358     1.0\n",
       "88      1.0\n",
       "1223    0.0\n",
       "Name: is_genuine, dtype: float64"
      ]
     },
     "metadata": {},
     "output_type": "display_data"
    }
   ],
   "source": [
    "print(Fore.BLUE + Style.BRIGHT + f\"Données de test (sans variable dépendante ('is_genuine')) et les types de billets correspondants\"+ Style.RESET_ALL )\n",
    "print(f\"Nombre de billets d'apprentissage : {y_test.shape[0]}\")\n",
    "display(x_test.head())\n",
    "display(x_test.shape)\n",
    "print(f\"L'étiquette de données 'test':\")\n",
    "display(y_test.head())"
   ]
  },
  {
   "cell_type": "markdown",
   "id": "610636ce",
   "metadata": {},
   "source": [
    "<h3 style=\"color:royalblue; text-align:center; font-size:110%; font-family:Georgia\"><br><u>Vérification la performance de prédiction</u><br><br> Matrice de confusion</h3>"
   ]
  },
  {
   "cell_type": "markdown",
   "id": "3ca7dfb1",
   "metadata": {},
   "source": [
    "<ul style=\"font-family:Time\"> \n",
    "    <li>La fiabilité des modèles sera vérifiée par la matrice de confusion et les indicateurs présentés en-dessous  </li>\n",
    "    <img src=\"P10_Matrice_confusion.PNG\" height=\"100\" width=\"600\" >\n",
    "    <li>En générale, ce matice évalue la cohérence entre les étiquettes générées par les modèles (0 et 1) et celles de données \"test\" (régression logistique)/données brutes (partitionnement K-MEANS)</li>\n",
    "    <li>Les données qui <b>sont prédites correctement</b> sont classées dans le groupe nommé <b>\"VRAIS\"</b> (et l'inverse pour le groupe \"FAUX\"). Les étiquettes <b>1</b> et <b>0</b> sont nommées <b>\"POSITIF\"</b> et <b>\"NEGATIF\"</b></li>\n",
    "</ul>"
   ]
  },
  {
   "cell_type": "markdown",
   "id": "f0b3a7f3",
   "metadata": {},
   "source": [
    "<h2 style=\"color:black; text-align:center; background-color:AliceBlue; font-size:150%; font-family:Georgia; border:2px solid DodgerBlue\"><br>I. Régression logistique<br></h2>"
   ]
  },
  {
   "cell_type": "code",
   "execution_count": 10,
   "id": "2b2b33ec",
   "metadata": {},
   "outputs": [],
   "source": [
    "# Transformer les types de billets en binaire (True == 1 et False == 0)\n",
    "#billets_complet[\"is_genuine\"] = billets_complet[\"is_genuine\"].astype(int)"
   ]
  },
  {
   "cell_type": "markdown",
   "id": "0fb23e20",
   "metadata": {},
   "source": [
    "<ul style=\"font-family:Time\"> \n",
    "    <li>La modélisation de la variable binaire (catégorielle dans ce cas) en utilisant la régression logistique demande une donnée d'apprentissage complète (données contenant de variable dépendante \"is_genuine\"). C'est pour cette raison, j'utilise les données <b>x_training</b></li>\n",
    "    <li>Le résultat de cette régression se trouve toujours entre 0 et 1, ce qui correspond à la probabilité d'apparaître de l'événement qu'on souhaite à analyser. Dans notre cas, j'utilise le seuil de la <b>probabilité d'acceptable de vrais billets à 50%</b> pour la prédiction. Plus précisément, si le résultat est suppérieur ou égale à 0,5, ce billet est classé comme un vrai et l'inverse pour les faux billets</li>\n",
    "</ul>"
   ]
  },
  {
   "cell_type": "code",
   "execution_count": 11,
   "id": "03456516",
   "metadata": {},
   "outputs": [],
   "source": [
    "#test_reg_log_complet = smf.glm('is_genuine~margin_low+diagonal+height_left+height_right+margin_up+length', data=billets_complet, family=sm.families.Binomial()).fit()\n",
    "#print(test_reg_log_complet.summary())"
   ]
  },
  {
   "cell_type": "markdown",
   "id": "385b0101",
   "metadata": {},
   "source": [
    "<h3 style=\"color:royalblue; text-align:left; font-size:110%; font-family:Georgia\"><br>1. <u>Génération du modèle de la régression logistique en utilisant les données d'apprentissage</u></h3>"
   ]
  },
  {
   "cell_type": "code",
   "execution_count": 12,
   "id": "3f7b459c",
   "metadata": {},
   "outputs": [
    {
     "name": "stdout",
     "output_type": "stream",
     "text": [
      "                 Generalized Linear Model Regression Results                  \n",
      "==============================================================================\n",
      "Dep. Variable:             is_genuine   No. Observations:                 1200\n",
      "Model:                            GLM   Df Residuals:                     1193\n",
      "Model Family:                Binomial   Df Model:                            6\n",
      "Link Function:                  logit   Scale:                          1.0000\n",
      "Method:                          IRLS   Log-Likelihood:                -16.969\n",
      "Date:                Sat, 12 Feb 2022   Deviance:                       33.938\n",
      "Time:                        17:22:50   Pearson chi2:                     67.4\n",
      "No. Iterations:                    11                                         \n",
      "Covariance Type:            nonrobust                                         \n",
      "================================================================================\n",
      "                   coef    std err          z      P>|z|      [0.025      0.975]\n",
      "--------------------------------------------------------------------------------\n",
      "Intercept       12.1239      6.239      1.943      0.052      -0.104      24.352\n",
      "margin_low     -38.2589      9.689     -3.949      0.000     -57.249     -19.269\n",
      "diagonal        -1.2494      3.569     -0.350      0.726      -8.245       5.746\n",
      "height_left     -3.1794      3.056     -1.040      0.298      -9.169       2.810\n",
      "height_right    -5.5270      3.537     -1.563      0.118     -12.459       1.406\n",
      "margin_up      -20.8092      6.025     -3.454      0.001     -32.617      -9.001\n",
      "length          33.6925      6.657      5.061      0.000      20.646      46.739\n",
      "================================================================================\n"
     ]
    }
   ],
   "source": [
    "# Entraînement du modèle de la régression logistique en utilisant données d'apprentissage\n",
    "formula = \"is_genuine~margin_low+diagonal+height_left+height_right+margin_up+length\"\n",
    "model_glm = smf.glm(formula = formula, data = x_training, family = sm.families.Binomial())\n",
    "\n",
    "model_GLM = model_glm.fit()\n",
    "print(model_GLM.summary())"
   ]
  },
  {
   "cell_type": "markdown",
   "id": "0f313667",
   "metadata": {},
   "source": [
    "<h6 style=\"color:royalblue; text-align:left; font-family:Georgia\"><br><u>Modèle de la régression logistique</u></h6>\n",
    "<ul style=\"font-family:Time\">\n",
    "    <b>model_GLM = model_glm.predcit()</b>\n",
    "</ul>"
   ]
  },
  {
   "cell_type": "markdown",
   "id": "f1fa3800",
   "metadata": {},
   "source": [
    "<h3 style=\"color:royalblue; text-align:left; font-size:110%; font-family:Georgia\"><br>2. <u>Matrice de confusion entre les données \"test\" et les résultats prédictifs de la régression logistique</u></h3>"
   ]
  },
  {
   "cell_type": "code",
   "execution_count": 13,
   "id": "53861e56",
   "metadata": {},
   "outputs": [
    {
     "name": "stdout",
     "output_type": "stream",
     "text": [
      "              precision    recall  f1-score   support\n",
      "\n",
      "         0.0       0.99      0.93      0.96       103\n",
      "         1.0       0.97      0.99      0.98       197\n",
      "\n",
      "    accuracy                           0.97       300\n",
      "   macro avg       0.98      0.96      0.97       300\n",
      "weighted avg       0.97      0.97      0.97       300\n",
      "\n",
      "[[ 96   7]\n",
      " [  1 196]]\n"
     ]
    },
    {
     "data": {
      "image/png": "[encoded data removed]",
      "text/plain": [
       "<Figure size 432x288 with 2 Axes>"
      ]
     },
     "metadata": {
      "needs_background": "light"
     },
     "output_type": "display_data"
    }
   ],
   "source": [
    "# Matrice de confusion\n",
    "predictions_glm = model_GLM.predict(x_test)\n",
    "\n",
    "# définir le seuil de la probabilité d'acceptable de vrais billets\n",
    "predictions_nominal = [ 0 if x < 0.5 else 1 for x in predictions_glm]\n",
    "\n",
    "print(classification_report(y_test, predictions_nominal))\n",
    "print(confusion_matrix(y_test, predictions_nominal))\n",
    "\n",
    "ConfusionMatrixDisplay.from_predictions(y_test, predictions_nominal)\n",
    "plt.show()"
   ]
  },
  {
   "cell_type": "code",
   "execution_count": 14,
   "id": "10010bee",
   "metadata": {},
   "outputs": [],
   "source": [
    "#precision_glm = precision_score(y_test, predictions_nominal, pos_label=1.0)\n",
    "#recall_glm = recall_score(y_test, predictions_nominal, pos_label=1.0)\n",
    "#TP / (TP + FP)\n",
    "#print(f\"Precision score: {precision_glm:.2f}\")\n",
    "#print(f\"Recall score: {precision_glm:.2f}\")"
   ]
  },
  {
   "cell_type": "markdown",
   "id": "b10ca5bd",
   "metadata": {},
   "source": [
    "<h2 style=\"color:black; text-align:center; background-color:AliceBlue; font-size:150%; font-family:Georgia; border:2px solid DodgerBlue\"><br>II. Clustering K-MEAN<br></h2>"
   ]
  },
  {
   "cell_type": "markdown",
   "id": "a0a39991",
   "metadata": {},
   "source": [
    "<ul style=\"font-family:Time\"> \n",
    "    <li>Contrairement à la régression logistique, le technique de partitionnement K-MEANS n'utilise pas le variable à expliquer ('is_genuine') car il correspond à une classification <b>non-paramétrique</b></li>\n",
    "    <li>La performance de cette méthode sera évaluée par l'indice de <b>l'homogénéite</b> et <b>la matrice de confusion</b> entre les clusters prédits et les types de billets issus de données brutes (et complètes)</li>\n",
    "    <li>Le choix du nombre de clusters K-MEANS est basé sur le résultat de la méthode du coude</li>"
   ]
  },
  {
   "cell_type": "code",
   "execution_count": 15,
   "id": "031b9c85",
   "metadata": {},
   "outputs": [
    {
     "name": "stdout",
     "output_type": "stream",
     "text": [
      "\u001b[34m\u001b[1mDonnées normalisées pour la classification K-MEANS\u001b[0m\n"
     ]
    },
    {
     "data": {
      "text/html": [
       "<div>\n",
       "<style scoped>\n",
       "    .dataframe tbody tr th:only-of-type {\n",
       "        vertical-align: middle;\n",
       "    }\n",
       "\n",
       "    .dataframe tbody tr th {\n",
       "        vertical-align: top;\n",
       "    }\n",
       "\n",
       "    .dataframe thead th {\n",
       "        text-align: right;\n",
       "    }\n",
       "</style>\n",
       "<table border=\"1\" class=\"dataframe\">\n",
       "  <thead>\n",
       "    <tr style=\"text-align: right;\">\n",
       "      <th></th>\n",
       "      <th>margin_low</th>\n",
       "      <th>diagonal</th>\n",
       "      <th>height_left</th>\n",
       "      <th>height_right</th>\n",
       "      <th>margin_up</th>\n",
       "      <th>length</th>\n",
       "    </tr>\n",
       "  </thead>\n",
       "  <tbody>\n",
       "    <tr>\n",
       "      <th>0</th>\n",
       "      <td>0.392857</td>\n",
       "      <td>0.390863</td>\n",
       "      <td>0.988506</td>\n",
       "      <td>1.000000</td>\n",
       "      <td>0.378049</td>\n",
       "      <td>0.684880</td>\n",
       "    </tr>\n",
       "    <tr>\n",
       "      <th>1</th>\n",
       "      <td>0.201531</td>\n",
       "      <td>0.213198</td>\n",
       "      <td>0.126437</td>\n",
       "      <td>0.367647</td>\n",
       "      <td>0.439024</td>\n",
       "      <td>0.739867</td>\n",
       "    </tr>\n",
       "    <tr>\n",
       "      <th>2</th>\n",
       "      <td>0.362245</td>\n",
       "      <td>0.837563</td>\n",
       "      <td>0.770115</td>\n",
       "      <td>0.289216</td>\n",
       "      <td>0.408537</td>\n",
       "      <td>0.754672</td>\n",
       "    </tr>\n",
       "    <tr>\n",
       "      <th>3</th>\n",
       "      <td>0.163265</td>\n",
       "      <td>0.162437</td>\n",
       "      <td>0.442529</td>\n",
       "      <td>0.504902</td>\n",
       "      <td>0.451220</td>\n",
       "      <td>0.828693</td>\n",
       "    </tr>\n",
       "    <tr>\n",
       "      <th>4</th>\n",
       "      <td>0.270408</td>\n",
       "      <td>0.350254</td>\n",
       "      <td>0.655172</td>\n",
       "      <td>0.269608</td>\n",
       "      <td>0.737805</td>\n",
       "      <td>0.623548</td>\n",
       "    </tr>\n",
       "  </tbody>\n",
       "</table>\n",
       "</div>"
      ],
      "text/plain": [
       "   margin_low  diagonal  height_left  height_right  margin_up    length\n",
       "0    0.392857  0.390863     0.988506      1.000000   0.378049  0.684880\n",
       "1    0.201531  0.213198     0.126437      0.367647   0.439024  0.739867\n",
       "2    0.362245  0.837563     0.770115      0.289216   0.408537  0.754672\n",
       "3    0.163265  0.162437     0.442529      0.504902   0.451220  0.828693\n",
       "4    0.270408  0.350254     0.655172      0.269608   0.737805  0.623548"
      ]
     },
     "metadata": {},
     "output_type": "display_data"
    },
    {
     "data": {
      "text/plain": [
       "(1500, 6)"
      ]
     },
     "metadata": {},
     "output_type": "display_data"
    }
   ],
   "source": [
    "# Extraction de données\n",
    "print(Fore.BLUE + Style.BRIGHT + f\"Données normalisées pour la classification K-MEANS\"+ Style.RESET_ALL )\n",
    "billets_k_means = billets_complet_norma.loc[:,['margin_low','diagonal','height_left','height_right','margin_up','length']]\n",
    "display(billets_k_means.head())\n",
    "display(billets_k_means.shape)"
   ]
  },
  {
   "cell_type": "markdown",
   "id": "3a0c8964",
   "metadata": {},
   "source": [
    "<h3 style=\"color:royalblue; text-align:left; font-size:110%; font-family:Georgia\"><br>1. <u>Choix du nombre de cluster K-MEANS</u>: méthode du coude</h3>"
   ]
  },
  {
   "cell_type": "code",
   "execution_count": 16,
   "id": "f94977f0",
   "metadata": {},
   "outputs": [
    {
     "data": {
      "image/png": "[encoded data removed]",
      "text/plain": [
       "<Figure size 720x216 with 1 Axes>"
      ]
     },
     "metadata": {
      "needs_background": "light"
     },
     "output_type": "display_data"
    },
    {
     "name": "stdout",
     "output_type": "stream",
     "text": [
      "\u001b[34m\u001b[1mNombre de groupes optimal choisi pour la méthode K-MEANS est 2\u001b[0m\n"
     ]
    }
   ],
   "source": [
    "# Utilisation la méthode du coude pour trouver le nombre de clusters (groupes) optimal\n",
    "inertias = [] \n",
    "mapping = {} \n",
    "K = range(1,10) \n",
    "  \n",
    "for k in K: \n",
    "    kmeanModel = KMeans(n_clusters=k, random_state=0 ).fit(billets_k_means)     \n",
    "    inertias.append(kmeanModel.inertia_) \n",
    "    mapping[k] = kmeanModel.inertia_ \n",
    "    \n",
    "#Valeurs de SSE (Sum of Square Error)\n",
    "#for key,val in mapping.items(): \n",
    "    #print(str(key)+' : '+str(val)) \n",
    "    \n",
    "plt.figure(figsize = (10,3))\n",
    "plt.plot(K, inertias, 'bx-') \n",
    "plt.xlabel('Nombre de clusters') \n",
    "plt.ylabel('Sum of Square Error (SSE)/Inertie') \n",
    "plt.title('Méthode Elbow en utilisant SSE/inertie') \n",
    "plt.show()\n",
    "print(Fore.BLUE + Style.BRIGHT + f\"Nombre de groupes optimal choisi pour la méthode K-MEANS est 2\"+ Style.RESET_ALL )"
   ]
  },
  {
   "cell_type": "markdown",
   "id": "9f488b06",
   "metadata": {},
   "source": [
    "<h3 style=\"color:royalblue; text-align:left; font-size:110%; font-family:Georgia\"><br>2. <u>Classification K-MEANS</u></h3>"
   ]
  },
  {
   "cell_type": "code",
   "execution_count": 17,
   "id": "12d667c7",
   "metadata": {
    "scrolled": true
   },
   "outputs": [
    {
     "name": "stdout",
     "output_type": "stream",
     "text": [
      "\u001b[34m\u001b[1m\u001b[0m\n"
     ]
    }
   ],
   "source": [
    "n_clust = 2\n",
    "\n",
    "# Clustering par K-means\n",
    "model_km = KMeans(n_clusters= n_clust, random_state=0)\n",
    "model_km.fit(billets_k_means)\n",
    "\n",
    "# Récupération des clusters attribués à chaque individu\n",
    "clusters = model_km.labels_\n",
    "clusters = np.select([clusters == 0, clusters == 1], [1, 0], clusters)\n",
    "names_final = billets_k_means.index\n",
    "print(Fore.BLUE + Style.BRIGHT + f\"\" + Style.RESET_ALL)\n",
    "k_moyenne = pd.DataFrame({\"Cluster\": clusters, \"index\" : names_final})\n",
    "#k_moyenne.Cluster.replace([0, 1],[1, 0], inplace = True)\n",
    "\n",
    "#k_moyenne[\"Cluster\"] = k_moyenne[\"Cluster\"] + 1 # Renommer les clusters\n",
    "#print(k_moyenne.head())\n",
    "k_moyenne_pivot = k_moyenne.pivot_table(index = \"index\", columns=\"Cluster\", aggfunc=len, fill_value=0)\n",
    "#k_moyenne_pivot.head()"
   ]
  },
  {
   "cell_type": "code",
   "execution_count": 18,
   "id": "b03af359",
   "metadata": {},
   "outputs": [
    {
     "name": "stdout",
     "output_type": "stream",
     "text": [
      "\u001b[34m\u001b[1mHomogénéite entre les données brutes et celles issues de la classification K-MEANS est 88.44%\u001b[0m\n"
     ]
    }
   ],
   "source": [
    "Homogeneite_KMEANS = round(metrics.homogeneity_score(billets_complet_norma['is_genuine'], clusters)*100, 3)\n",
    "print(Fore.BLUE + Style.BRIGHT + f\"Homogénéite entre les données brutes et celles issues de la classification K-MEANS est {Homogeneite_KMEANS}%\" + Style.RESET_ALL)"
   ]
  },
  {
   "cell_type": "code",
   "execution_count": 19,
   "id": "39a3ab94",
   "metadata": {},
   "outputs": [
    {
     "name": "stdout",
     "output_type": "stream",
     "text": [
      "Nombre de billets par cluster K-MEANS\n"
     ]
    },
    {
     "data": {
      "text/html": [
       "<div>\n",
       "<style scoped>\n",
       "    .dataframe tbody tr th:only-of-type {\n",
       "        vertical-align: middle;\n",
       "    }\n",
       "\n",
       "    .dataframe tbody tr th {\n",
       "        vertical-align: top;\n",
       "    }\n",
       "\n",
       "    .dataframe thead th {\n",
       "        text-align: right;\n",
       "    }\n",
       "</style>\n",
       "<table border=\"1\" class=\"dataframe\">\n",
       "  <thead>\n",
       "    <tr style=\"text-align: right;\">\n",
       "      <th></th>\n",
       "      <th>Nombre de billet</th>\n",
       "    </tr>\n",
       "    <tr>\n",
       "      <th>Cluster</th>\n",
       "      <th></th>\n",
       "    </tr>\n",
       "  </thead>\n",
       "  <tbody>\n",
       "    <tr>\n",
       "      <th>0</th>\n",
       "      <td>495</td>\n",
       "    </tr>\n",
       "    <tr>\n",
       "      <th>1</th>\n",
       "      <td>1005</td>\n",
       "    </tr>\n",
       "  </tbody>\n",
       "</table>\n",
       "</div>"
      ],
      "text/plain": [
       "         Nombre de billet\n",
       "Cluster                  \n",
       "0                     495\n",
       "1                    1005"
      ]
     },
     "metadata": {},
     "output_type": "display_data"
    },
    {
     "name": "stdout",
     "output_type": "stream",
     "text": [
      "\u001b[34m\u001b[1mGrâce à la valeur de l'homogénéité citée en dessus, on peut déduire que presque 90% des clusters de K-MEANS sont similaires aux clusters de données brutes, malgré une différenciation dans la nommenclature du nom de clusters\u001b[0m\n"
     ]
    }
   ],
   "source": [
    "print(f\"Nombre de billets par cluster K-MEANS\")\n",
    "nb_billets = k_moyenne.groupby(by='Cluster').index.count().to_frame()\n",
    "nb_billets.rename(columns = {'index': \"Nombre de billet\"}, inplace = True)\n",
    "display(nb_billets)\n",
    "print(Fore.BLUE + Style.BRIGHT + f\"Grâce à la valeur de l'homogénéité citée en dessus, on peut déduire que \\\n",
    "presque 90% des clusters de K-MEANS sont similaires aux clusters de données brutes, \\\n",
    "malgré une différenciation dans la nommenclature du nom de clusters\" + Style.RESET_ALL)"
   ]
  },
  {
   "cell_type": "markdown",
   "id": "f142805f",
   "metadata": {},
   "source": [
    "<h6 style=\"color:royalblue; text-align:left; font-family:Georgia\"><br><u>Modèle de la classification K-MEANS</u></h6>\n",
    "<ul style=\"font-family:Time\">\n",
    "    <b>model_k_means = model_km.predict()</b>\n",
    "</ul>"
   ]
  },
  {
   "cell_type": "markdown",
   "id": "32acfb08",
   "metadata": {},
   "source": [
    "<h3 style=\"color:royalblue; text-align:left; font-size:110%; font-family:Georgia\"><br>2. <u>Comparaison (par PCA) la répartition de clusters de K-MEANS et de données brutes sur un plan 2D</u></h3>"
   ]
  },
  {
   "cell_type": "code",
   "execution_count": 20,
   "id": "af222014",
   "metadata": {},
   "outputs": [
    {
     "data": {
      "text/plain": [
       "Text(0.5, 1.0, 'Projection des 2 centres K-MEANS')"
      ]
     },
     "execution_count": 20,
     "metadata": {},
     "output_type": "execute_result"
    },
    {
     "data": {
      "image/png": "[encoded data removed]",
      "text/plain": [
       "<Figure size 720x720 with 3 Axes>"
      ]
     },
     "metadata": {
      "needs_background": "light"
     },
     "output_type": "display_data"
    }
   ],
   "source": [
    "#Paramétrer la position et la taille des diagrammes\n",
    "figure = plt.figure(figsize = (10, 10))\n",
    "plt.gcf().subplots_adjust(left = 0.2, bottom = 0.2,\n",
    "                       right = 1.5, top = 1, \n",
    "                       wspace = 0.5, hspace = 0.5)\n",
    "\n",
    "# PCA des indivisus (billets)\n",
    "pca = decomposition.PCA(n_components=2).fit(billets_k_means) # nombre de components = 2\n",
    "X_projected = pca.transform(billets_k_means)\n",
    "\n",
    "# Affichage du clustering k-means\n",
    "\n",
    "axes = figure.add_subplot(3, 2, 2)\n",
    "plt.scatter(X_projected[:, 0], X_projected[:, 1], c=clusters.astype(np.float), edgecolor=\"k\")\n",
    "plt.title(f\"Projection de {X_projected.shape[0]} billets issus de K-MEANS\")\n",
    "\n",
    "# Affichage de billet par type (données intitiales)\n",
    "axes = figure.add_subplot(3, 2, 1)\n",
    "plt.scatter(X_projected[:, 0], X_projected[:, 1], c=billets_complet_norma.is_genuine.astype(np.float), edgecolor=\"k\")\n",
    "#plt.title(\"Projection de {} billets pour la paramétrisation\".format(X_projected.shape[0]))\n",
    "plt.title(f\"Projection de {X_projected.shape[0]} billets pour la paramétrisation\")\n",
    "\n",
    "\n",
    "axes = figure.add_subplot(3, 2, 4)\n",
    "centroids = model_km.cluster_centers_\n",
    "centroids_projected = pca.transform(centroids)\n",
    "plt.scatter(centroids_projected[:,0],centroids_projected[:,1])\n",
    "plt.title(f\"Projection des {len(centroids)} centres K-MEANS\")"
   ]
  },
  {
   "cell_type": "markdown",
   "id": "31040ee2",
   "metadata": {},
   "source": [
    "<h3 style=\"color:royalblue; text-align:left; font-size:110%; font-family:Georgia\"><br>3. <u>Matrice de confusion entre les données brutes et les clusters de K_MEANS</u></h3>"
   ]
  },
  {
   "cell_type": "code",
   "execution_count": 21,
   "id": "cad8a47e",
   "metadata": {},
   "outputs": [
    {
     "name": "stdout",
     "output_type": "stream",
     "text": [
      "              precision    recall  f1-score   support\n",
      "\n",
      "         0.0       0.98      0.97      0.98       500\n",
      "         1.0       0.99      0.99      0.99      1000\n",
      "\n",
      "    accuracy                           0.99      1500\n",
      "   macro avg       0.99      0.98      0.98      1500\n",
      "weighted avg       0.99      0.99      0.99      1500\n",
      "\n",
      "[[487  13]\n",
      " [  8 992]]\n"
     ]
    },
    {
     "data": {
      "image/png": "[encoded data removed]",
      "text/plain": [
       "<Figure size 432x288 with 2 Axes>"
      ]
     },
     "metadata": {
      "needs_background": "light"
     },
     "output_type": "display_data"
    }
   ],
   "source": [
    "# Matrice de confusion entre les clusters de K_MEANS et les types de billets d'apprentissage\n",
    "print(classification_report(billets_complet_norma['is_genuine'], clusters))\n",
    "print(confusion_matrix(billets_complet_norma['is_genuine'], clusters))\n",
    "ConfusionMatrixDisplay.from_predictions(billets_complet_norma['is_genuine'], clusters)\n",
    "plt.show()"
   ]
  },
  {
   "cell_type": "markdown",
   "id": "b41031fe",
   "metadata": {},
   "source": [
    "<h4 style=\"color:Maroon; text-align:left; font-size:100%; font-family:Georgia\"><br><u>Remarque</u> (si les indicateurs affichés en-dessus ayant une valeur inférieure à 0,15 )<br></h4>\n",
    "<ul style=\"font-family:Time\">\n",
    "    <li>La précision et le rappel (ou autres indicateurs) du matrice de confusion obtenus dans le cas de la classification K-MEANS peuvent avoir des valeurs très faibles <b>(inférieurs à 0,05)</b>. Ce phénomène ne signifie pas qu'elle n'est pas fiable ou n'a pas de capacité prédictive car <b>presque 90% des données classifiées sont cohérentes aux données brutes</b> (partie II.2)</li> \n",
    "    <li>Cette situation dû à la <b>nomenclature automatique de clusters</b> issus de la <b>classification non-supervisée</b>. Pour avoir les bons résultats, il faut les recalculer en utilisant ce formule: <b>(1 -  Valeur d'Indicateur)</b> </li>\n",
    "    <li><b>Les indicateurs doivent normalement ayant une valeur suppérieure à 0,95 (ou 95%)</b></li>\n",
    "</ul>"
   ]
  },
  {
   "cell_type": "markdown",
   "id": "4e9f2709",
   "metadata": {},
   "source": [
    "<h2 style=\"color:black; text-align:center; background-color:AliceBlue; font-size:150%; font-family:Georgia; border:2px solid DodgerBlue\"><br>III. Choix du modèle<br></h2>"
   ]
  },
  {
   "cell_type": "markdown",
   "id": "8a346efa",
   "metadata": {},
   "source": [
    "<ul style=\"font-family:Time\">\n",
    "    <li>La <b>précision</b> signifie <b>le pourcentage de valeurs positives/négatives prédites</b> qui sont <b>réellement positives/négatives</b></li>\n",
    "    <li>Le <b>rappel (recall)</b> signifie <b>le pourcentage de valeurs positives/négatives qui sont été <b>correctement</b> prédites sur tous les enregistrements positifs/négatives</b></li>\n",
    "    <li>Afin de choisir le modèle le plus performant, je vais comparer les valeurs des indicateurs cités en-dessus; plus qu'elles sont grandes, plus le modèle est fiable</li>\n",
    "    <li>En comparant les résultats de matrices de confusion issus des 2 méthodes (appliqués sur les mêmes données 'test'), on peut déduire que <b>la régression logistique</b> est <b>plus performante</b> que la classification K-MEANS. De plus, un des points négatifs du partitionnenement K-MEANS est la nomenclature des clusters. En fait, c'est une classification non paramétrique, donc, la génération du nom de clusters est aléatoire et peut causer une incohérence du nom de billets prédictifs</li>\n",
    "</ul>"
   ]
  },
  {
   "cell_type": "markdown",
   "id": "68699a29",
   "metadata": {},
   "source": [
    "<h1 style=\"color:black; text-align:center; background-color:GhostWhite; font-size:300%; font-family:Georgia; border:2px solid LightSteelBlue\"><br>PARTIE 3<br><br>Test du modèle<br></h1>"
   ]
  },
  {
   "cell_type": "code",
   "execution_count": 22,
   "id": "555ab2d3",
   "metadata": {},
   "outputs": [],
   "source": [
    "def identification_billet_RL(data_a_verifie):\n",
    "    data_extract = data_a_verifie.loc[:, [\"diagonal\", \"height_left\", \"height_right\", \"margin_low\", \"margin_up\", \"length\"]]\n",
    "    data_norma = normalisation(data_extract)\n",
    "\n",
    "    # Régression logistique\n",
    "    predictions_glm = model_GLM.predict(data_norma)\n",
    "    predictions_glm\n",
    "    predictions_nominal_glm = [ \"False\" if x < 0.5 else \"True\" for x in predictions_glm]\n",
    "\n",
    "    predict_RL_df = pd.DataFrame(predictions_nominal_glm)\n",
    "    predict_RL_df.rename(columns = {0:\"Classe_RL\"}, inplace = True)\n",
    "    \n",
    "    data_frames = [predict_RL_df, data_a_verifie]\n",
    "    predict_comp1 = pd.concat(data_frames, join='inner', axis=1)\n",
    "    return predict_comp1\n",
    "\n",
    "def identification_billet_K_MEANS(data_a_verifie):\n",
    "    data_extract = data_a_verifie.loc[:, [\"diagonal\", \"height_left\", \"height_right\", \"margin_low\", \"margin_up\", \"length\"]]\n",
    "    data_norma = normalisation(data_extract)\n",
    "    \n",
    "    # K_MEANS\n",
    "    predict_k_means = model_km.predict(data_norma)\n",
    "    predict_k_means = np.select([predict_k_means == 0, predict_k_means == 1], [\"True\", \"False\"], predict_k_means)\n",
    "    \n",
    "    predict_KMEANS_df = pd.DataFrame(predict_k_means)\n",
    "    predict_KMEANS_df.rename(columns = {0:\"Classe_KMEANS\"}, inplace = True)\n",
    "    \n",
    "    data_frames = [predict_KMEANS_df, data_a_verifie]\n",
    "    predict_comp2 = pd.concat(data_frames, join='inner', axis=1)\n",
    "    return predict_comp2"
   ]
  },
  {
   "cell_type": "markdown",
   "id": "5378b14a",
   "metadata": {},
   "source": [
    "<h4 style=\"color:Maroon; text-align:left; font-size:100%; font-family:Georgia\"><br>Copier et remplacer le nom dans les parenthèses par le nom du dataframe contenant les données de billets à analyser</h4>"
   ]
  },
  {
   "cell_type": "markdown",
   "id": "2171553a",
   "metadata": {},
   "source": [
    "<h4 style=\"color:Navy; text-align:center; font-size:100%; font-family:Georgia; background-color:LemonChiffon; border:2px solid DarkOrange\"><br>identification_billet_RL(data_a_verifie)<br></h4>"
   ]
  },
  {
   "cell_type": "markdown",
   "id": "eef95aa7",
   "metadata": {},
   "source": [
    "<h4 style=\"color:Maroon; text-align:left; font-size:100%; font-family:Georgia\"><br>Exemple d'un test de l’algorithme </h4>"
   ]
  },
  {
   "cell_type": "markdown",
   "id": "cec8beb0",
   "metadata": {},
   "source": [
    "<ul style=\"font-family:Time\">\n",
    "identification_billet_RL(billets_production)\n",
    "</ul>"
   ]
  },
  {
   "cell_type": "code",
   "execution_count": 23,
   "id": "61c2caa8",
   "metadata": {
    "scrolled": true
   },
   "outputs": [
    {
     "data": {
      "text/html": [
       "<div>\n",
       "<style scoped>\n",
       "    .dataframe tbody tr th:only-of-type {\n",
       "        vertical-align: middle;\n",
       "    }\n",
       "\n",
       "    .dataframe tbody tr th {\n",
       "        vertical-align: top;\n",
       "    }\n",
       "\n",
       "    .dataframe thead th {\n",
       "        text-align: right;\n",
       "    }\n",
       "</style>\n",
       "<table border=\"1\" class=\"dataframe\">\n",
       "  <thead>\n",
       "    <tr style=\"text-align: right;\">\n",
       "      <th></th>\n",
       "      <th>Classe_RL</th>\n",
       "      <th>diagonal</th>\n",
       "      <th>height_left</th>\n",
       "      <th>height_right</th>\n",
       "      <th>margin_low</th>\n",
       "      <th>margin_up</th>\n",
       "      <th>length</th>\n",
       "      <th>id</th>\n",
       "    </tr>\n",
       "  </thead>\n",
       "  <tbody>\n",
       "    <tr>\n",
       "      <th>0</th>\n",
       "      <td>False</td>\n",
       "      <td>171.76</td>\n",
       "      <td>104.01</td>\n",
       "      <td>103.54</td>\n",
       "      <td>5.21</td>\n",
       "      <td>3.30</td>\n",
       "      <td>111.42</td>\n",
       "      <td>A_1</td>\n",
       "    </tr>\n",
       "    <tr>\n",
       "      <th>1</th>\n",
       "      <td>False</td>\n",
       "      <td>171.87</td>\n",
       "      <td>104.17</td>\n",
       "      <td>104.13</td>\n",
       "      <td>6.00</td>\n",
       "      <td>3.31</td>\n",
       "      <td>112.09</td>\n",
       "      <td>A_2</td>\n",
       "    </tr>\n",
       "    <tr>\n",
       "      <th>2</th>\n",
       "      <td>False</td>\n",
       "      <td>172.00</td>\n",
       "      <td>104.58</td>\n",
       "      <td>104.29</td>\n",
       "      <td>4.99</td>\n",
       "      <td>3.39</td>\n",
       "      <td>111.57</td>\n",
       "      <td>A_3</td>\n",
       "    </tr>\n",
       "    <tr>\n",
       "      <th>3</th>\n",
       "      <td>True</td>\n",
       "      <td>172.49</td>\n",
       "      <td>104.55</td>\n",
       "      <td>104.34</td>\n",
       "      <td>4.44</td>\n",
       "      <td>3.03</td>\n",
       "      <td>113.20</td>\n",
       "      <td>A_4</td>\n",
       "    </tr>\n",
       "    <tr>\n",
       "      <th>4</th>\n",
       "      <td>True</td>\n",
       "      <td>171.65</td>\n",
       "      <td>103.63</td>\n",
       "      <td>103.56</td>\n",
       "      <td>3.77</td>\n",
       "      <td>3.16</td>\n",
       "      <td>113.33</td>\n",
       "      <td>A_5</td>\n",
       "    </tr>\n",
       "  </tbody>\n",
       "</table>\n",
       "</div>"
      ],
      "text/plain": [
       "  Classe_RL  diagonal  height_left  height_right  margin_low  margin_up  \\\n",
       "0     False    171.76       104.01        103.54        5.21       3.30   \n",
       "1     False    171.87       104.17        104.13        6.00       3.31   \n",
       "2     False    172.00       104.58        104.29        4.99       3.39   \n",
       "3      True    172.49       104.55        104.34        4.44       3.03   \n",
       "4      True    171.65       103.63        103.56        3.77       3.16   \n",
       "\n",
       "   length   id  \n",
       "0  111.42  A_1  \n",
       "1  112.09  A_2  \n",
       "2  111.57  A_3  \n",
       "3  113.20  A_4  \n",
       "4  113.33  A_5  "
      ]
     },
     "execution_count": 23,
     "metadata": {},
     "output_type": "execute_result"
    }
   ],
   "source": [
    "identification_billet_RL(billets_production)"
   ]
  }
 ],
 "metadata": {
  "kernelspec": {
   "display_name": "Python 3",
   "language": "python",
   "name": "python3"
  },
  "language_info": {
   "codemirror_mode": {
    "name": "ipython",
    "version": 3
   },
   "file_extension": ".py",
   "mimetype": "text/x-python",
   "name": "python",
   "nbconvert_exporter": "python",
   "pygments_lexer": "ipython3",
   "version": "3.8.8"
  }
 },
 "nbformat": 4,
 "nbformat_minor": 5
}
